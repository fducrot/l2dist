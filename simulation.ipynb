{
 "cells": [
  {
   "cell_type": "markdown",
   "metadata": {},
   "source": [
    "# Simulation probabiliste"
   ]
  },
  {
   "cell_type": "markdown",
   "metadata": {},
   "source": [
    "Importons d'abord les modules `random` et `numpy.random`, ainsi que `numpy` et `matplotlib`"
   ]
  },
  {
   "cell_type": "code",
   "execution_count": 11,
   "metadata": {},
   "outputs": [],
   "source": [
    "import random as rd\n",
    "import numpy.random as npr\n",
    "import matplotlib.pyplot as plt\n",
    "import numpy as np"
   ]
  },
  {
   "cell_type": "markdown",
   "metadata": {},
   "source": [
    "## Différentes lois de probabilité\n",
    "\n",
    "Dans cette partie, nous allons faire ensemble quelques expérimentations pour nous faire la main."
   ]
  },
  {
   "cell_type": "markdown",
   "metadata": {},
   "source": [
    "### Tirage d'entiers équiprobables entre 1 et 6\n",
    "\n",
    "On veut simuler le tirage de N dés équilibrés, et afficher les fréquences d'apparition des différentes faces."
   ]
  },
  {
   "cell_type": "markdown",
   "metadata": {},
   "source": [
    "Commençons par utiliser le module `random` et effectuons une boucle simulant les N tirages :"
   ]
  },
  {
   "cell_type": "code",
   "execution_count": 12,
   "metadata": {},
   "outputs": [],
   "source": [
    "def lancer_des(N):\n",
    "    compteurs = [0]*6\n",
    "    for k in range(1000000):\n",
    "        i = rd.randint(1,6)\n",
    "        compteurs[i-1] += 1\n",
    "        frequences = [x/N for x in compteurs]\n",
    "    plt.bar(range(1,7),frequences)"
   ]
  },
  {
   "cell_type": "code",
   "execution_count": 13,
   "metadata": {},
   "outputs": [
    {
     "data": {
      "image/png": "[encoded data removed]",
      "text/plain": [
       "<Figure size 432x288 with 1 Axes>"
      ]
     },
     "metadata": {
      "needs_background": "light"
     },
     "output_type": "display_data"
    }
   ],
   "source": [
    "lancer_des(1000000)"
   ]
  },
  {
   "cell_type": "markdown",
   "metadata": {},
   "source": [
    "Utilisons maintenant `numpy` :"
   ]
  },
  {
   "cell_type": "code",
   "execution_count": 14,
   "metadata": {},
   "outputs": [],
   "source": [
    "def lancer_des_numpy(N):\n",
    "    x = npr.randint(1,7,N)\n",
    "    compteurs = [np.count_nonzero(x == i) for i in range(1,7)]\n",
    "    frequences = [x/N for x in compteurs]\n",
    "    plt.bar(range(1,7),frequences)\n"
   ]
  },
  {
   "cell_type": "code",
   "execution_count": 15,
   "metadata": {},
   "outputs": [
    {
     "data": {
      "image/png": "[encoded data removed]",
      "text/plain": [
       "<Figure size 432x288 with 1 Axes>"
      ]
     },
     "metadata": {
      "needs_background": "light"
     },
     "output_type": "display_data"
    }
   ],
   "source": [
    "lancer_des_numpy(1000000)"
   ]
  },
  {
   "cell_type": "markdown",
   "metadata": {},
   "source": [
    "### La loi de Bernoulli de paramètre $p$\n",
    "\n",
    "Une variable aléatoire suit la loi de Bernoulli de paramètre $p$ si elle vaut 1 avec probabilité $p$ et 0 avec probabilité $1-p$.\n",
    "\n",
    "On tire un nombre aléatoire uniforme dans $x\\in [0,1]$, et la variable aléatoire vaut 1 si $x<p$ et 0 sinon.\n",
    "\n",
    "Programmons ceci en faisant une boucle python :"
   ]
  },
  {
   "cell_type": "code",
   "execution_count": 16,
   "metadata": {},
   "outputs": [],
   "source": [
    "def bernoulli(p,N):\n",
    "    \"\"\"\n",
    "    Fabrique un tableau numpy de taille N, contenant N tirages de \n",
    "    Bernoulli de paramètre p\n",
    "    \"\"\"\n",
    "    x = npr.rand(N)\n",
    "    for i in range(N):\n",
    "        if x[i] < p:\n",
    "            x[i] = 1\n",
    "        else:\n",
    "            x[i] = 0\n",
    "    return x"
   ]
  },
  {
   "cell_type": "markdown",
   "metadata": {},
   "source": [
    "Une petite astuce : si $X$ suit une loi uniforme sur $[0,1]$, alors la partie entière $\\lfloor p+X \\rfloor$ suit la loi de Bernoulli de paramètre $p$.\n",
    "\n",
    "Ceci permet d'utiliser facilement `numpy` :"
   ]
  },
  {
   "cell_type": "code",
   "execution_count": 17,
   "metadata": {},
   "outputs": [],
   "source": [
    "def bernoulli2(p,N):\n",
    "    x = npr.rand(N)\n",
    "    return np.floor(p+x)"
   ]
  },
  {
   "cell_type": "markdown",
   "metadata": {},
   "source": [
    "On a appris que  l'espérance et la variance de la loi binomiale valent respectivement $p$ et $p(1-p)$. \n",
    "\n",
    "Vérifions-le en calculant la moyenne emprique et la variance empirique d'un grand échantillon :"
   ]
  },
  {
   "cell_type": "code",
   "execution_count": 60,
   "metadata": {},
   "outputs": [
    {
     "name": "stdout",
     "output_type": "stream",
     "text": [
      "Moyenne : 0.3331547\n",
      "Variance : 0.22216264586790968\n"
     ]
    }
   ],
   "source": [
    "p = 1/3\n",
    "N = 10000000\n",
    "x = bernoulli2(p,N)\n",
    "print(\"Moyenne :\", np.mean(x))  # on attend 1/3\n",
    "print(\"Variance :\", np.var(x))  # on attend 2/9"
   ]
  },
  {
   "cell_type": "markdown",
   "metadata": {},
   "source": [
    "### La loi de Gauss ou loi normale"
   ]
  },
  {
   "cell_type": "code",
   "execution_count": 18,
   "metadata": {},
   "outputs": [],
   "source": [
    "x = npr.normal(0,1,100000)"
   ]
  },
  {
   "cell_type": "markdown",
   "metadata": {},
   "source": [
    "L'histogramme normé (option `denisty = True`) de répartitition de ce vecteur Gaussien"
   ]
  },
  {
   "cell_type": "code",
   "execution_count": 19,
   "metadata": {},
   "outputs": [
    {
     "data": {
      "text/plain": [
       "(array([2.86875332e-04, 1.72125199e-04, 1.72125199e-04, 8.03250929e-04,\n",
       "        1.37700159e-03, 2.12287746e-03, 4.64738038e-03, 6.99975810e-03,\n",
       "        1.12455130e-02, 1.62945189e-02, 3.02940350e-02, 4.28017995e-02,\n",
       "        5.88668181e-02, 8.17594696e-02, 1.08324125e-01, 1.43036040e-01,\n",
       "        1.82223211e-01, 2.25541386e-01, 2.64097431e-01, 3.03341976e-01,\n",
       "        3.41381645e-01, 3.62094044e-01, 3.89347200e-01, 3.96060083e-01,\n",
       "        3.92215954e-01, 3.75290309e-01, 3.48151903e-01, 3.22160998e-01,\n",
       "        2.82629577e-01, 2.39655652e-01, 2.02820860e-01, 1.61281312e-01,\n",
       "        1.25651395e-01, 9.66196118e-02, 7.12024574e-02, 5.11785592e-02,\n",
       "        3.56872913e-02, 2.16304000e-02, 1.42863915e-02, 9.98326155e-03,\n",
       "        6.08175704e-03, 3.32775385e-03, 2.06550239e-03, 1.20487639e-03,\n",
       "        6.31125730e-04, 1.72125199e-04, 1.14750133e-04, 1.14750133e-04,\n",
       "        0.00000000e+00, 5.73750664e-05]),\n",
       " array([-4.14163987, -3.96734813, -3.79305639, -3.61876466, -3.44447292,\n",
       "        -3.27018118, -3.09588945, -2.92159771, -2.74730597, -2.57301423,\n",
       "        -2.3987225 , -2.22443076, -2.05013902, -1.87584728, -1.70155555,\n",
       "        -1.52726381, -1.35297207, -1.17868033, -1.0043886 , -0.83009686,\n",
       "        -0.65580512, -0.48151338, -0.30722165, -0.13292991,  0.04136183,\n",
       "         0.21565356,  0.3899453 ,  0.56423704,  0.73852878,  0.91282051,\n",
       "         1.08711225,  1.26140399,  1.43569573,  1.60998746,  1.7842792 ,\n",
       "         1.95857094,  2.13286268,  2.30715441,  2.48144615,  2.65573789,\n",
       "         2.83002962,  3.00432136,  3.1786131 ,  3.35290484,  3.52719657,\n",
       "         3.70148831,  3.87578005,  4.05007179,  4.22436352,  4.39865526,\n",
       "         4.572947  ]),\n",
       " <a list of 50 Patch objects>)"
      ]
     },
     "execution_count": 19,
     "metadata": {},
     "output_type": "execute_result"
    },
    {
     "data": {
      "image/png": "[encoded data removed]",
      "text/plain": [
       "<Figure size 432x288 with 1 Axes>"
      ]
     },
     "metadata": {
      "needs_background": "light"
     },
     "output_type": "display_data"
    }
   ],
   "source": [
    "plt.hist(x,50,density=True)"
   ]
  },
  {
   "cell_type": "markdown",
   "metadata": {},
   "source": [
    "L'histogramme cumulatife (option `cumulative = True`). On trouve la fonction de répartition de la loi de probabilités."
   ]
  },
  {
   "cell_type": "code",
   "execution_count": 20,
   "metadata": {},
   "outputs": [
    {
     "data": {
      "text/plain": [
       "(array([5.0000e-05, 8.0000e-05, 1.1000e-04, 2.5000e-04, 4.9000e-04,\n",
       "        8.6000e-04, 1.6700e-03, 2.8900e-03, 4.8500e-03, 7.6900e-03,\n",
       "        1.2970e-02, 2.0430e-02, 3.0690e-02, 4.4940e-02, 6.3820e-02,\n",
       "        8.8750e-02, 1.2051e-01, 1.5982e-01, 2.0585e-01, 2.5872e-01,\n",
       "        3.1822e-01, 3.8133e-01, 4.4919e-01, 5.1822e-01, 5.8658e-01,\n",
       "        6.5199e-01, 7.1267e-01, 7.6882e-01, 8.1808e-01, 8.5985e-01,\n",
       "        8.9520e-01, 9.2331e-01, 9.4521e-01, 9.6205e-01, 9.7446e-01,\n",
       "        9.8338e-01, 9.8960e-01, 9.9337e-01, 9.9586e-01, 9.9760e-01,\n",
       "        9.9866e-01, 9.9924e-01, 9.9960e-01, 9.9981e-01, 9.9992e-01,\n",
       "        9.9995e-01, 9.9997e-01, 9.9999e-01, 9.9999e-01, 1.0000e+00]),\n",
       " array([-4.14163987, -3.96734813, -3.79305639, -3.61876466, -3.44447292,\n",
       "        -3.27018118, -3.09588945, -2.92159771, -2.74730597, -2.57301423,\n",
       "        -2.3987225 , -2.22443076, -2.05013902, -1.87584728, -1.70155555,\n",
       "        -1.52726381, -1.35297207, -1.17868033, -1.0043886 , -0.83009686,\n",
       "        -0.65580512, -0.48151338, -0.30722165, -0.13292991,  0.04136183,\n",
       "         0.21565356,  0.3899453 ,  0.56423704,  0.73852878,  0.91282051,\n",
       "         1.08711225,  1.26140399,  1.43569573,  1.60998746,  1.7842792 ,\n",
       "         1.95857094,  2.13286268,  2.30715441,  2.48144615,  2.65573789,\n",
       "         2.83002962,  3.00432136,  3.1786131 ,  3.35290484,  3.52719657,\n",
       "         3.70148831,  3.87578005,  4.05007179,  4.22436352,  4.39865526,\n",
       "         4.572947  ]),\n",
       " <a list of 50 Patch objects>)"
      ]
     },
     "execution_count": 20,
     "metadata": {},
     "output_type": "execute_result"
    },
    {
     "data": {
      "image/png": "[encoded data removed]",
      "text/plain": [
       "<Figure size 432x288 with 1 Axes>"
      ]
     },
     "metadata": {
      "needs_background": "light"
     },
     "output_type": "display_data"
    }
   ],
   "source": [
    "plt.hist(x,50,cumulative=True,density=True)"
   ]
  },
  {
   "cell_type": "markdown",
   "metadata": {},
   "source": [
    "## Exercices"
   ]
  },
  {
   "cell_type": "markdown",
   "metadata": {},
   "source": [
    "### Le paradoxe du Duc De Toscane\n",
    "\n",
    "Le Grand Duc de Toscane avait remarqué que, bien qu'il y ait autant de façons d'écrire 9 et 10 comme somme de 3 nombres compris entre 1 et 6, on obtient plus souvent un total de 10 lorsqu'on lance 3 dés. Galilée lui donna vers 1620 une explication de ce paradoxe. Galilée est alors Premier Mathématicien de l’Université de Pise et Premier Philosophe du Grand Duc à Florence). Galilée est ainsi l’un des premiers avec Cardan à avoir écrit sur le « calcul des hasards », mais leurs écrits n’ont été publiés qu’après la célèbre correspondance entre Pascal et Fermat qui marque « officiellement » le début de la théorie des probabilités. Le mémoire de Galilée qui nous intéresse n’a été édité qu’en 1718."
   ]
  },
  {
   "cell_type": "markdown",
   "metadata": {},
   "source": [
    "Écrivons une fonction qui simule N tirages de 3 dés, et affiche les pourcentages d'obtention de 9 et 10."
   ]
  },
  {
   "cell_type": "code",
   "execution_count": 56,
   "metadata": {},
   "outputs": [],
   "source": [
    "def toscane(N):\n",
    "    X = npr.randint(1,7,N) + npr.randint(1,7,N) + npr.randint(1,7,N)\n",
    "    nb9 = np.count_nonzero(X == 9)\n",
    "    nb10 = np.count_nonzero(X == 10)\n",
    "    print(f\"9 a été obtenu dans {100*nb9/N} % des cas\")\n",
    "    print(f\"10 a été obtenu dans {100*nb10/N} % des cas\")"
   ]
  },
  {
   "cell_type": "markdown",
   "metadata": {},
   "source": [
    "et testons sur 1000000 tirages :"
   ]
  },
  {
   "cell_type": "code",
   "execution_count": 58,
   "metadata": {},
   "outputs": [
    {
     "name": "stdout",
     "output_type": "stream",
     "text": [
      "9 a été obtenu dans 11.5454 % des cas\n",
      "10 a été obtenu dans 12.5712 % des cas\n"
     ]
    }
   ],
   "source": [
    "toscane(1000000)"
   ]
  },
  {
   "cell_type": "markdown",
   "metadata": {},
   "source": [
    "Ceci corrobore l'observation du Duc de Toscane.\n",
    "\n",
    "Maintenant, comptons le nombre de façon d'écrire un nombre comme somme de trois entiers compris entre 1 et 6 :"
   ]
  },
  {
   "cell_type": "code",
   "execution_count": 23,
   "metadata": {},
   "outputs": [],
   "source": [
    "def ecriture(n):\n",
    "    compte = 0\n",
    "    for i in range(1,7):\n",
    "        for j in range(i,7):\n",
    "            for k in range(j,7):\n",
    "                if i +j+k == n:\n",
    "                    print(f\"{i}+{j}+{k}={n}\")\n",
    "                    compte += 1\n",
    "    print(f\"{n} s'écrit donc de {compte} façons comme somme de trois entiers entre 1 et 6\")"
   ]
  },
  {
   "cell_type": "code",
   "execution_count": 24,
   "metadata": {},
   "outputs": [
    {
     "name": "stdout",
     "output_type": "stream",
     "text": [
      "1+2+6=9\n",
      "1+3+5=9\n",
      "1+4+4=9\n",
      "2+2+5=9\n",
      "2+3+4=9\n",
      "3+3+3=9\n",
      "9 s'écrit donc de 6 façons comme somme de trois entiers entre 1 et 6\n",
      "1+3+6=10\n",
      "1+4+5=10\n",
      "2+2+6=10\n",
      "2+3+5=10\n",
      "2+4+4=10\n",
      "3+3+4=10\n",
      "10 s'écrit donc de 6 façons comme somme de trois entiers entre 1 et 6\n"
     ]
    }
   ],
   "source": [
    "ecriture(9)\n",
    "ecriture(10)"
   ]
  },
  {
   "cell_type": "markdown",
   "metadata": {},
   "source": [
    "C'est là le paradoxe : les deux nombres s'écrivent chacun du même nombre de façons, et pourtant 10 apparait plus souvent que 9. On voit ici que le Duc de Toscane avait déjà des notions de calcul des probabilités. mais son erreur est de regarder les écritures non ordonnées, alors que ce qui compte ici, ce sont les écitures ordonnées.\n",
    "\n",
    "Il ne s'agit pas d'un vrai paradoxe, mettant en jeu la cohérence des mathématiques, juste une erreur de compréhension d'un phénomène mathématique."
   ]
  },
  {
   "cell_type": "code",
   "execution_count": 25,
   "metadata": {},
   "outputs": [],
   "source": [
    "def ecriture_ordonnee(n):\n",
    "    compte = 0\n",
    "    for i in range(1,7):\n",
    "        for j in range(1,7):\n",
    "            for k in range(1,7):\n",
    "                if i + j + k == n:\n",
    "                    print(f\"{i}+{j}+{k}={n}\")\n",
    "                    compte += 1\n",
    "    print(f\"{n} s'écrit donc de {compte} façons comme somme ordonnée de trois entiers entre 1 et 6\")"
   ]
  },
  {
   "cell_type": "code",
   "execution_count": 26,
   "metadata": {},
   "outputs": [
    {
     "name": "stdout",
     "output_type": "stream",
     "text": [
      "1+2+6=9\n",
      "1+3+5=9\n",
      "1+4+4=9\n",
      "1+5+3=9\n",
      "1+6+2=9\n",
      "2+1+6=9\n",
      "2+2+5=9\n",
      "2+3+4=9\n",
      "2+4+3=9\n",
      "2+5+2=9\n",
      "2+6+1=9\n",
      "3+1+5=9\n",
      "3+2+4=9\n",
      "3+3+3=9\n",
      "3+4+2=9\n",
      "3+5+1=9\n",
      "4+1+4=9\n",
      "4+2+3=9\n",
      "4+3+2=9\n",
      "4+4+1=9\n",
      "5+1+3=9\n",
      "5+2+2=9\n",
      "5+3+1=9\n",
      "6+1+2=9\n",
      "6+2+1=9\n",
      "9 s'écrit donc de 25 façons comme somme ordonnée de trois entiers entre 1 et 6\n",
      "1+3+6=10\n",
      "1+4+5=10\n",
      "1+5+4=10\n",
      "1+6+3=10\n",
      "2+2+6=10\n",
      "2+3+5=10\n",
      "2+4+4=10\n",
      "2+5+3=10\n",
      "2+6+2=10\n",
      "3+1+6=10\n",
      "3+2+5=10\n",
      "3+3+4=10\n",
      "3+4+3=10\n",
      "3+5+2=10\n",
      "3+6+1=10\n",
      "4+1+5=10\n",
      "4+2+4=10\n",
      "4+3+3=10\n",
      "4+4+2=10\n",
      "4+5+1=10\n",
      "5+1+4=10\n",
      "5+2+3=10\n",
      "5+3+2=10\n",
      "5+4+1=10\n",
      "6+1+3=10\n",
      "6+2+2=10\n",
      "6+3+1=10\n",
      "10 s'écrit donc de 27 façons comme somme ordonnée de trois entiers entre 1 et 6\n"
     ]
    }
   ],
   "source": [
    "ecriture_ordonnee(9)\n",
    "ecriture_ordonnee(10)"
   ]
  },
  {
   "cell_type": "markdown",
   "metadata": {},
   "source": [
    "La probabilité d'obtenir 9 est donc $\\frac{25}{6^3} \\simeq 0,1157$, alors que celle d'obtenir 10 est \n",
    "$\\frac{27}{6^3} = 0,125$. Le résultat de ce calcul est conforme aux observations faites par simulation."
   ]
  },
  {
   "cell_type": "markdown",
   "metadata": {},
   "source": [
    "### Le lièvre et la tortue\n",
    "\n",
    "\n",
    "Le lièvre et la tortue jouent aux dés en lançant autant de fois que nécessaire un dé. A chaque tirage, si on obtient de 1 à 5, la tortue avance d'une case, si on obtient 6, le lièvre avance de 6 cases d'un coup. Le premier qui a avancé de 6 cases a gagné.\n",
    "\n",
    "Autrement dit, il y a au plus 6 tirages. Si parmi ceux là, il y a un 6, le lièvre gagne, sinon, c'est la tortue.\n",
    "\n",
    "La fonction ci-dessous simule une partie avec cette règle."
   ]
  },
  {
   "cell_type": "code",
   "execution_count": 27,
   "metadata": {},
   "outputs": [],
   "source": [
    "def partie_1():\n",
    "    for i in range(6):\n",
    "        x = npr.randint(1,7)\n",
    "        if x == 6:\n",
    "            return \"lièvre\"\n",
    "    return \"tortue\""
   ]
  },
  {
   "cell_type": "markdown",
   "metadata": {},
   "source": [
    "On simule ensuite un grand nombre de parties :"
   ]
  },
  {
   "cell_type": "code",
   "execution_count": 28,
   "metadata": {},
   "outputs": [],
   "source": [
    "def simulation_lievre_tortue(jeu,N):\n",
    "    lievre = 0\n",
    "    for i in range(N):\n",
    "        if jeu() == \"lièvre\":\n",
    "            lievre +=1\n",
    "    print(f\"le lievre gagne dans  {100*lievre/N} % des cas\")"
   ]
  },
  {
   "cell_type": "code",
   "execution_count": 29,
   "metadata": {},
   "outputs": [
    {
     "name": "stdout",
     "output_type": "stream",
     "text": [
      "le lievre gagne dans  66.512 % des cas\n"
     ]
    }
   ],
   "source": [
    "simulation_lievre_tortue(partie_1,1000000)"
   ]
  },
  {
   "cell_type": "markdown",
   "metadata": {},
   "source": [
    "Le lièvre gagne donc en moyenne. On modifie donc la règle : la tortue, quand elle avance, avance de deux cases.\n",
    "\n",
    "C'est la même chose que précédement, mais la partie se joue en au plus 3 tirages."
   ]
  },
  {
   "cell_type": "code",
   "execution_count": 30,
   "metadata": {},
   "outputs": [],
   "source": [
    "def partie_2():\n",
    "    x = npr.randint(1,7,3)\n",
    "    if 6 in x:\n",
    "        return \"lièvre\"\n",
    "    return \"tortue\" "
   ]
  },
  {
   "cell_type": "code",
   "execution_count": 31,
   "metadata": {},
   "outputs": [
    {
     "name": "stdout",
     "output_type": "stream",
     "text": [
      "le lievre gagne dans  42.1367 % des cas\n"
     ]
    }
   ],
   "source": [
    "simulation_lievre_tortue(partie_2,1000000)"
   ]
  },
  {
   "cell_type": "markdown",
   "metadata": {},
   "source": [
    "### Simulation de la loi binomiale\n",
    "\n",
    "\n",
    "On réalise $n$ fois une expérience de Bernoulli de paramètre p. Pour $k=0,\\ldots,n$, on s'intéresse à la probabilité $B_{n;p}(k)$ d'obtenir $k$ fois un 1. On sait que :\n",
    "$$\n",
    "B_{n,p}(k) = {n\\choose k}  p^k(1-p)^{n-k}\n",
    "$$"
   ]
  },
  {
   "cell_type": "markdown",
   "metadata": {},
   "source": [
    "Effectuons d'abord une simulation, en faisant $N$ (grand) échantillons de $n$ tirages de Bernoulli, et mesurons les fréquences d'apparitions des entiers $k\\in[0,n].$ Une bonne façon de visualiser le résultat est de réaliser un diagramme en barres :"
   ]
  },
  {
   "cell_type": "code",
   "execution_count": 32,
   "metadata": {},
   "outputs": [],
   "source": [
    "def simulation_binomiale(n,p,N):\n",
    "    compteur = [0]*(n+1)\n",
    "    for i in range(N):\n",
    "        x = bernoulli2(p,n)\n",
    "        k = int(sum(x))\n",
    "        compteur[k] += 1\n",
    "    compteur = [x/N for x in compteur]\n",
    "    plt.bar(range(n+1),compteur)"
   ]
  },
  {
   "cell_type": "code",
   "execution_count": 33,
   "metadata": {},
   "outputs": [
    {
     "data": {
      "image/png": "[encoded data removed]",
      "text/plain": [
       "<Figure size 432x288 with 1 Axes>"
      ]
     },
     "metadata": {
      "needs_background": "light"
     },
     "output_type": "display_data"
    }
   ],
   "source": [
    "simulation_binomiale(50,0.4,100000)"
   ]
  },
  {
   "cell_type": "markdown",
   "metadata": {},
   "source": [
    "On observe une sorte de courbe en cloche, centrée autour de $pn$.\n",
    "\n",
    "Réalisons maintenant un diagramme analogue, en représentant les valeurs exactes des probabilités."
   ]
  },
  {
   "cell_type": "markdown",
   "metadata": {},
   "source": [
    " On commence par écrire une fonction `pascal(n)` qui rend la $n$-ème ligne du triangle de Pascal."
   ]
  },
  {
   "cell_type": "code",
   "execution_count": 34,
   "metadata": {},
   "outputs": [],
   "source": [
    "def pascal(n):\n",
    "    x = [1] + n*[0]\n",
    "    for i in range(n):\n",
    "        y = [1]\n",
    "        for j in range(n):\n",
    "            y.append(x[j] + x[j+1])\n",
    "        x = y\n",
    "    return x"
   ]
  },
  {
   "cell_type": "markdown",
   "metadata": {},
   "source": [
    "Puis on écrit une fonction `binomiale(n,p)` calculant le vecteur des $B_{n,p}(k)$, et on l'affiche par un diagramme en barres."
   ]
  },
  {
   "cell_type": "code",
   "execution_count": 35,
   "metadata": {},
   "outputs": [],
   "source": [
    "def binomiale(n,p):\n",
    "    x = pascal(n)\n",
    "    x = [ p**k * (1-p)**(n-k) * x[k] for k in range(n+1) ]\n",
    "    return x\n",
    "    \n",
    "    \n",
    "def plot_binomiale(n,p):\n",
    "    plt.bar(range(n+1) , binomiale(n,p))"
   ]
  },
  {
   "cell_type": "code",
   "execution_count": 36,
   "metadata": {},
   "outputs": [
    {
     "data": {
      "image/png": "[encoded data removed]",
      "text/plain": [
       "<Figure size 432x288 with 1 Axes>"
      ]
     },
     "metadata": {
      "needs_background": "light"
     },
     "output_type": "display_data"
    }
   ],
   "source": [
    "plot_binomiale(50,0.4)"
   ]
  },
  {
   "cell_type": "markdown",
   "metadata": {},
   "source": [
    "### Tirage sans remise\n",
    "\n",
    "On a un panier de 10 oeuf, parmi lesquels 5 sont pourris. On prend au hasard 3 oeufs dans ce panier. Bien sûr, quand on prend un oeuf, on ne le remet pas dans le panier ensuite !\n",
    "\n",
    "On veut connaitre, pour tout $k\\in[0,3]$, la probabilité qu'il y ait $k$ oeufs pourris parmi les 3 qui ont été choisis. "
   ]
  },
  {
   "cell_type": "code",
   "execution_count": 37,
   "metadata": {},
   "outputs": [],
   "source": [
    "def panier(N):\n",
    "    l=list(range(10))\n",
    "    resultats = [0,0,0,0]\n",
    "    for i in range(N):\n",
    "        npr.shuffle(l)\n",
    "        compte = 0\n",
    "        for k in range(5):\n",
    "            if l[k] < 3:\n",
    "                compte += 1\n",
    "        resultats[compte] += 1\n",
    "    print([x/N for x in resultats])\n",
    " "
   ]
  },
  {
   "cell_type": "code",
   "execution_count": 38,
   "metadata": {},
   "outputs": [
    {
     "name": "stdout",
     "output_type": "stream",
     "text": [
      "[0.08383, 0.41415, 0.41757, 0.08445]\n"
     ]
    }
   ],
   "source": [
    "panier(100000)"
   ]
  },
  {
   "cell_type": "markdown",
   "metadata": {},
   "source": [
    "On peut comparer ce résultat à un tirage avec remise : un oeuf pris isolément a une probabilité 0.5 d'être pourri.  La probabilité d'avoir k oeufs pourris dans un tirage avec remise de 3 oeufs est alors :"
   ]
  },
  {
   "cell_type": "code",
   "execution_count": 39,
   "metadata": {},
   "outputs": [
    {
     "data": {
      "text/plain": [
       "[0.125, 0.375, 0.375, 0.125]"
      ]
     },
     "execution_count": 39,
     "metadata": {},
     "output_type": "execute_result"
    }
   ],
   "source": [
    "binomiale(3,0.5)"
   ]
  },
  {
   "cell_type": "markdown",
   "metadata": {},
   "source": [
    "Pour des petites tailles d'échantillon, comme c'est le cas ici, on voit une différence importante entre ces deux modes de tirages."
   ]
  },
  {
   "cell_type": "markdown",
   "metadata": {},
   "source": [
    "### Première apparition d'un motif\n",
    "\n",
    "On lance indéfiniment une pièce de monnaie équilibrée et on note les résultats. On obtient ainsi une suite de `pile` et de `face`, ou si on préfère de `0` et de `1`.  On se donne un motif constitué de 0 et de 1, par exemple `M = 0010111`. Ce motif apparaitra un jour dans la suite de `0` et de `1` produite par la pièce de monnaie. On appelle temps d'apparition du motif `M` le numéro du lancer qui fait apparaitre pour la première fois `M` dans la liste.\n",
    "\n",
    "Par exemple, si la suite observée donne :\n",
    "`000110100101110100...`\n",
    "on voit que le motif`M` est apparu lorsqu'on a fait le 14-ème tirage. Le temps d'attente lors de cette expérience a donc été `T = 14`."
   ]
  },
  {
   "cell_type": "code",
   "execution_count": 40,
   "metadata": {},
   "outputs": [],
   "source": [
    "def temps_apparition(motif):\n",
    "    l = len(motif)\n",
    "    suite = \"\"\n",
    "    T = 0\n",
    "    while suite[-l:] != motif:\n",
    "        tirage = rd.randint(0,1)\n",
    "        suite += str(tirage)\n",
    "        T += 1\n",
    "    return T\n",
    "        "
   ]
  },
  {
   "cell_type": "code",
   "execution_count": 41,
   "metadata": {},
   "outputs": [
    {
     "data": {
      "text/plain": [
       "4"
      ]
     },
     "execution_count": 41,
     "metadata": {},
     "output_type": "execute_result"
    }
   ],
   "source": [
    "temps_apparition(\"011\")"
   ]
  },
  {
   "cell_type": "code",
   "execution_count": 42,
   "metadata": {},
   "outputs": [],
   "source": [
    "def moyenne_temps_apparition(motif,N):\n",
    "    s = 0\n",
    "    for i in range(N):\n",
    "        s += temps_apparition(motif)\n",
    "    return s/N"
   ]
  },
  {
   "cell_type": "code",
   "execution_count": 43,
   "metadata": {},
   "outputs": [
    {
     "data": {
      "text/plain": [
       "6.02553"
      ]
     },
     "execution_count": 43,
     "metadata": {},
     "output_type": "execute_result"
    }
   ],
   "source": [
    "moyenne_temps_apparition(\"11\",100000)"
   ]
  },
  {
   "cell_type": "markdown",
   "metadata": {},
   "source": [
    "### Comparaison de deux motifs de même taille\n",
    "\n",
    "On se donne cette fois-ci deux motifs de même longueur. Deux joueurs jouent l'un contre l'autre et choisissent chacun un motif; le joueur dont le motif apparait en premier a gagné.\n",
    "\n",
    "On veut savoir quel motif doit choisir un joueur pour maximiser sa probabilité de gagner."
   ]
  },
  {
   "cell_type": "code",
   "execution_count": 44,
   "metadata": {},
   "outputs": [],
   "source": [
    "def partie(motif1,motif2):\n",
    "    l = len(motif1)\n",
    "    suite = \"\"\n",
    "    while suite[-l:] not in [motif1, motif2]:\n",
    "        tirage = rd.randint(0,1)\n",
    "        suite += str(tirage)\n",
    "    if suite[-l:] == motif1:\n",
    "        return 1\n",
    "    else:\n",
    "        return 2"
   ]
  },
  {
   "cell_type": "code",
   "execution_count": 45,
   "metadata": {},
   "outputs": [],
   "source": [
    "def comparaison(motif1,motif2,N):\n",
    "    n1 = 0\n",
    "    for i in range(N):\n",
    "        n1 += (2 - partie(motif1,motif2))\n",
    "    print(n1/N,1-n1/N)"
   ]
  },
  {
   "cell_type": "markdown",
   "metadata": {},
   "source": [
    "*Le gain d'un motif sur un autre n'est pas lié à leurs temps d'apparitions moyens :*"
   ]
  },
  {
   "cell_type": "code",
   "execution_count": 46,
   "metadata": {},
   "outputs": [
    {
     "name": "stdout",
     "output_type": "stream",
     "text": [
      "0.7475 0.25249999999999995\n"
     ]
    }
   ],
   "source": [
    "comparaison(\"100\",\"001\",100000)"
   ]
  },
  {
   "cell_type": "code",
   "execution_count": 47,
   "metadata": {},
   "outputs": [
    {
     "data": {
      "text/plain": [
       "7.98376"
      ]
     },
     "execution_count": 47,
     "metadata": {},
     "output_type": "execute_result"
    }
   ],
   "source": [
    "moyenne_temps_apparition(\"100\",100000)"
   ]
  },
  {
   "cell_type": "code",
   "execution_count": 48,
   "metadata": {},
   "outputs": [
    {
     "data": {
      "text/plain": [
       "8.02646"
      ]
     },
     "execution_count": 48,
     "metadata": {},
     "output_type": "execute_result"
    }
   ],
   "source": [
    "moyenne_temps_apparition(\"001\",100000)"
   ]
  },
  {
   "cell_type": "markdown",
   "metadata": {},
   "source": [
    "*La relation \"gagner contre\" n'est pas transitive :*"
   ]
  },
  {
   "cell_type": "code",
   "execution_count": 49,
   "metadata": {},
   "outputs": [
    {
     "name": "stdout",
     "output_type": "stream",
     "text": [
      "0.66767 0.33233\n"
     ]
    }
   ],
   "source": [
    "comparaison(\"110\",\"100\",100000)"
   ]
  },
  {
   "cell_type": "markdown",
   "metadata": {},
   "source": [
    "\"110\" gagne contre \"100\""
   ]
  },
  {
   "cell_type": "code",
   "execution_count": 50,
   "metadata": {},
   "outputs": [
    {
     "name": "stdout",
     "output_type": "stream",
     "text": [
      "0.75012 0.24988\n"
     ]
    }
   ],
   "source": [
    "comparaison(\"100\",\"001\",100000)"
   ]
  },
  {
   "cell_type": "markdown",
   "metadata": {},
   "source": [
    "\"100\" gagne contre \"001\""
   ]
  },
  {
   "cell_type": "code",
   "execution_count": 51,
   "metadata": {},
   "outputs": [
    {
     "name": "stdout",
     "output_type": "stream",
     "text": [
      "0.66526 0.33474000000000004\n"
     ]
    }
   ],
   "source": [
    "comparaison(\"001\",\"011\",100000)"
   ]
  },
  {
   "cell_type": "markdown",
   "metadata": {},
   "source": [
    "\"001\" gangne contre \"011\""
   ]
  },
  {
   "cell_type": "code",
   "execution_count": 52,
   "metadata": {},
   "outputs": [
    {
     "name": "stdout",
     "output_type": "stream",
     "text": [
      "0.74989 0.25011000000000005\n"
     ]
    }
   ],
   "source": [
    "comparaison(\"011\",\"110\",100000)"
   ]
  },
  {
   "cell_type": "markdown",
   "metadata": {},
   "source": [
    "et \"011\" gagne contre \"110\" !"
   ]
  },
  {
   "cell_type": "code",
   "execution_count": null,
   "metadata": {},
   "outputs": [],
   "source": []
  }
 ],
 "metadata": {
  "kernelspec": {
   "display_name": "Python 3",
   "language": "python",
   "name": "python3"
  },
  "language_info": {
   "codemirror_mode": {
    "name": "ipython",
    "version": 3
   },
   "file_extension": ".py",
   "mimetype": "text/x-python",
   "name": "python",
   "nbconvert_exporter": "python",
   "pygments_lexer": "ipython3",
   "version": "3.7.4"
  }
 },
 "nbformat": 4,
 "nbformat_minor": 2
}
