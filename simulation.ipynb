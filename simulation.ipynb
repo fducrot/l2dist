{
 "cells": [
  {
   "cell_type": "markdown",
   "metadata": {},
   "source": [
    "# Quelques expérimentation de simulation probabiliste\n",
    "\n",
    "Nous allons faire ensemble quelques expérimentations pour nous faire la main."
   ]
  },
  {
   "cell_type": "markdown",
   "metadata": {},
   "source": [
    "Importons d'abord les modules `random` et `numpy.random`, ainsi que `numpy` et `matplotlib`"
   ]
  },
  {
   "cell_type": "code",
   "execution_count": 1,
   "metadata": {},
   "outputs": [],
   "source": [
    "import random as rd\n",
    "import numpy.random as npr\n",
    "import matplotlib.pyplot as plt\n",
    "import numpy as np"
   ]
  },
  {
   "cell_type": "markdown",
   "metadata": {},
   "source": [
    "## Tirage d'entiers équiprobables entre 1 et 6\n",
    "\n",
    "On veut simuler le tirage de N dés équilibrés, et afficher les fréquences d'apparition des différentes faces."
   ]
  },
  {
   "cell_type": "markdown",
   "metadata": {},
   "source": [
    "Commençons par utiliser le module `random` et effectuons une boucle simulant les N tirages :"
   ]
  },
  {
   "cell_type": "code",
   "execution_count": 2,
   "metadata": {},
   "outputs": [],
   "source": [
    "def lancer_des(N):\n",
    "    compteurs = [0]*6\n",
    "    for k in range(1000000):\n",
    "        i = rd.randint(1,6)\n",
    "        compteurs[i-1] += 1\n",
    "        frequences = [x/N for x in compteurs]\n",
    "    plt.bar(range(1,7),frequences)"
   ]
  },
  {
   "cell_type": "code",
   "execution_count": 3,
   "metadata": {},
   "outputs": [
    {
     "data": {
      "image/png": "[encoded data removed]",
      "text/plain": [
       "<Figure size 432x288 with 1 Axes>"
      ]
     },
     "metadata": {
      "needs_background": "light"
     },
     "output_type": "display_data"
    }
   ],
   "source": [
    "lancer_des(1000000)"
   ]
  },
  {
   "cell_type": "markdown",
   "metadata": {},
   "source": [
    "Utilisons maintenant `numpy` :"
   ]
  },
  {
   "cell_type": "code",
   "execution_count": 4,
   "metadata": {},
   "outputs": [],
   "source": [
    "def lancer_des_numpy(N):\n",
    "    x = npr.randint(1,7,N)\n",
    "    compteurs = [np.count_nonzero(x == i) for i in range(1,7)]\n",
    "    frequences = [x/N for x in compteurs]\n",
    "    plt.bar(range(1,7),frequences)\n"
   ]
  },
  {
   "cell_type": "code",
   "execution_count": 5,
   "metadata": {},
   "outputs": [
    {
     "data": {
      "image/png": "[encoded data removed]",
      "text/plain": [
       "<Figure size 432x288 with 1 Axes>"
      ]
     },
     "metadata": {
      "needs_background": "light"
     },
     "output_type": "display_data"
    }
   ],
   "source": [
    "lancer_des_numpy(1000000)"
   ]
  },
  {
   "cell_type": "markdown",
   "metadata": {},
   "source": [
    "## La loi de Bernoulli de paramètre $p$\n",
    "\n",
    "Une variable aléatoire suit la loi de Bernoulli de paramètre $p$ si elle vaut 1 avec probabilité $p$ et 0 avec probabilité $1-p$.\n",
    "\n",
    "On tire un nombre aléatoire uniforme dans $x\\in [0,1]$, et la variable aléatoire vaut 1 si $x<p$ et 0 sinon.\n",
    "\n",
    "Programmons ceci en faisant une boucle python :"
   ]
  },
  {
   "cell_type": "code",
   "execution_count": 6,
   "metadata": {},
   "outputs": [],
   "source": [
    "def bernoulli(p,N):\n",
    "    \"\"\"\n",
    "    Fabrique un tableau numpy de taille N, contenant N tirages de \n",
    "    Bernoulli de paramètre p\n",
    "    \"\"\"\n",
    "    x = npr.rand(N)\n",
    "    for i in range(N):\n",
    "        if x[i] < p:\n",
    "            x[i] = 1\n",
    "        else:\n",
    "            x[i] = 0\n",
    "    return x"
   ]
  },
  {
   "cell_type": "markdown",
   "metadata": {},
   "source": [
    "Une petite astuce : si $X$ suit une loi uniforme sur $[0,1]$, alors la partie entière $\\lfloor p+X \\rfloor$ suit la loi de Bernoulli de paramètre $p$.\n",
    "\n",
    "Ceci permet d'utiliser facilement `numpy` :"
   ]
  },
  {
   "cell_type": "code",
   "execution_count": 7,
   "metadata": {},
   "outputs": [],
   "source": [
    "def bernoulli2(p,N):\n",
    "    x = npr.rand(N)\n",
    "    return np.floor(p+x)"
   ]
  },
  {
   "cell_type": "markdown",
   "metadata": {},
   "source": [
    "On a appris que  l'espérance et la variance de la loi binomiale valent respectivement $p$ et $p(1-p)$. \n",
    "\n",
    "Vérifions-le en calculant la moyenne emprique et la variance empirique d'un grand échantillon :"
   ]
  },
  {
   "cell_type": "code",
   "execution_count": 8,
   "metadata": {},
   "outputs": [
    {
     "name": "stdout",
     "output_type": "stream",
     "text": [
      "Moyenne : 0.3332621\n",
      "Variance : 0.22219847270359\n"
     ]
    }
   ],
   "source": [
    "p = 1/3\n",
    "N = 10000000\n",
    "x = bernoulli2(p,N)\n",
    "print(\"Moyenne :\", np.mean(x))  # on attend 1/3\n",
    "print(\"Variance :\", np.var(x))  # on attend 2/9"
   ]
  },
  {
   "cell_type": "markdown",
   "metadata": {},
   "source": [
    "## La loi de Gauss ou loi normale"
   ]
  },
  {
   "cell_type": "code",
   "execution_count": 9,
   "metadata": {},
   "outputs": [],
   "source": [
    "x = npr.normal(0,1,100000)"
   ]
  },
  {
   "cell_type": "markdown",
   "metadata": {},
   "source": [
    "L'histogramme normé (option `denisty = True`) de répartitition de ce vecteur Gaussien"
   ]
  },
  {
   "cell_type": "code",
   "execution_count": 10,
   "metadata": {},
   "outputs": [
    {
     "data": {
      "text/plain": [
       "(array([5.37907168e-05, 0.00000000e+00, 0.00000000e+00, 0.00000000e+00,\n",
       "        1.61372150e-04, 3.76535018e-04, 3.22744301e-04, 1.12960505e-03,\n",
       "        1.72130294e-03, 3.81914089e-03, 5.32528096e-03, 1.08119341e-02,\n",
       "        1.57068893e-02, 2.47437297e-02, 3.95899676e-02, 5.67492062e-02,\n",
       "        7.83192836e-02, 1.08388294e-01, 1.49914728e-01, 1.92678348e-01,\n",
       "        2.28502965e-01, 2.74225074e-01, 3.19032741e-01, 3.50177566e-01,\n",
       "        3.75405412e-01, 3.96007257e-01, 3.95469350e-01, 3.88691720e-01,\n",
       "        3.64916223e-01, 3.22582929e-01, 2.83423287e-01, 2.47222134e-01,\n",
       "        1.95314093e-01, 1.56477195e-01, 1.23395904e-01, 8.53658675e-02,\n",
       "        6.38495808e-02, 4.50766207e-02, 2.95311035e-02, 1.74819830e-02,\n",
       "        1.14036320e-02, 6.72383960e-03, 4.24946663e-03, 1.88267509e-03,\n",
       "        1.12960505e-03, 9.14442185e-04, 4.30325734e-04, 5.37907168e-05,\n",
       "        1.61372150e-04, 1.61372150e-04]),\n",
       " array([-4.85844257, -4.67253689, -4.4866312 , -4.30072552, -4.11481983,\n",
       "        -3.92891415, -3.74300847, -3.55710278, -3.3711971 , -3.18529141,\n",
       "        -2.99938573, -2.81348005, -2.62757436, -2.44166868, -2.25576299,\n",
       "        -2.06985731, -1.88395162, -1.69804594, -1.51214026, -1.32623457,\n",
       "        -1.14032889, -0.9544232 , -0.76851752, -0.58261184, -0.39670615,\n",
       "        -0.21080047, -0.02489478,  0.1610109 ,  0.34691658,  0.53282227,\n",
       "         0.71872795,  0.90463364,  1.09053932,  1.276445  ,  1.46235069,\n",
       "         1.64825637,  1.83416206,  2.02006774,  2.20597342,  2.39187911,\n",
       "         2.57778479,  2.76369048,  2.94959616,  3.13550184,  3.32140753,\n",
       "         3.50731321,  3.6932189 ,  3.87912458,  4.06503026,  4.25093595,\n",
       "         4.43684163]),\n",
       " <a list of 50 Patch objects>)"
      ]
     },
     "execution_count": 10,
     "metadata": {},
     "output_type": "execute_result"
    },
    {
     "data": {
      "image/png": "[encoded data removed]",
      "text/plain": [
       "<Figure size 432x288 with 1 Axes>"
      ]
     },
     "metadata": {
      "needs_background": "light"
     },
     "output_type": "display_data"
    }
   ],
   "source": [
    "plt.hist(x,50,density=True)"
   ]
  },
  {
   "cell_type": "markdown",
   "metadata": {},
   "source": [
    "L'histogramme cumulatife (option `cumulative = True`). On trouve la fonction de répartition de la loi de probabilités."
   ]
  },
  {
   "cell_type": "code",
   "execution_count": 11,
   "metadata": {},
   "outputs": [
    {
     "data": {
      "text/plain": [
       "(array([1.0000e-05, 1.0000e-05, 1.0000e-05, 1.0000e-05, 4.0000e-05,\n",
       "        1.1000e-04, 1.7000e-04, 3.8000e-04, 7.0000e-04, 1.4100e-03,\n",
       "        2.4000e-03, 4.4100e-03, 7.3300e-03, 1.1930e-02, 1.9290e-02,\n",
       "        2.9840e-02, 4.4400e-02, 6.4550e-02, 9.2420e-02, 1.2824e-01,\n",
       "        1.7072e-01, 2.2170e-01, 2.8101e-01, 3.4611e-01, 4.1590e-01,\n",
       "        4.8952e-01, 5.6304e-01, 6.3530e-01, 7.0314e-01, 7.6311e-01,\n",
       "        8.1580e-01, 8.6176e-01, 8.9807e-01, 9.2716e-01, 9.5010e-01,\n",
       "        9.6597e-01, 9.7784e-01, 9.8622e-01, 9.9171e-01, 9.9496e-01,\n",
       "        9.9708e-01, 9.9833e-01, 9.9912e-01, 9.9947e-01, 9.9968e-01,\n",
       "        9.9985e-01, 9.9993e-01, 9.9994e-01, 9.9997e-01, 1.0000e+00]),\n",
       " array([-4.85844257, -4.67253689, -4.4866312 , -4.30072552, -4.11481983,\n",
       "        -3.92891415, -3.74300847, -3.55710278, -3.3711971 , -3.18529141,\n",
       "        -2.99938573, -2.81348005, -2.62757436, -2.44166868, -2.25576299,\n",
       "        -2.06985731, -1.88395162, -1.69804594, -1.51214026, -1.32623457,\n",
       "        -1.14032889, -0.9544232 , -0.76851752, -0.58261184, -0.39670615,\n",
       "        -0.21080047, -0.02489478,  0.1610109 ,  0.34691658,  0.53282227,\n",
       "         0.71872795,  0.90463364,  1.09053932,  1.276445  ,  1.46235069,\n",
       "         1.64825637,  1.83416206,  2.02006774,  2.20597342,  2.39187911,\n",
       "         2.57778479,  2.76369048,  2.94959616,  3.13550184,  3.32140753,\n",
       "         3.50731321,  3.6932189 ,  3.87912458,  4.06503026,  4.25093595,\n",
       "         4.43684163]),\n",
       " <a list of 50 Patch objects>)"
      ]
     },
     "execution_count": 11,
     "metadata": {},
     "output_type": "execute_result"
    },
    {
     "data": {
      "image/png": "[encoded data removed]",
      "text/plain": [
       "<Figure size 432x288 with 1 Axes>"
      ]
     },
     "metadata": {
      "needs_background": "light"
     },
     "output_type": "display_data"
    }
   ],
   "source": [
    "plt.hist(x,50,cumulative=True,density=True)"
   ]
  },
  {
   "cell_type": "code",
   "execution_count": null,
   "metadata": {},
   "outputs": [],
   "source": []
  }
 ],
 "metadata": {
  "kernelspec": {
   "display_name": "Python 3",
   "language": "python",
   "name": "python3"
  },
  "language_info": {
   "codemirror_mode": {
    "name": "ipython",
    "version": 3
   },
   "file_extension": ".py",
   "mimetype": "text/x-python",
   "name": "python",
   "nbconvert_exporter": "python",
   "pygments_lexer": "ipython3",
   "version": "3.7.4"
  }
 },
 "nbformat": 4,
 "nbformat_minor": 2
}
