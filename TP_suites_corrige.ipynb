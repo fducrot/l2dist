{
 "cells": [
  {
   "cell_type": "markdown",
   "metadata": {},
   "source": [
    "# Étude de suites"
   ]
  },
  {
   "cell_type": "code",
   "execution_count": null,
   "metadata": {},
   "outputs": [],
   "source": [
    "import numpy as np\n",
    "import matplotlib.pyplot as plt"
   ]
  },
  {
   "cell_type": "markdown",
   "metadata": {},
   "source": [
    "## I. Étude d'une suite simple\n",
    "\n",
    "On étudie la suite définie par\n",
    "$$ \n",
    "u_n = \\left( 1+\\frac{1}{n}\\right) ^n \\qquad n>0\n",
    "$$"
   ]
  },
  {
   "cell_type": "code",
   "execution_count": null,
   "metadata": {},
   "outputs": [],
   "source": [
    "def u(n):\n",
    "    return (1+1/n)**n"
   ]
  },
  {
   "cell_type": "code",
   "execution_count": null,
   "metadata": {},
   "outputs": [],
   "source": [
    "N = 30\n",
    "NN = range(1,N+1)\n",
    "U = [u(n) for n in NN]\n",
    "plt.scatter(NN,U)\n",
    "plt.xlabel(\"n\")\n",
    "plt.ylabel(\"u(n)\")\n",
    "plt.title(\"Représentation de la suite par un nuage de points\")"
   ]
  },
  {
   "cell_type": "markdown",
   "metadata": {},
   "source": [
    "Il semble d'après ce dessin que la suite $(u_n)$ converge vers une valeur proche de 2,7.\n",
    "\n",
    "Un calcul de développement limité, que vous devez savoir faire (cours de L1 !), montre que $\\lim_{n\\to\\infty} u_n = e$.\n",
    "\n",
    "On va donc essayer de mettre en évidence cette convergence ainsi que la vitesse de convergence."
   ]
  },
  {
   "cell_type": "code",
   "execution_count": null,
   "metadata": {},
   "outputs": [],
   "source": [
    "from math import e"
   ]
  },
  {
   "cell_type": "code",
   "execution_count": null,
   "metadata": {},
   "outputs": [],
   "source": [
    "N = 30\n",
    "NN = range(1,N+1)\n",
    "erreur = [abs(e-u(n)) for n in NN]\n",
    "plt.scatter(NN,erreur)\n",
    "plt.xlabel(\"n\")\n",
    "plt.ylabel(\"$|u_n - e|$\")\n",
    "plt.title(\"Représentation de l'erreur en fonction de n\")"
   ]
  },
  {
   "cell_type": "code",
   "execution_count": null,
   "metadata": {},
   "outputs": [],
   "source": [
    "N = 30\n",
    "NN = [2**k for k in range(1,N+1)]\n",
    "erreur = [abs(e-u(n)) for n in NN]\n",
    "plt.plot(NN,erreur)\n",
    "plt.xlabel(\"n\")\n",
    "plt.ylabel(\"$|u_n - e|$\")\n",
    "plt.xscale(\"log\")\n",
    "plt.yscale(\"log\")\n",
    "plt.title(\"Représentation logarithmique de l'erreur en fonction de n\")"
   ]
  },
  {
   "cell_type": "markdown",
   "metadata": {},
   "source": [
    "En coordonnées logarithmiques, on observe une droite, dont la pente semble être égale à $-1$. \n",
    "\n",
    "Ceci voudrait dire que $|u_n-e|$ se comporte lorsque $n$ est grand comme $\\frac{a}{n}$, pour un certain réel $a$. Pour mettre ceci plus clairement en évidence, on rajoute sur ce diagramme la représentation de la suite $v_n =\\frac{1}{n}$."
   ]
  },
  {
   "cell_type": "code",
   "execution_count": null,
   "metadata": {},
   "outputs": [],
   "source": [
    "N = 30\n",
    "NN = [2**k for k in range(1,N+1)]\n",
    "un_sur_n = [1/k for k in NN ]\n",
    "erreur = [abs(e-u(n)) for n in NN]\n",
    "plt.plot(NN,erreur)\n",
    "plt.plot(NN,un_sur_n,\"r\")\n",
    "plt.xlabel(\"n\")\n",
    "plt.ylabel(\"$|u_n - e|$\")\n",
    "plt.xscale(\"log\")\n",
    "plt.yscale(\"log\")\n",
    "plt.title(\"Représentation logarithmique de l'erreur en fonction de n\")"
   ]
  },
  {
   "cell_type": "markdown",
   "metadata": {},
   "source": [
    "Les deux graphes coincident presque, ce qui permet de conclure empiriquement :\n",
    "$$\n",
    "u_n = e - \\frac{a}{n} + o\\left(\\frac{1}{n}\\right)\n",
    "$$\n",
    "En réalité, le calcul de développement limité montre que $a = \\frac{e}{2}$. On rectifie donc un peu le tir :"
   ]
  },
  {
   "cell_type": "code",
   "execution_count": null,
   "metadata": {},
   "outputs": [],
   "source": [
    "N = 30\n",
    "NN = [2**k for k in range(1,N+1)]\n",
    "e_sur_deux_n = [e/(2*k) for k in NN ]\n",
    "erreur = [abs(e-u(n)) for n in NN]\n",
    "plt.plot(NN,erreur)\n",
    "plt.plot(NN,e_sur_deux_n,\"r\")\n",
    "plt.xlabel(\"n\")\n",
    "plt.ylabel(\"$|u_n - e|$\")\n",
    "plt.xscale(\"log\")\n",
    "plt.yscale(\"log\")\n",
    "plt.title(\"Représentation logarithmique de l'erreur en fonction de n\")"
   ]
  },
  {
   "cell_type": "markdown",
   "metadata": {},
   "source": [
    "Et là, cela coincide parfaitement !"
   ]
  },
  {
   "cell_type": "markdown",
   "metadata": {},
   "source": [
    "## II. Outils pour l'étude des suites récurrentes"
   ]
  },
  {
   "cell_type": "markdown",
   "metadata": {},
   "source": [
    "On étudie ici une suite numérique $(u_n)$ définie par récurrence par la relation $u_{n+1}=f(u_n)$ et la donnée de de \n",
    "la valeur initiale $u_0$.\n",
    "\n",
    "\n",
    "La fonction suivante affiche les termes de la suite sous forme d'un nuage de points. On affiche `N` valeurs de la suite à partir de la valeur $u_p$. Si `p` n'est pas spécifié, la fonction prend pour valeur par défaut `p = 0`. L'intérête de prendre une valeur de `p` élevée est qu'on ignore ainsi les premières valeurs de la suite, qui peuvent être un erratiques, pour s'intéresser à ce qui se passe à la limite.\n",
    "\n",
    "Arguments d'entrée :\n",
    "- valeur initiale `a`\n",
    "- fonction de récursion `f`\n",
    "- nombre de points affichés `N`\n",
    "- premier indice affiché `p`  (par défaut 0)."
   ]
  },
  {
   "cell_type": "code",
   "execution_count": null,
   "metadata": {},
   "outputs": [],
   "source": [
    "def valeurs_suite(a,f,N,p=0):\n",
    "    u = a\n",
    "    for i in range(p):\n",
    "        u = f(u)\n",
    "    U = []\n",
    "    for i in range(N):\n",
    "        U.append(u)\n",
    "        u = f(u)\n",
    "    plt.scatter(range(p,p+N),U)\n",
    "        "
   ]
  },
  {
   "cell_type": "markdown",
   "metadata": {},
   "source": [
    "Exemple d'utilisation :"
   ]
  },
  {
   "cell_type": "code",
   "execution_count": null,
   "metadata": {},
   "outputs": [],
   "source": [
    "f = lambda x: 3.55 * x * (1-x)\n",
    "valeurs_suite(0.3,f,100,5000)"
   ]
  },
  {
   "cell_type": "markdown",
   "metadata": {},
   "source": [
    "On verra plus loin comment interpréter un tel diagramme."
   ]
  },
  {
   "cell_type": "markdown",
   "metadata": {},
   "source": [
    "**Représentation en escalier** \n",
    "\n",
    "On représente sur un même diagramme le graphe de `f`, la première diagonale, et l'escalier reliant les points $(u_0,u_1)$, $(u_1,u_1)$, $(u_1,u_2)$, $u_2,u_2)$, ..., $(u_N,u_N)$, $(u_n,u_{n+1})$.\n",
    "\n",
    "Arguments d'entrée :\n",
    "- les limites `m` et `M` de l'intervalle d'étude\n",
    "- la fonction de récursion `f`\n",
    "- la valeur initiale de la suite `a`\n",
    "- le nombre de valeurs calculées pour la suite `N`"
   ]
  },
  {
   "cell_type": "code",
   "execution_count": null,
   "metadata": {},
   "outputs": [],
   "source": [
    "def escalier(m,M,f,a,N):\n",
    "    x = np.linspace(m,M,1000)\n",
    "    y = f(x)\n",
    "    u = a\n",
    "    X = [a]\n",
    "    Y = []\n",
    "    for i in range(N):\n",
    "        u = f(u)\n",
    "        X.extend([u,u])\n",
    "        Y.extend([u,u])\n",
    "    Y.append(f(u))\n",
    "    plt.plot(X,Y)\n",
    "    plt.plot(x,y,label=\"y=f(x)\")\n",
    "    plt.plot(x,x,label=\"y=x\")\n",
    "    plt.legend()\n",
    "    plt.title(\"Tracé d'un escalier\")"
   ]
  },
  {
   "cell_type": "markdown",
   "metadata": {},
   "source": [
    "Exemple d'utilisation :"
   ]
  },
  {
   "cell_type": "code",
   "execution_count": null,
   "metadata": {},
   "outputs": [],
   "source": [
    "escalier(0,1,f,0.3,20)"
   ]
  },
  {
   "cell_type": "markdown",
   "metadata": {},
   "source": [
    "## III. Etude de la suite logistique"
   ]
  },
  {
   "cell_type": "markdown",
   "metadata": {},
   "source": [
    "On va étudier des suites récurrentes définies par\n",
    "$$\n",
    "u_0 = a \\in [0,1]\n",
    "$$\n",
    "$$\n",
    "u_{n+1} = c u_n (1-u_n)\n",
    "$$\n",
    "Une telle suite est appelée \"suite logistique\". Ces suites sont associées à la modélisation de l'évolution d'une population animale dans un environnement limité."
   ]
  },
  {
   "cell_type": "markdown",
   "metadata": {},
   "source": [
    "On commence par étudier les fonctions de récursion :\n",
    "$$\n",
    "f_c (x) = cx(1-x)\n",
    "$$"
   ]
  },
  {
   "cell_type": "code",
   "execution_count": null,
   "metadata": {},
   "outputs": [],
   "source": [
    "def f(c,x):\n",
    "    return c * x * (1-x)"
   ]
  },
  {
   "cell_type": "code",
   "execution_count": null,
   "metadata": {},
   "outputs": [],
   "source": [
    "x = np.linspace(0,1,100)\n",
    "for c in [.5, 1, 1.5, 2, 2.5, 3, 3.5, 4]:\n",
    "    plt.plot(x,f(c,x),label=f\"c={c}\")\n",
    "plt.plot(x,x,\"k--\")\n",
    "plt.title(\"Courbes $y=cx(1-x)$\")\n",
    "plt.legend()"
   ]
  },
  {
   "cell_type": "markdown",
   "metadata": {},
   "source": [
    "On constate que l'intervalle $I=[0,1]$ vérifie $f_c(I)\\subset I$, à condition que $c$ soit compris entre $0$ et $4$.  Dans la suite de l'étude, on prendra donc $c\\in[0,4]$.\n",
    "\n",
    "On constate par ailleurs que le graphe de $f_c$ est en dessous de la première diagonale pour $c\\leq 1$. \n",
    "\n",
    "Pour $c>1$, le graphe de $f_c$ coupe la première diagonale en un réel $l_c\\in]0,1[$.\n",
    "\n",
    "Le nombre $l$ vérifie $f_c'(l_c) \\geq 0$ si $c\\leq 2$ et $f_c'(l_c) \\leq 0$ si $c\\geq 2$.\n"
   ]
  },
  {
   "cell_type": "markdown",
   "metadata": {},
   "source": [
    "Dans toute la suite, on va afficher les suites $(u_n)$ de différentes façons, et regarder leur comportement en fonction de $c$. \n",
    "\n",
    "*On choisit arbitrairement de prendre comme valeur initiale de toutes les suites `u0 = 0.3`. C'est un choix purement arbitraire, et vous observeriez exactement les mêmes phénomènes en prenant une autre valeur initiale.*"
   ]
  },
  {
   "cell_type": "markdown",
   "metadata": {},
   "source": [
    "### Le cas $c<1$\n",
    "\n",
    "Prenons par exemple $c=\\frac{1}{2}$. On regarde donc $f:x\\mapsto \\frac{1}{2}x(1-x)$."
   ]
  },
  {
   "cell_type": "code",
   "execution_count": null,
   "metadata": {},
   "outputs": [],
   "source": [
    "f = lambda x: 0.5 * x * (1-x)"
   ]
  },
  {
   "cell_type": "code",
   "execution_count": null,
   "metadata": {},
   "outputs": [],
   "source": [
    "valeurs_suite(0.3,f,50)"
   ]
  },
  {
   "cell_type": "markdown",
   "metadata": {},
   "source": [
    "On voit que la suite converge en décroissant vers 0. \n",
    "\n",
    "On peut le mettre en évidence en traçant l'escalier associé :"
   ]
  },
  {
   "cell_type": "code",
   "execution_count": null,
   "metadata": {},
   "outputs": [],
   "source": [
    "escalier(0,0.4,f,0.3,20)"
   ]
  },
  {
   "cell_type": "markdown",
   "metadata": {},
   "source": [
    "On va maintenant caractériser la vitesse de convergence de la suite $(u_n)$ vers 0.  Pour cela on aficche les valeurs de la suite, mais cette fois, on utilise une échelle logarithmique pour les ordonnées. A cause d'un bug de la fonction `scatter`, on va plutôt utiliser ici simplement la fonction `plot`."
   ]
  },
  {
   "cell_type": "code",
   "execution_count": null,
   "metadata": {},
   "outputs": [],
   "source": [
    "def vitesse_convergence(a,f,N):\n",
    "    u = a\n",
    "    U = []\n",
    "    for i in range(N):\n",
    "        U.append(u)\n",
    "        u = f(u)\n",
    "    plt.plot(range(N),U)\n",
    "    \n",
    "\n",
    "\n",
    "vitesse_convergence(0.3,f,20)\n",
    "plt.yscale(\"log\")\n",
    "plt.grid()\n"
   ]
  },
  {
   "cell_type": "markdown",
   "metadata": {},
   "source": [
    "On constate que le graphe est linéaire. Cela nous dit que la suite $(u_n)$ décroit vers 0 en $a^n$. On peut évaluer le coefficient $a$ en remarquant que lorsque $n$ augmente de 10, $u_n$ est divisé par $10^3$, ce qui nous donne $a=10^{-\\frac{3}{10}}$."
   ]
  },
  {
   "cell_type": "markdown",
   "metadata": {},
   "source": [
    "### Le cas $c=1$.\n",
    "\n",
    "On prend ici $f:x\\mapsto x(1-x)$."
   ]
  },
  {
   "cell_type": "code",
   "execution_count": null,
   "metadata": {},
   "outputs": [],
   "source": [
    "f = lambda x: x*(1-x)"
   ]
  },
  {
   "cell_type": "code",
   "execution_count": null,
   "metadata": {},
   "outputs": [],
   "source": [
    "valeurs_suite(0.3,f,50)"
   ]
  },
  {
   "cell_type": "markdown",
   "metadata": {},
   "source": [
    "On voit que la suite $(u_n)$ converge vers 0, mais que la convergence est beaucoup plus lente que dans le cas précédent.\n",
    "\n",
    "Pour comprendre ce qui se passe ici, on trace l'escalier associé :"
   ]
  },
  {
   "cell_type": "code",
   "execution_count": null,
   "metadata": {},
   "outputs": [],
   "source": [
    "escalier(0,0.4,f,0.3,20)"
   ]
  },
  {
   "cell_type": "markdown",
   "metadata": {},
   "source": [
    "La droite $y=x$ est tangente au graphe de $f$. Il en résulte que la taille des marches de l'escalier est très petite, ce qui entraine cette convergence lente.\n",
    "\n",
    "Pour quantifier la vitesse de convergence, on essaie la même chose que précédemment :"
   ]
  },
  {
   "cell_type": "code",
   "execution_count": null,
   "metadata": {},
   "outputs": [],
   "source": [
    "vitesse_convergence(0.3,f,200)\n",
    "plt.yscale(\"log\")\n",
    "plt.grid()"
   ]
  },
  {
   "cell_type": "markdown",
   "metadata": {},
   "source": [
    "Ce diagramme ne permet pas vraiment d'identifier la vitesse de convergence. On va donc essayer aussi en prenant des coordonnées logarithmiques en $x$ et en $y$ :"
   ]
  },
  {
   "cell_type": "code",
   "execution_count": null,
   "metadata": {},
   "outputs": [],
   "source": [
    "vitesse_convergence(0.3,f,200)\n",
    "plt.xscale(\"log\")\n",
    "plt.yscale(\"log\")\n",
    "plt.grid()"
   ]
  },
  {
   "cell_type": "markdown",
   "metadata": {},
   "source": [
    "Le graphe semble devenir linéaire lorsque $n$ est assez grand. Pour bien le voir, on va donc modifier notre affichage pour ne regarder que les valeurs de $u_n$ pour $n$ entre 200 et 1000 :"
   ]
  },
  {
   "cell_type": "code",
   "execution_count": null,
   "metadata": {},
   "outputs": [],
   "source": [
    "u = 0.3\n",
    "p = 100\n",
    "N = 1000\n",
    "for i in range(p):\n",
    "    u = f(u)\n",
    "U = []\n",
    "for i in range(N):\n",
    "    U.append(u)\n",
    "    u = f(u)\n",
    "plt.plot(range(p,p+N),U)\n",
    "plt.xscale(\"log\")\n",
    "plt.yscale(\"log\")"
   ]
  },
  {
   "cell_type": "markdown",
   "metadata": {},
   "source": [
    "Là, le graphe est vraiment linéaire. Cela veut dire que $\\log_{10}(u_n)$ dépend de façon affine de $\\log_{10}(n)$. Donc $u_n$ tend vers 0 en $\\frac{1}{n^\\alpha}$ pour un coefficient $\\alpha$. Ce nombre $\\alpha$ est facile à déterminer : lorsque $n$ est multiplié par 10, $u_n$ est divisisé par 10. Donc la décroissance est en $\\frac{1}{n}$."
   ]
  },
  {
   "cell_type": "markdown",
   "metadata": {},
   "source": [
    "### Le cas $1<c<2$.\n",
    "\n",
    "On prend par exemple  $f : x\\mapsto \\frac{3}{2} x(1-x)$"
   ]
  },
  {
   "cell_type": "code",
   "execution_count": null,
   "metadata": {},
   "outputs": [],
   "source": [
    "f = lambda x: 1.5 * x * (1-x)"
   ]
  },
  {
   "cell_type": "code",
   "execution_count": null,
   "metadata": {},
   "outputs": [],
   "source": [
    "valeurs_suite(0.3,f,50)"
   ]
  },
  {
   "cell_type": "markdown",
   "metadata": {},
   "source": [
    "La suite converge, mais maintenant plus vers 0. Regardons l'escalier associé :"
   ]
  },
  {
   "cell_type": "code",
   "execution_count": null,
   "metadata": {},
   "outputs": [],
   "source": [
    "escalier(0.25,0.375,f,0.3,20)"
   ]
  },
  {
   "cell_type": "markdown",
   "metadata": {},
   "source": [
    "Vous constaterez que pour obtenir un dessin raisonnable, on a du changer les bornes du diagramme en se plaçant entre 0.25 et 0.375 (ces valeurs sont choisies par tatonnement, en constatant que les valeurs initialement choisies n'étaient pas adaptées).\n",
    "\n",
    "On voit donc que la suite converge en croissant vers le réel $l$ tel que $l = \\frac{3}{2} l (1-l)$. En résolvant cette équation, on trouve $l=\\frac{1}{3}$."
   ]
  },
  {
   "cell_type": "markdown",
   "metadata": {},
   "source": [
    "Pour regarder la vitesse de convergence, on abesoin de modifier légèrement notre fonction `vitesse_convergence` pour prendre en cpompte la valeur de la limite. On trace maintent $|u_n -l|$ en fonction de $n$ :"
   ]
  },
  {
   "cell_type": "code",
   "execution_count": null,
   "metadata": {},
   "outputs": [],
   "source": [
    "def vitesse_convergence(a,f,N,l):\n",
    "    u = a\n",
    "    U = []\n",
    "    for i in range(N):\n",
    "        U.append(abs(u-l))\n",
    "        u = f(u)\n",
    "    plt.plot(range(N),U)\n",
    "    \n",
    "\n",
    "\n",
    "vitesse_convergence(0.3,f,20,1/3)\n",
    "plt.yscale(\"log\")\n",
    "plt.grid()\n"
   ]
  },
  {
   "cell_type": "markdown",
   "metadata": {},
   "source": [
    "On constate de nouveau que le logarithme de $u_n$ dépend de manière affine de $n$ ; cela montre une convergence de la forme \n",
    "$$\n",
    "u_n = l + \\frac{\\alpha}{a^n}+o\\left(\\frac{1}{a^n}\\right).\n",
    "$$"
   ]
  },
  {
   "cell_type": "markdown",
   "metadata": {},
   "source": [
    "### Le cas $c=2$\n",
    "\n",
    "On prend maintenant $f:2x\\mapsto x(1-x)$."
   ]
  },
  {
   "cell_type": "markdown",
   "metadata": {},
   "source": [
    "Remarquons tout de suite que l'équation $f(x) = x$ a pour solutions 0 et $l=\\frac{1}{2}$. Le point d'abscisse $l$ du graphe de $f$ est le sommet de la parabole."
   ]
  },
  {
   "cell_type": "code",
   "execution_count": null,
   "metadata": {},
   "outputs": [],
   "source": [
    "f = lambda x: 2 * x * (1-x)"
   ]
  },
  {
   "cell_type": "code",
   "execution_count": null,
   "metadata": {},
   "outputs": [],
   "source": [
    "valeurs_suite(0.3,f,50)"
   ]
  },
  {
   "cell_type": "code",
   "execution_count": null,
   "metadata": {},
   "outputs": [],
   "source": [
    "escalier(0.25,0.6,f,0.3,20)"
   ]
  },
  {
   "cell_type": "markdown",
   "metadata": {},
   "source": [
    "Cette fois-ci, on constate une convergence très rapide vers $l$ ; dès la troisième marche de l'escalier, on ne voit plus  rien.\n",
    "\n",
    "On essaie donc de caractériser la vitesse de convergence de $u_n$ vers $\\frac{1}{2}$ :"
   ]
  },
  {
   "cell_type": "code",
   "execution_count": null,
   "metadata": {},
   "outputs": [],
   "source": [
    "vitesse_convergence(0.3,f,8,1/2)\n",
    "plt.yscale(\"log\")\n",
    "plt.xticks(range(0,8))\n",
    "plt.grid()"
   ]
  },
  {
   "cell_type": "markdown",
   "metadata": {},
   "source": [
    "La convergence est donc encore plus rapide qu'une convergence exponentielle. Dès $n=6$ la suite atteint la limite de la précision machine (de l'ordre de $10^{-16}$), ce qui explique le dernier tronçon horizontal."
   ]
  },
  {
   "cell_type": "markdown",
   "metadata": {},
   "source": [
    "### Le cas $2<c<3$.\n",
    "\n",
    "Prenons par exemple $f:x\\mapsto \\frac{5}{2} x (1-x)$"
   ]
  },
  {
   "cell_type": "code",
   "execution_count": null,
   "metadata": {},
   "outputs": [],
   "source": [
    "f = lambda x: 2.5 * x * (1-x)"
   ]
  },
  {
   "cell_type": "code",
   "execution_count": null,
   "metadata": {},
   "outputs": [],
   "source": [
    "valeurs_suite(0.3,f,20)"
   ]
  },
  {
   "cell_type": "markdown",
   "metadata": {},
   "source": [
    "La suite converge vers une limite $l$, mais la convergence n'est plus monotone. Pour mieux voir ce qui se passe, on peut partir d'une valeur $u_0$ plus proche de la limite  $l$ :"
   ]
  },
  {
   "cell_type": "code",
   "execution_count": null,
   "metadata": {},
   "outputs": [],
   "source": [
    "valeurs_suite(0.59,f,20)"
   ]
  },
  {
   "cell_type": "code",
   "execution_count": null,
   "metadata": {},
   "outputs": [],
   "source": [
    "escalier(0.5,0.7,f,0.59,20)"
   ]
  },
  {
   "cell_type": "markdown",
   "metadata": {},
   "source": [
    "On ne voit pas grand-chose, donc on modifie la fenêtre d'affichage"
   ]
  },
  {
   "cell_type": "code",
   "execution_count": null,
   "metadata": {},
   "outputs": [],
   "source": [
    "escalier(0.5,0.7,f,0.59,20)\n",
    "plt.xlim([0.59,0.61])\n",
    "plt.ylim([0.59,0.61])"
   ]
  },
  {
   "cell_type": "markdown",
   "metadata": {},
   "source": [
    "On observe bien le comportement en colimaçon qui correspond à une convergence alternée vers $l$. Cela provient du fait que autour de $l$, la fonction $f$ est décroissante."
   ]
  },
  {
   "cell_type": "markdown",
   "metadata": {},
   "source": [
    "### Le cas $c=3$\n",
    "\n",
    "Regardons maintenant la fonction $f: x \\mapsto 3x(1-x)$"
   ]
  },
  {
   "cell_type": "code",
   "execution_count": null,
   "metadata": {},
   "outputs": [],
   "source": [
    "f = lambda x: 3 * x * (1-x)"
   ]
  },
  {
   "cell_type": "code",
   "execution_count": null,
   "metadata": {},
   "outputs": [],
   "source": [
    "valeurs_suite(0.3,f,20)"
   ]
  },
  {
   "cell_type": "markdown",
   "metadata": {},
   "source": [
    "Là, c'est difficile de voir le comportement. Prenons donc un nombre de valeurs supérieur :"
   ]
  },
  {
   "cell_type": "code",
   "execution_count": null,
   "metadata": {},
   "outputs": [],
   "source": [
    "valeurs_suite(0.3,f,1000)"
   ]
  },
  {
   "cell_type": "markdown",
   "metadata": {},
   "source": [
    "La suite semble converger, très lentement, vers une limite $l$. En résolvant l'équation $f(l)=l$, on trouve $l=\\frac{2}{3}$."
   ]
  },
  {
   "cell_type": "code",
   "execution_count": null,
   "metadata": {},
   "outputs": [],
   "source": [
    "escalier(0.3,0.7,f,0.3,50)"
   ]
  },
  {
   "cell_type": "code",
   "execution_count": null,
   "metadata": {},
   "outputs": [],
   "source": [
    "escalier(0.3,0.7,f,0.3,500)"
   ]
  },
  {
   "cell_type": "markdown",
   "metadata": {},
   "source": [
    "On voit bien un colimaçon qui enture le point $(l,l)$, et qui s'en rapproche extrêmement lentement. Essayons de caractériser cette vitesse de convergence :"
   ]
  },
  {
   "cell_type": "code",
   "execution_count": null,
   "metadata": {},
   "outputs": [],
   "source": [
    "vitesse_convergence(0.3,f,200,2/3)"
   ]
  },
  {
   "cell_type": "markdown",
   "metadata": {},
   "source": [
    "Difficile d'en tirer beaucoup d'information ! Essayons donc  plutôt :"
   ]
  },
  {
   "cell_type": "code",
   "execution_count": null,
   "metadata": {},
   "outputs": [],
   "source": [
    "vitesse_convergence(0.3,f,100000,2/3)\n",
    "plt.yscale('log')\n",
    "plt.xscale('log')\n",
    "plt.grid()"
   ]
  },
  {
   "cell_type": "markdown",
   "metadata": {},
   "source": [
    "Pour $n$ grand on voit que le logarithme de $|u_n-l|$ décroit de manière affine en le logarithme de $n$. Il s'agit donc d'une convergence en $\\frac{1}{n^\\alpha}$. Lorsque $n$ est multiplié par 100, $|u_n-l|$ est en gros divisé par 10. La convergence semble donc être approximativement en $\\frac{1}{n^\\frac{1}{2}}$"
   ]
  },
  {
   "cell_type": "markdown",
   "metadata": {},
   "source": [
    "### Et pour $c>3$ ?\n",
    "\n",
    "On a vu que la suite avait déjà du mal à converger lorsque $c=3$. On peut imaginer qu'elle ne va plus converger pour $c>3$. C'est effectivement ce qui va se passer, mais cela demande à être étudié de près."
   ]
  },
  {
   "cell_type": "markdown",
   "metadata": {},
   "source": [
    "**c = 3.2** Prenons d'abord $f: x \\mapsto 3.2 \\, x(1-x)$."
   ]
  },
  {
   "cell_type": "code",
   "execution_count": null,
   "metadata": {},
   "outputs": [],
   "source": [
    "f = lambda x: 3.2 * x * (1-x)"
   ]
  },
  {
   "cell_type": "code",
   "execution_count": null,
   "metadata": {},
   "outputs": [],
   "source": [
    "valeurs_suite(0.3,f,20)"
   ]
  },
  {
   "cell_type": "code",
   "execution_count": null,
   "metadata": {},
   "outputs": [],
   "source": [
    "valeurs_suite(0.3,f,200)"
   ]
  },
  {
   "cell_type": "markdown",
   "metadata": {},
   "source": [
    "On voit qu'il y a deux sous-suites :\n",
    "- celle des termes d'indices pairs, qui converge en croissant vers une limite $l$ proche de 0.8\n",
    "- celle des termes d'indices impairs, qui converge rn décroissant vers une limite proche $l'$ de 0.5\n",
    "\n",
    "On dit que la suite $(u_n)$ a deux valeurs d'adhérence $l$ et $l'$.\n",
    "\n",
    "Pour mieux comprendre, on introduit $g=f\\circ f$. On a :\n",
    "- $u_{2(n+1)} = g(u_{2n})$\n",
    "- $u_{2(n+1)+1} = g(u_{2n+1})$"
   ]
  },
  {
   "cell_type": "code",
   "execution_count": null,
   "metadata": {},
   "outputs": [],
   "source": [
    "g = lambda x: f(f(x))"
   ]
  },
  {
   "cell_type": "markdown",
   "metadata": {},
   "source": [
    "et on trace la suite des termes d'indices pairs :"
   ]
  },
  {
   "cell_type": "code",
   "execution_count": null,
   "metadata": {},
   "outputs": [],
   "source": [
    "valeurs_suite(0.3,g,50)"
   ]
  },
  {
   "cell_type": "markdown",
   "metadata": {},
   "source": [
    "et celle des termes d'indices impairs :"
   ]
  },
  {
   "cell_type": "code",
   "execution_count": null,
   "metadata": {},
   "outputs": [],
   "source": [
    "valeurs_suite(f(0.3),g,50)"
   ]
  },
  {
   "cell_type": "markdown",
   "metadata": {},
   "source": [
    "Traçons maintenant le diagramme en escalier :"
   ]
  },
  {
   "cell_type": "code",
   "execution_count": null,
   "metadata": {},
   "outputs": [],
   "source": [
    "escalier(0.3,0.85,f,0.3,500)"
   ]
  },
  {
   "cell_type": "markdown",
   "metadata": {},
   "source": [
    "On voit que le colimaçon part du centre et s'agrandit progressivement pour tendre vers le rectangle de sommets $(l,l)$, $(l',l)$, $(l',l')$, $(l,l')$."
   ]
  },
  {
   "cell_type": "markdown",
   "metadata": {},
   "source": [
    "**c = 3.5**  Prenons maintenant $f:x \\mapsto 3.5\\, x(1-x)$"
   ]
  },
  {
   "cell_type": "code",
   "execution_count": null,
   "metadata": {},
   "outputs": [],
   "source": [
    "f = lambda x: 3.5 * x * (1-x)"
   ]
  },
  {
   "cell_type": "code",
   "execution_count": null,
   "metadata": {},
   "outputs": [],
   "source": [
    "valeurs_suite(0.3,f,200)"
   ]
  },
  {
   "cell_type": "markdown",
   "metadata": {},
   "source": [
    "On voit apparaitre 4 valeurs d'adhérence.\n",
    "\n",
    "\n",
    "Mettons-les mieux en évidence en affichant séparément les suites extraites $(u_{4n})$, $(u_{4n+1})$, $(u_{4n+2})$, $(u_{4n+3})$ :"
   ]
  },
  {
   "cell_type": "code",
   "execution_count": null,
   "metadata": {},
   "outputs": [],
   "source": [
    "h =lambda x: f(f(f(f(x))))\n",
    "plt.subplot(2,2,1)\n",
    "a = 0.3\n",
    "valeurs_suite(a,h,200)\n",
    "plt.title(\"$u_{4n}$\")\n",
    "plt.xticks([])\n",
    "plt.subplot(2,2,2)\n",
    "a = f(a)\n",
    "valeurs_suite(a,h,200)\n",
    "plt.title(\"$u_{4n+1}$\")\n",
    "plt.xticks([])\n",
    "plt.subplot(2,2,3)\n",
    "a = f(a)\n",
    "valeurs_suite(a,h,200)\n",
    "plt.title(\"$u_{4n+2}$\")\n",
    "plt.subplot(2,2,4)\n",
    "a = f(a)\n",
    "valeurs_suite(a,h,200)\n",
    "plt.title(\"$u_{4n+3}$\")"
   ]
  },
  {
   "cell_type": "code",
   "execution_count": null,
   "metadata": {},
   "outputs": [],
   "source": [
    "escalier(0.3,0.85,f,0.3,500)"
   ]
  },
  {
   "cell_type": "markdown",
   "metadata": {},
   "source": [
    "Le dessin devient un peu difficile à interpréter, mais on voit distinctement 4 traits horizontaux vers lesquels s'accumule le colimaçon."
   ]
  },
  {
   "cell_type": "markdown",
   "metadata": {},
   "source": [
    "**c = 3.55** On augmente encore $c$ en prenant $f:x\\mapsto 3.55\\, x(1-x)$."
   ]
  },
  {
   "cell_type": "code",
   "execution_count": null,
   "metadata": {},
   "outputs": [],
   "source": [
    "f = lambda x: 3.55 * x * (1-x)"
   ]
  },
  {
   "cell_type": "code",
   "execution_count": null,
   "metadata": {},
   "outputs": [],
   "source": [
    "valeurs_suite(0.3,f,200)"
   ]
  },
  {
   "cell_type": "markdown",
   "metadata": {},
   "source": [
    "On voit ici apparaitre 8 valeurs d'adhérence, réparties par groupes de deux. Chacune des valeurs du cas précédent s'est divisée en deux valeurs distinctes.\n",
    "\n",
    "On peut aussi le visualiser avec un colimaçon :"
   ]
  },
  {
   "cell_type": "code",
   "execution_count": null,
   "metadata": {},
   "outputs": [],
   "source": [
    "escalier(0.3,0.85,f,0.3,500)"
   ]
  },
  {
   "cell_type": "markdown",
   "metadata": {},
   "source": [
    "### Encore plus compliqué\n",
    "Plus $c$ se rapproche de 4, plus la situation semble compliquée :"
   ]
  },
  {
   "cell_type": "code",
   "execution_count": null,
   "metadata": {},
   "outputs": [],
   "source": [
    "f = lambda x: 3.85 * x * (1-x)\n",
    "escalier(0,1,f,0.3,500)"
   ]
  },
  {
   "cell_type": "code",
   "execution_count": null,
   "metadata": {},
   "outputs": [],
   "source": [
    "f = lambda x: 3.95 * x * (1-x)\n",
    "escalier(0,1,f,0.3,500)"
   ]
  },
  {
   "cell_type": "code",
   "execution_count": null,
   "metadata": {},
   "outputs": [],
   "source": [
    "f = lambda x: 4 * x * (1-x)\n",
    "escalier(0,1,f,0.3,500)"
   ]
  },
  {
   "cell_type": "markdown",
   "metadata": {},
   "source": [
    "On voit que la suite occupe uniformément l'intervalle $[0,4]$. Pour mieux le mettre en évidence, on va calculer les 100000 premiers termes de la suite, et tracer leur histogramme de répartition en 100 classes :"
   ]
  },
  {
   "cell_type": "code",
   "execution_count": null,
   "metadata": {},
   "outputs": [],
   "source": [
    "u = 0.3\n",
    "U = [u]\n",
    "for i in range(100000):\n",
    "    u = f(u)\n",
    "    U.append(u)\n",
    "plt.hist(U,100)"
   ]
  },
  {
   "cell_type": "markdown",
   "metadata": {},
   "source": [
    "On observe une répartition presque uniforme au centre de l'intervalle, avec cependant une accumulation sur les bords."
   ]
  },
  {
   "cell_type": "markdown",
   "metadata": {},
   "source": [
    "### Évolution des valeurs d'adhérence suivant les valeurs de $c$"
   ]
  },
  {
   "cell_type": "markdown",
   "metadata": {},
   "source": [
    "Une façon de mettre en évidence les valeurs d'adhérence est de regarder les valeurs de $u_n$ pour $n\\in [N_1,N_2]$, où $N_1$ et $N_2$ sont des nombres suffisamment grands. Ici on prendra $N_1 = 100000$ et $N_2 = 200000$.\n",
    "On regadera ensuite la répartition des $u_n$ en faisant tracer un histogramme."
   ]
  },
  {
   "cell_type": "code",
   "execution_count": null,
   "metadata": {},
   "outputs": [],
   "source": [
    "def valeurs_adherence(c):\n",
    "    f = lambda x: c * x*(1-x)\n",
    "    u = 0.3\n",
    "    U = [u]\n",
    "    for i in range(200000):\n",
    "        u = f(u)\n",
    "    for i in range(100000):\n",
    "        u = f(u)\n",
    "        U.append(u)\n",
    "    plt.hist(U,300)\n"
   ]
  },
  {
   "cell_type": "markdown",
   "metadata": {},
   "source": [
    "Testons alors pour différentes valeurs de $c$ :"
   ]
  },
  {
   "cell_type": "code",
   "execution_count": null,
   "metadata": {},
   "outputs": [],
   "source": [
    "valeurs_adherence(3.2)"
   ]
  },
  {
   "cell_type": "code",
   "execution_count": null,
   "metadata": {},
   "outputs": [],
   "source": [
    "valeurs_adherence(3.4)"
   ]
  },
  {
   "cell_type": "code",
   "execution_count": null,
   "metadata": {},
   "outputs": [],
   "source": [
    "valeurs_adherence(3.5)"
   ]
  },
  {
   "cell_type": "code",
   "execution_count": null,
   "metadata": {},
   "outputs": [],
   "source": [
    "valeurs_adherence(3.55)"
   ]
  },
  {
   "cell_type": "code",
   "execution_count": null,
   "metadata": {},
   "outputs": [],
   "source": [
    "valeurs_adherence(3.56)"
   ]
  },
  {
   "cell_type": "code",
   "execution_count": null,
   "metadata": {},
   "outputs": [],
   "source": [
    "valeurs_adherence(3.565)"
   ]
  },
  {
   "cell_type": "code",
   "execution_count": null,
   "metadata": {},
   "outputs": [],
   "source": [
    "valeurs_adherence(3.57)"
   ]
  },
  {
   "cell_type": "markdown",
   "metadata": {},
   "source": [
    "Inutile d'aller plus loin avec des valeurs de $c$ supérieures ; on n'y comprendra plus grand chose."
   ]
  },
  {
   "cell_type": "markdown",
   "metadata": {},
   "source": [
    "### Diagramme de Feigenbaum\n",
    "\n",
    "Pour avoir une vision graphique de la façon dont évaluent les valeurs d'adhérence lorsque $c$ varie, on va faire varier $c$ entre deux bornes $c_1$ et $c_2$, et pour chcune des valeurs de $c$, on va tracer les points $(c,u_n)$ pour $n$ variant entre deux valeurs $N$ et $N+p$, en prenant par exemple $N=1000$ et $p=200$."
   ]
  },
  {
   "cell_type": "code",
   "execution_count": null,
   "metadata": {},
   "outputs": [],
   "source": [
    "def feigenbaum(u0,c1,c2):\n",
    "    x=[]\n",
    "    y=[]\n",
    "    N = 1000\n",
    "    p = 200\n",
    "    x = []  # le vecteur des abscisses\n",
    "    y = []  # le vecteur des ordonnées\n",
    "    for c in np.linspace(c1,c2,500):\n",
    "        x += p*[c] # on va tracer p points d'abscisse p\n",
    "        u = u0\n",
    "        for i in range(N):\n",
    "            u = c*u*(1-u)\n",
    "        for i in range(p):\n",
    "            u = c*u*(1-u)\n",
    "            y.append(u)  # on met les ordonnées des p points au dessus de c\n",
    "    plt.scatter(x,y,s=1)  # et on affiche les points, en choisissant une petite taille de points"
   ]
  },
  {
   "cell_type": "markdown",
   "metadata": {},
   "source": [
    "On expérimente ensuite pour certaines valeurs de $c_1$ et $c_2$  :"
   ]
  },
  {
   "cell_type": "code",
   "execution_count": null,
   "metadata": {},
   "outputs": [],
   "source": [
    "feigenbaum(0.3,0,3.57)"
   ]
  },
  {
   "cell_type": "markdown",
   "metadata": {},
   "source": [
    "Nous constatons des phénomènes que nous avons déjà observés :\n",
    "- pour $c<1$, l'unique valeur d'adhérence est 0\n",
    "- pour $1<c<3$,  il ya toujours une seule valeur d'adhérence, mais c'est la solution non nulle de l'équation $l=cl(1-l)$.\n",
    "- pour $c$ compris entre 3 et une limite légèrement plus petite que 3.5, il y a deux valeurs d'adhérence\n",
    "- ensuite, ces valeurs d'adhérence se scindent encore en deux, etc..."
   ]
  },
  {
   "cell_type": "markdown",
   "metadata": {},
   "source": [
    "Pour bien voir ce qui se passe, on choisit une petite plage de variation pour $c$, dans une zone où on constate des bifurcations :"
   ]
  },
  {
   "cell_type": "code",
   "execution_count": null,
   "metadata": {},
   "outputs": [],
   "source": [
    "feigenbaum(0.3,3.5,3.57)"
   ]
  },
  {
   "cell_type": "markdown",
   "metadata": {},
   "source": [
    "On constate bien le phénomène de bifurcation des valeurs d'adhérence.\n",
    "\n",
    "Si on va plus, loin, là la situation devient chaotique :"
   ]
  },
  {
   "cell_type": "code",
   "execution_count": null,
   "metadata": {},
   "outputs": [],
   "source": [
    "feigenbaum(0.3,0,4)"
   ]
  },
  {
   "cell_type": "markdown",
   "metadata": {},
   "source": [
    "ou encore, en se focalisant sur la zone à problèmes :"
   ]
  },
  {
   "cell_type": "code",
   "execution_count": null,
   "metadata": {},
   "outputs": [],
   "source": [
    "feigenbaum(0.3,3.5,4)"
   ]
  },
  {
   "cell_type": "markdown",
   "metadata": {},
   "source": [
    "Ceci devient trop compliqué à analyser pour nous..."
   ]
  },
  {
   "cell_type": "code",
   "execution_count": null,
   "metadata": {},
   "outputs": [],
   "source": []
  }
 ],
 "metadata": {
  "kernelspec": {
   "display_name": "Python 3",
   "language": "python",
   "name": "python3"
  },
  "language_info": {
   "codemirror_mode": {
    "name": "ipython",
    "version": 3
   },
   "file_extension": ".py",
   "mimetype": "text/x-python",
   "name": "python",
   "nbconvert_exporter": "python",
   "pygments_lexer": "ipython3",
   "version": "3.7.3"
  }
 },
 "nbformat": 4,
 "nbformat_minor": 2
}
