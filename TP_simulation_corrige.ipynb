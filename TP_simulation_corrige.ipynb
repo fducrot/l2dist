{
 "cells": [
  {
   "cell_type": "markdown",
   "metadata": {},
   "source": [
    "# TP de simulation probabiliste"
   ]
  },
  {
   "cell_type": "code",
   "execution_count": 1,
   "metadata": {},
   "outputs": [],
   "source": [
    "import random as rd\n",
    "import numpy.random as npr\n",
    "import matplotlib.pyplot as plt\n",
    "import numpy as np"
   ]
  },
  {
   "cell_type": "markdown",
   "metadata": {},
   "source": [
    "On va utiliser l'outil \"générateur de nombres aléatoires\" pour expérimenter sur certains problèmes classiques de probabilité."
   ]
  },
  {
   "cell_type": "markdown",
   "metadata": {},
   "source": [
    "##  1. Le paradoxe du Duc De Toscane\n",
    "\n",
    "Le Grand Duc de Toscane avait remarqué que, bien qu'il y ait autant de façons d'écrire 9 et 10 comme somme de 3 nombres compris entre 1 et 6, on obtient plus souvent un total de 10 lorsqu'on lance 3 dés. Galilée lui donna vers 1620 une explication de ce paradoxe. Galilée est alors Premier Mathématicien de l’Université de Pise et Premier Philosophe du Grand Duc à Florence). Galilée est ainsi l’un des premiers avec Cardan à avoir écrit sur le « calcul des hasards », mais leurs écrits n’ont été publiés qu’après la célèbre correspondance entre Pascal et Fermat qui marque « officiellement » le début de la théorie des probabilités. Le mémoire de Galilée qui nous intéresse n’a été édité qu’en 1718."
   ]
  },
  {
   "cell_type": "markdown",
   "metadata": {},
   "source": [
    "**Exercice** Écrire une fonction `toscane(N)` qui simule N tirages de 3 dés, qui pour chaque tirage calcule la somme des 3 dés  et affiche les pourcentages d'obtention de 9 et 10.\n",
    "\n",
    "Par exemple, lorsque je tape `toscane(1000000)`, j'obtiens un résultat du genre :\n",
    "\n",
    "```\n",
    "9 a été obtenu dans 11.5599 % des cas\n",
    "10 a été obtenu dans 12.4949 % des cas\n",
    "```\n"
   ]
  },
  {
   "cell_type": "code",
   "execution_count": 2,
   "metadata": {},
   "outputs": [],
   "source": [
    "def toscane(N):\n",
    "    X = npr.randint(1,7,N) + npr.randint(1,7,N) + npr.randint(1,7,N)\n",
    "    nb9 = np.count_nonzero(X == 9)\n",
    "    nb10 = np.count_nonzero(X == 10)\n",
    "    print(f\"9 a été obtenu dans {100*nb9/N} % des cas\")\n",
    "    print(f\"10 a été obtenu dans {100*nb10/N} % des cas\")"
   ]
  },
  {
   "cell_type": "markdown",
   "metadata": {},
   "source": [
    "Tester votre fonction sur 1000000 tirages :"
   ]
  },
  {
   "cell_type": "code",
   "execution_count": 3,
   "metadata": {},
   "outputs": [
    {
     "name": "stdout",
     "output_type": "stream",
     "text": [
      "9 a été obtenu dans 11.593 % des cas\n",
      "10 a été obtenu dans 12.5013 % des cas\n"
     ]
    }
   ],
   "source": [
    "toscane(1000000)"
   ]
  },
  {
   "cell_type": "markdown",
   "metadata": {},
   "source": [
    "Le résultat obtenu semble bien  corroborer l'observation du Duc de Toscane. Il reste donc à l'expliquer."
   ]
  },
  {
   "cell_type": "markdown",
   "metadata": {},
   "source": [
    "**Exercice** Ecrire une fonction `ecriture(n)` qui énumère ltoutes les façons d'écrire un nombre comme somme de trois entiers compris entre 1 et 6."
   ]
  },
  {
   "cell_type": "code",
   "execution_count": 4,
   "metadata": {},
   "outputs": [],
   "source": [
    "def ecriture(n):\n",
    "    compte = 0\n",
    "    for i in range(1,7):\n",
    "        for j in range(i,7):\n",
    "            for k in range(j,7):\n",
    "                if i +j+k == n:\n",
    "                    print(f\"{i}+{j}+{k}={n}\")\n",
    "                    compte += 1\n",
    "    print(f\"{n} s'écrit donc de {compte} façons comme somme de trois entiers entre 1 et 6\")"
   ]
  },
  {
   "cell_type": "markdown",
   "metadata": {},
   "source": [
    "Testez ensuite en tapant\n",
    "```python\n",
    "ecriture(9)\n",
    "ecriture(10)\n",
    "```"
   ]
  },
  {
   "cell_type": "code",
   "execution_count": 5,
   "metadata": {},
   "outputs": [
    {
     "name": "stdout",
     "output_type": "stream",
     "text": [
      "1+2+6=9\n",
      "1+3+5=9\n",
      "1+4+4=9\n",
      "2+2+5=9\n",
      "2+3+4=9\n",
      "3+3+3=9\n",
      "9 s'écrit donc de 6 façons comme somme de trois entiers entre 1 et 6\n",
      "1+3+6=10\n",
      "1+4+5=10\n",
      "2+2+6=10\n",
      "2+3+5=10\n",
      "2+4+4=10\n",
      "3+3+4=10\n",
      "10 s'écrit donc de 6 façons comme somme de trois entiers entre 1 et 6\n"
     ]
    }
   ],
   "source": [
    "ecriture(9)\n",
    "ecriture(10)"
   ]
  },
  {
   "cell_type": "markdown",
   "metadata": {},
   "source": [
    "C'est là le paradoxe : les deux nombres s'écrivent chacun du même nombre de façons, et pourtant 10 apparait plus souvent que 9. On voit ici que le Duc de Toscane avait déjà des notions de calcul des probabilités. mais son erreur est de regarder les écritures non ordonnées, alors que ce qui compte ici, ce sont les écitures ordonnées.\n",
    "\n",
    "Il ne s'agit pas d'un vrai paradoxe, mettant en jeu la cohérence des mathématiques, juste une erreur de compréhension d'un phénomène mathématique.\n",
    "\n",
    "Pour bien comprendre, écrivez maintenant une fonction `ecriture_ordonnee(n)` Qui prend en argument un entier `n`"
   ]
  },
  {
   "cell_type": "code",
   "execution_count": 6,
   "metadata": {},
   "outputs": [],
   "source": [
    "def ecriture_ordonnee(n):\n",
    "    compte = 0\n",
    "    for i in range(1,7):\n",
    "        for j in range(1,7):\n",
    "            for k in range(1,7):\n",
    "                if i + j + k == n:\n",
    "                    print(f\"{i}+{j}+{k}={n}\")\n",
    "                    compte += 1\n",
    "    print(f\"{n} s'écrit donc de {compte} façons comme somme ordonnée de trois entiers entre 1 et 6\")"
   ]
  },
  {
   "cell_type": "code",
   "execution_count": 7,
   "metadata": {},
   "outputs": [
    {
     "name": "stdout",
     "output_type": "stream",
     "text": [
      "1+2+6=9\n",
      "1+3+5=9\n",
      "1+4+4=9\n",
      "1+5+3=9\n",
      "1+6+2=9\n",
      "2+1+6=9\n",
      "2+2+5=9\n",
      "2+3+4=9\n",
      "2+4+3=9\n",
      "2+5+2=9\n",
      "2+6+1=9\n",
      "3+1+5=9\n",
      "3+2+4=9\n",
      "3+3+3=9\n",
      "3+4+2=9\n",
      "3+5+1=9\n",
      "4+1+4=9\n",
      "4+2+3=9\n",
      "4+3+2=9\n",
      "4+4+1=9\n",
      "5+1+3=9\n",
      "5+2+2=9\n",
      "5+3+1=9\n",
      "6+1+2=9\n",
      "6+2+1=9\n",
      "9 s'écrit donc de 25 façons comme somme ordonnée de trois entiers entre 1 et 6\n",
      "1+3+6=10\n",
      "1+4+5=10\n",
      "1+5+4=10\n",
      "1+6+3=10\n",
      "2+2+6=10\n",
      "2+3+5=10\n",
      "2+4+4=10\n",
      "2+5+3=10\n",
      "2+6+2=10\n",
      "3+1+6=10\n",
      "3+2+5=10\n",
      "3+3+4=10\n",
      "3+4+3=10\n",
      "3+5+2=10\n",
      "3+6+1=10\n",
      "4+1+5=10\n",
      "4+2+4=10\n",
      "4+3+3=10\n",
      "4+4+2=10\n",
      "4+5+1=10\n",
      "5+1+4=10\n",
      "5+2+3=10\n",
      "5+3+2=10\n",
      "5+4+1=10\n",
      "6+1+3=10\n",
      "6+2+2=10\n",
      "6+3+1=10\n",
      "10 s'écrit donc de 27 façons comme somme ordonnée de trois entiers entre 1 et 6\n"
     ]
    }
   ],
   "source": [
    "ecriture_ordonnee(9)\n",
    "ecriture_ordonnee(10)"
   ]
  },
  {
   "cell_type": "markdown",
   "metadata": {},
   "source": [
    "La probabilité d'obtenir 9 est donc $\\frac{25}{6^3} \\simeq 0,1157$, alors que celle d'obtenir 10 est \n",
    "$\\frac{27}{6^3} = 0,125$. Le résultat de ce calcul est conforme aux observations faites par simulation."
   ]
  },
  {
   "cell_type": "markdown",
   "metadata": {},
   "source": [
    "## 2. Le lièvre et la tortue\n",
    "\n",
    "\n",
    "Le lièvre et la tortue jouent aux dés en lançant autant de fois que nécessaire un dé. A chaque tirage, si on obtient de 1 à 5, la tortue avance d'une case, si on obtient 6, le lièvre avance de 6 cases d'un coup. Le premier qui a avancé de 6 cases a gagné.\n",
    "\n",
    "Autrement dit, il y a au plus 6 tirages. Si parmi ceux là, il y a un 6, le lièvre gagne, sinon, c'est la tortue."
   ]
  },
  {
   "cell_type": "markdown",
   "metadata": {},
   "source": [
    "**Exercice** \n",
    "\n",
    "Ecrire une fonction `partie()`, ne prenant pas d'argument, qui simule une partie et rend \"tortue\" ou \"lièvre\" suivant qui a gagné."
   ]
  },
  {
   "cell_type": "code",
   "execution_count": 8,
   "metadata": {},
   "outputs": [],
   "source": [
    "def partie():\n",
    "    for i in range(6):\n",
    "        x = npr.randint(1,7)\n",
    "        if x == 6:\n",
    "            return \"lièvre\"\n",
    "    return \"tortue\""
   ]
  },
  {
   "cell_type": "markdown",
   "metadata": {},
   "source": [
    "**Exercice** \n",
    "\n",
    "Faire simuler un grand nombre de parties et mesurer la proportion de gain du lièvre."
   ]
  },
  {
   "cell_type": "code",
   "execution_count": 9,
   "metadata": {},
   "outputs": [],
   "source": [
    "def simulation_lievre_tortue(jeu,N):\n",
    "    lievre = 0\n",
    "    for i in range(N):\n",
    "        if jeu() == \"lièvre\":\n",
    "            lievre +=1\n",
    "    print(f\"le lievre gagne dans  {100*lievre/N} % des cas\")"
   ]
  },
  {
   "cell_type": "code",
   "execution_count": 10,
   "metadata": {},
   "outputs": [
    {
     "name": "stdout",
     "output_type": "stream",
     "text": [
      "le lievre gagne dans  66.578 % des cas\n"
     ]
    }
   ],
   "source": [
    "simulation_lievre_tortue(partie,1000000)"
   ]
  },
  {
   "cell_type": "markdown",
   "metadata": {},
   "source": [
    "**Exercice**\n",
    "\n",
    "Vous aurez sans doute observé que le lièvre a une probabilité de gagner supérieure à celle de la tortue. Pour rééquilibrer les choses, on introduit une nouvelle règle en décidant maintenant que la tortue avance de deux cases quand c'est à elle d'avancer.\n",
    "\n",
    "Modélisez cette nouvelle règle, et observez par simulation quelles sont les probabilités de gain de chacun."
   ]
  },
  {
   "cell_type": "code",
   "execution_count": 11,
   "metadata": {},
   "outputs": [],
   "source": [
    "def partie_2():\n",
    "    x = npr.randint(1,7,3)\n",
    "    if 6 in x:\n",
    "        return \"lièvre\"\n",
    "    return \"tortue\" "
   ]
  },
  {
   "cell_type": "code",
   "execution_count": 12,
   "metadata": {},
   "outputs": [
    {
     "name": "stdout",
     "output_type": "stream",
     "text": [
      "le lievre gagne dans  42.0877 % des cas\n"
     ]
    }
   ],
   "source": [
    "simulation_lievre_tortue(partie_2,1000000)"
   ]
  },
  {
   "cell_type": "markdown",
   "metadata": {},
   "source": [
    "## 3. Simulation de la loi binomiale\n",
    "\n",
    "\n",
    "On réalise $n$ fois une expérience de Bernoulli de paramètre p. Pour $k=0,\\ldots,n$, on s'intéresse à la probabilité $B_{n;p}(k)$ d'obtenir exactement $k$ fois un 1. \n",
    "\n",
    "Un calcul combinatoire simple montre que :\n",
    "$$\n",
    "B_{n,p}(k) = {n\\choose k}  p^k(1-p)^{n-k} \\qquad k=0,\\ldots,n\n",
    "$$\n",
    "C'est la loi binômiale de parmètres $n$ et $p$"
   ]
  },
  {
   "cell_type": "markdown",
   "metadata": {},
   "source": [
    "**Exercice**\n",
    "\n",
    "Écrire une fonction `tirage_binomial(n,p)`, prenant en arguments un entier $n$ et un réel $p$ compris entre 0 et 1, qui fait $n$ tirages d'une épreuve de Bernoulli de paramètre $p$, et rend le nombre $k$ d'apparitions du 1."
   ]
  },
  {
   "cell_type": "code",
   "execution_count": 13,
   "metadata": {},
   "outputs": [],
   "source": [
    "def tirage_binomial(n,p):\n",
    "    x = np.floor(p+npr.rand(n))\n",
    "    return int(sum(x))"
   ]
  },
  {
   "cell_type": "code",
   "execution_count": 14,
   "metadata": {},
   "outputs": [
    {
     "data": {
      "text/plain": [
       "13"
      ]
     },
     "execution_count": 14,
     "metadata": {},
     "output_type": "execute_result"
    }
   ],
   "source": [
    "tirage_binomial(25,0.3)"
   ]
  },
  {
   "cell_type": "markdown",
   "metadata": {},
   "source": [
    "**Exercice**\n",
    "\n",
    "Écrire une fonction  `simulation_binomiale(n,p,N)` qui appelle $N$ fois la fonction `tirage_binomial(n,p)`, calcule la fréquence d'apparitions des entiers $k$ pour $0\\leq k \\leq n$, et affiche ces fréquences sous forme d'un diagramme en barres (fonction `bar` de `matplotlib`)."
   ]
  },
  {
   "cell_type": "code",
   "execution_count": 15,
   "metadata": {},
   "outputs": [],
   "source": [
    "def simulation_binomiale(n,p,N):\n",
    "    compteur = [0]*(n+1)\n",
    "    for i in range(N):\n",
    "        k = tirage_binomial(n,p)\n",
    "        compteur[k] += 1\n",
    "    compteur = [x/N for x in compteur]\n",
    "    plt.bar(range(n+1),compteur)"
   ]
  },
  {
   "cell_type": "markdown",
   "metadata": {},
   "source": [
    "Testez votre fonction `simulation_binomiale(n,p,N)` pour différentes valeurs des arguments.\n",
    "\n",
    "Quelle semble être l'espérance d'une variable aléatoire qui suit la loi binomiale $B_{n,p}$ ?"
   ]
  },
  {
   "cell_type": "code",
   "execution_count": 16,
   "metadata": {},
   "outputs": [
    {
     "data": {
      "image/png": "[encoded data removed]",
      "text/plain": [
       "<Figure size 432x288 with 1 Axes>"
      ]
     },
     "metadata": {
      "needs_background": "light"
     },
     "output_type": "display_data"
    }
   ],
   "source": [
    "simulation_binomiale(50,0.4,100000)"
   ]
  },
  {
   "cell_type": "markdown",
   "metadata": {},
   "source": [
    "On observe une sorte de courbe en cloche, centrée autour de $pn$."
   ]
  },
  {
   "cell_type": "markdown",
   "metadata": {},
   "source": [
    "On va maintenant comparer nos observations obtenues par simulation aux calculs exacts, obtenue grâce à l'expression explicite de la loi binomiale, rappelée plus haut."
   ]
  },
  {
   "cell_type": "markdown",
   "metadata": {},
   "source": [
    "**Exercice**\n",
    "\n",
    "Écrire une fonction `pascal(n)` qui rend la $n$-ème ligne du triangle de Pascal.\n",
    "\n",
    "Ainsi `pascal(3)` rendra `[1,3,3,1]`."
   ]
  },
  {
   "cell_type": "code",
   "execution_count": 17,
   "metadata": {},
   "outputs": [
    {
     "data": {
      "text/plain": [
       "[1, 3, 3, 1]"
      ]
     },
     "execution_count": 17,
     "metadata": {},
     "output_type": "execute_result"
    }
   ],
   "source": [
    "def pascal(n):\n",
    "    x = [1] + n*[0]\n",
    "    for i in range(n):\n",
    "        y = [1]\n",
    "        for j in range(n):\n",
    "            y.append(x[j] + x[j+1])\n",
    "        x = y\n",
    "    return x\n",
    "\n",
    "pascal(3)"
   ]
  },
  {
   "cell_type": "markdown",
   "metadata": {},
   "source": [
    "**Exercice**\n",
    "\n",
    "Écrire une fonction `binomiale(n,p)` prenant en argument un entier $n$ et une probabilité $p$ et calculant le vecteur des $B_{n,p}(k)$."
   ]
  },
  {
   "cell_type": "code",
   "execution_count": 18,
   "metadata": {},
   "outputs": [
    {
     "data": {
      "text/plain": [
       "[0.05764800999999997,\n",
       " 0.1976503199999999,\n",
       " 0.2964754799999999,\n",
       " 0.2541218399999999,\n",
       " 0.13613669999999997,\n",
       " 0.04667543999999998,\n",
       " 0.010001879999999998,\n",
       " 0.0012247199999999997,\n",
       " 6.560999999999998e-05]"
      ]
     },
     "execution_count": 18,
     "metadata": {},
     "output_type": "execute_result"
    }
   ],
   "source": [
    "def binomiale(n,p):\n",
    "    x = pascal(n)\n",
    "    x = [ p**k * (1-p)**(n-k) * x[k] for k in range(n+1) ]\n",
    "    return x\n",
    "\n",
    "binomiale(8,0.3)"
   ]
  },
  {
   "cell_type": "markdown",
   "metadata": {},
   "source": [
    "**Exercice**\n",
    "\n",
    "Faire représenter la loi binomiale  par un diagramme en barres, et comparer avec ce qu'on a obtenu par simulation."
   ]
  },
  {
   "cell_type": "code",
   "execution_count": 19,
   "metadata": {},
   "outputs": [
    {
     "data": {
      "image/png": "[encoded data removed]",
      "text/plain": [
       "<Figure size 432x288 with 1 Axes>"
      ]
     },
     "metadata": {
      "needs_background": "light"
     },
     "output_type": "display_data"
    }
   ],
   "source": [
    "def plot_binomiale(n,p):\n",
    "    plt.bar(range(n+1) , binomiale(n,p))\n",
    "    \n",
    "plot_binomiale(50,0.4)"
   ]
  },
  {
   "cell_type": "markdown",
   "metadata": {},
   "source": [
    "## 4. Tirage sans remise\n",
    "\n",
    "On a un panier de 10 oeuf, parmi lesquels 5 sont pourris. On prend au hasard 3 oeufs dans ce panier. Bien sûr, quand on prend un oeuf, on ne le remet pas dans le panier ensuite !\n",
    "\n",
    "Pour tout $k\\in[0,3]$, on note $P(k)$ la probabilité qu'il y ait $k$ oeufs pourris parmi les 3 qui ont été choisis. "
   ]
  },
  {
   "cell_type": "markdown",
   "metadata": {},
   "source": [
    "**Exercice**\n",
    "\n",
    "* Ecrire une fonction `tirage_sans_remise()` qui simule un tirage sans remise de 3 oeufs dans notre panier, et rend le nombre d(oeufs pourris qu'on a obtenu.\n",
    "* Ecrire une fonction `frequences_tirage_sans_remise(N)` qui réalise $N$ expériences de tirage de 3 oeufs dans le panier, et rend les fréquences d'apparition `[F(0), F(1), F(2), F(3)]`du nombre d'oeufs pourris.\n",
    "* Comparer avec ce que donnerait un titage avec remise."
   ]
  },
  {
   "cell_type": "code",
   "execution_count": 20,
   "metadata": {},
   "outputs": [],
   "source": [
    "def tirage_sans_remise():\n",
    "    l = np.arange(10)\n",
    "    npr.shuffle(l)\n",
    "    pris = l[:3]\n",
    "    return np.count_nonzero(pris < 5)\n",
    "\n",
    "def frequences_tirage_sans_remise(N):\n",
    "    resultats = [0,0,0,0]\n",
    "    for i in range(N):\n",
    "        nb = tirage_sans_remise()\n",
    "        resultats[nb] += 1\n",
    "    print([x/N for x in resultats])"
   ]
  },
  {
   "cell_type": "code",
   "execution_count": 21,
   "metadata": {},
   "outputs": [
    {
     "name": "stdout",
     "output_type": "stream",
     "text": [
      "[0.08423, 0.41632, 0.41478, 0.08467]\n"
     ]
    }
   ],
   "source": [
    "frequences_tirage_sans_remise(100000)"
   ]
  },
  {
   "cell_type": "markdown",
   "metadata": {},
   "source": [
    "On compare ça à la loi binomiale de paramètres 3 et 0.5, qui correspond à un tirage avec remise :"
   ]
  },
  {
   "cell_type": "code",
   "execution_count": 22,
   "metadata": {},
   "outputs": [
    {
     "data": {
      "text/plain": [
       "[0.125, 0.375, 0.375, 0.125]"
      ]
     },
     "execution_count": 22,
     "metadata": {},
     "output_type": "execute_result"
    }
   ],
   "source": [
    "binomiale(3,0.5)"
   ]
  },
  {
   "cell_type": "markdown",
   "metadata": {},
   "source": [
    "## 5. Temps de première apparition d'un motif\n",
    "\n",
    "On lance indéfiniment une pièce de monnaie équilibrée et on note les résultats. On obtient ainsi une suite de `pile` et de `face`, ou si on préfère de `0` et de `1`.  On se donne un motif constitué de 0 et de 1, par exemple `M = 0010111`. Ce motif apparaitra un jour dans la suite de `0` et de `1` produite par la pièce de monnaie. On appelle temps d'apparition du motif `M` le numéro du lancer qui fait apparaitre pour la première fois `M` dans la liste.\n",
    "\n",
    "Par exemple, si la suite observée donne :\n",
    "`000110100101110100...`\n",
    "on voit que le motif`M` est apparu lorsqu'on a fait le 14-ème tirage. Le temps d'attente lors de cette expérience a donc été `T = 14`."
   ]
  },
  {
   "cell_type": "markdown",
   "metadata": {},
   "source": [
    "**Exercice**\n",
    "\n",
    "Ecrire une fonction `temps_apparition(motif)` prenant en argument une chaîne de caractères composée de 0 et de 1, qui simule une suite de lancers de pile ou face, et rendant le nombre de lancers qui ont été nécessaires pour voir apparaitre le motif."
   ]
  },
  {
   "cell_type": "code",
   "execution_count": 23,
   "metadata": {},
   "outputs": [],
   "source": [
    "def temps_apparition(motif):\n",
    "    l = len(motif)\n",
    "    suite = \"\"\n",
    "    T = 0\n",
    "    while suite[-l:] != motif:\n",
    "        tirage = rd.randint(0,1)\n",
    "        suite += str(tirage)\n",
    "        T += 1\n",
    "    return T"
   ]
  },
  {
   "cell_type": "markdown",
   "metadata": {},
   "source": [
    "**Exercice**\n",
    "\n",
    "Ecrire une fonction `moyenne_temps_apparition(motif,N)` qui simule $N$ suites de lancers, et rend la moyenne des temps d'apparition du motif dans chacune de ces suites."
   ]
  },
  {
   "cell_type": "code",
   "execution_count": 24,
   "metadata": {},
   "outputs": [],
   "source": [
    "def moyenne_temps_apparition(motif,N):\n",
    "    s = 0\n",
    "    for i in range(N):\n",
    "        s += temps_apparition(motif)\n",
    "    return s/N"
   ]
  },
  {
   "cell_type": "markdown",
   "metadata": {},
   "source": [
    "**Exercice** \n",
    "\n",
    "Pour chacune des 8 motifs composés de 3 caractères valant 0 ou 1, évaluer par simulation l'espérance du temps d'apparition de ce motif dans une suite infinie de lancers."
   ]
  },
  {
   "cell_type": "code",
   "execution_count": 25,
   "metadata": {},
   "outputs": [
    {
     "name": "stdout",
     "output_type": "stream",
     "text": [
      "le temps moyen d'apparition de 000 est 13.9262\n",
      "le temps moyen d'apparition de 001 est 8.00189\n",
      "le temps moyen d'apparition de 010 est 9.9588\n",
      "le temps moyen d'apparition de 011 est 8.00941\n",
      "le temps moyen d'apparition de 100 est 8.00435\n",
      "le temps moyen d'apparition de 101 est 9.97128\n",
      "le temps moyen d'apparition de 110 est 7.99204\n",
      "le temps moyen d'apparition de 111 est 14.00389\n"
     ]
    }
   ],
   "source": [
    "N = 100000\n",
    "for motif in ['000','001','010','011','100','101','110','111']:\n",
    "    T = moyenne_temps_apparition(motif,N)\n",
    "    print(f\"le temps moyen d'apparition de {motif} est {T}\")"
   ]
  },
  {
   "cell_type": "markdown",
   "metadata": {},
   "source": [
    "## 6. Lutte entre deux motifs de même taille : lequel apparait le premier ?\n",
    "\n",
    "Deux joueurs jouent l'un contre l'autre ; ils choisissent chacun un motif, tous les deux de même taille. Ensuite, ils font une série de lancers de pile ou face, et s'arrêtent seulement quand l'un des deux motifs est sorti. le joueur dont le motif apparait en premier a gagné.\n",
    "\n",
    "On veut savoir quel motif doit choisir un joueur pour maximiser sa probabilité de gagner."
   ]
  },
  {
   "cell_type": "markdown",
   "metadata": {},
   "source": [
    "**Exercice**\n",
    "\n",
    "Ecrire une fonction `partie(motif1,motif2)` qui simule une partie entre les deux motifs et rend  le numéro du gagnant."
   ]
  },
  {
   "cell_type": "code",
   "execution_count": 26,
   "metadata": {},
   "outputs": [],
   "source": [
    "def partie(motif1,motif2):\n",
    "    l = len(motif1)\n",
    "    suite = \"\"\n",
    "    while suite[-l:] not in [motif1, motif2]:\n",
    "        tirage = rd.randint(0,1)\n",
    "        suite += str(tirage)\n",
    "    if suite[-l:] == motif1:\n",
    "        return 1\n",
    "    else:\n",
    "        return 2"
   ]
  },
  {
   "cell_type": "markdown",
   "metadata": {},
   "source": [
    "**Exercice**\n",
    "\n",
    "Ecrire une fonction `comparaison(motif1,motif2,N)` qui simule $N$ parties entre les deux motifs et affiche la proportion de gain du motif 1 sur le motif 2."
   ]
  },
  {
   "cell_type": "code",
   "execution_count": 27,
   "metadata": {},
   "outputs": [],
   "source": [
    "def comparaison(motif1,motif2,N):\n",
    "    n1 = 0\n",
    "    for i in range(N):\n",
    "        n1 += (2 - partie(motif1,motif2))\n",
    "    print(n1/N,1-n1/N)"
   ]
  },
  {
   "cell_type": "markdown",
   "metadata": {},
   "source": [
    "On regarde les deux motifs `100` et `001`.\n",
    "* Lequel des deux gagne en moyenne contre l'autre l'autre ?\n",
    "* faites calculer les temps moyens d'apparition de ces deux motifs.\n",
    "Que déduisez-vous de ces observations ?"
   ]
  },
  {
   "cell_type": "code",
   "execution_count": 28,
   "metadata": {},
   "outputs": [
    {
     "name": "stdout",
     "output_type": "stream",
     "text": [
      "0.75153 0.24846999999999997\n",
      "100 -> 7.99625\n",
      "001 -> 8.0079\n"
     ]
    }
   ],
   "source": [
    "N = 100000\n",
    "\n",
    "comparaison('100','001',N)\n",
    "print(\"100 ->\", moyenne_temps_apparition('100',N))\n",
    "print(\"001 ->\", moyenne_temps_apparition('001',N))\n"
   ]
  },
  {
   "cell_type": "markdown",
   "metadata": {},
   "source": [
    "Les deux motifs ont le même temps moyen d'apparition, mais `100` gagne nettement devant `001`"
   ]
  },
  {
   "cell_type": "markdown",
   "metadata": {},
   "source": [
    "*La relation \"gagner contre\" est-elle transitive ?*\n",
    "\n",
    "Effectuez les comparaisons suivantes :\n",
    "* `110` contre `100`\n",
    "* `100` contre `001`\n",
    "* `001` contre `011`\n",
    "* `001` contre `110`"
   ]
  },
  {
   "cell_type": "code",
   "execution_count": 29,
   "metadata": {},
   "outputs": [
    {
     "name": "stdout",
     "output_type": "stream",
     "text": [
      "0.66697 0.33303000000000005\n",
      "0.75021 0.24978999999999996\n",
      "0.66531 0.33469000000000004\n",
      "0.75036 0.24963999999999997\n"
     ]
    }
   ],
   "source": [
    "N = 100000\n",
    "\n",
    "comparaison('110','100',N)\n",
    "comparaison('100','001',N)\n",
    "comparaison('001','011',N)\n",
    "comparaison('011','110',N)"
   ]
  },
  {
   "cell_type": "markdown",
   "metadata": {},
   "source": [
    "On remarque que `110` gagne en moyenne contre `100`, qui gagne en moyenne contre `001`,  qui gagne en moyenne contre  `011`,  qui gagne en moyenne contre  `110`.\n",
    "\n",
    "La relation \"gagner en moyenne contre\" n'est pas transitive !"
   ]
  },
  {
   "cell_type": "code",
   "execution_count": null,
   "metadata": {},
   "outputs": [],
   "source": []
  }
 ],
 "metadata": {
  "kernelspec": {
   "display_name": "Python 3",
   "language": "python",
   "name": "python3"
  },
  "language_info": {
   "codemirror_mode": {
    "name": "ipython",
    "version": 3
   },
   "file_extension": ".py",
   "mimetype": "text/x-python",
   "name": "python",
   "nbconvert_exporter": "python",
   "pygments_lexer": "ipython3",
   "version": "3.7.4"
  }
 },
 "nbformat": 4,
 "nbformat_minor": 2
}
