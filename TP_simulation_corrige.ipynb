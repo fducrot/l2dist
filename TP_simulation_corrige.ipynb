{
 "cells": [
  {
   "cell_type": "markdown",
   "metadata": {},
   "source": [
    "# Simulation probabiliste"
   ]
  },
  {
   "cell_type": "markdown",
   "metadata": {},
   "source": [
    "Importons d'abord les modules `random` et `numpy.random`, ainsi que `numpy` et `matplotlib`"
   ]
  },
  {
   "cell_type": "code",
   "execution_count": 58,
   "metadata": {},
   "outputs": [],
   "source": [
    "import random as rd\n",
    "import numpy.random as npr\n",
    "import matplotlib.pyplot as plt\n",
    "import numpy as np"
   ]
  },
  {
   "cell_type": "markdown",
   "metadata": {},
   "source": [
    "### Différentes lois de probabilité"
   ]
  },
  {
   "cell_type": "markdown",
   "metadata": {},
   "source": [
    "**Tirage d'entiers équiprobales entre 1 et 6**\n",
    "\n",
    "En utilisant le module `numpy.random` et en créant des arrays :"
   ]
  },
  {
   "cell_type": "code",
   "execution_count": 59,
   "metadata": {},
   "outputs": [
    {
     "data": {
      "text/plain": [
       "<BarContainer object of 6 artists>"
      ]
     },
     "execution_count": 59,
     "metadata": {},
     "output_type": "execute_result"
    },
    {
     "data": {
      "image/png": "[encoded data removed]",
      "text/plain": [
       "<Figure size 432x288 with 1 Axes>"
      ]
     },
     "metadata": {
      "needs_background": "light"
     },
     "output_type": "display_data"
    }
   ],
   "source": [
    "x = npr.randint(1,7,1000000)\n",
    "nombre = [0]*6\n",
    "for i in x:\n",
    "    nombre[i-1] += 1\n",
    "plt.bar(range(1,7),nombre)"
   ]
  },
  {
   "cell_type": "markdown",
   "metadata": {},
   "source": [
    "ou en utilisant le module `random` et en créant des listes :"
   ]
  },
  {
   "cell_type": "code",
   "execution_count": 60,
   "metadata": {},
   "outputs": [
    {
     "data": {
      "text/plain": [
       "<BarContainer object of 6 artists>"
      ]
     },
     "execution_count": 60,
     "metadata": {},
     "output_type": "execute_result"
    },
    {
     "data": {
      "image/png": "[encoded data removed]",
      "text/plain": [
       "<Figure size 432x288 with 1 Axes>"
      ]
     },
     "metadata": {
      "needs_background": "light"
     },
     "output_type": "display_data"
    }
   ],
   "source": [
    "nombre = [0]*6\n",
    "for k in range(1000000):\n",
    "    i = rd.randint(1,6)\n",
    "    nombre[i-1] += 1\n",
    "plt.bar(range(1,7),nombre)"
   ]
  },
  {
   "cell_type": "markdown",
   "metadata": {},
   "source": [
    "**La loi de Bernoulli de paramètre $p$**"
   ]
  },
  {
   "cell_type": "code",
   "execution_count": 61,
   "metadata": {},
   "outputs": [],
   "source": [
    "def bernoulli(p,N):\n",
    "    \"\"\"\n",
    "    Fabrique un tableau numpy de taille N, contenant N tirages de \n",
    "    Bernoulli de pramètre p\n",
    "    \"\"\"\n",
    "    x = npr.rand(N)\n",
    "    for i in range(N):\n",
    "        if x[i] < p:\n",
    "            x[i] = 1\n",
    "        else:\n",
    "            x[i] = 0\n",
    "    return x"
   ]
  },
  {
   "cell_type": "markdown",
   "metadata": {},
   "source": [
    "Une petite astuce : si $X$ suit une loi uniforme sur $[0,1]$, alors la partie entière $\\lfloor p+X \\rfloor$ suit la loi de Bernoulli de paramètre $p$."
   ]
  },
  {
   "cell_type": "code",
   "execution_count": 62,
   "metadata": {},
   "outputs": [],
   "source": [
    "def bernoulli2(p,N):\n",
    "    x = npr.rand(N)\n",
    "    return np.floor(p+x)"
   ]
  },
  {
   "cell_type": "markdown",
   "metadata": {},
   "source": [
    "**La loi de Gauss ou loi normale**"
   ]
  },
  {
   "cell_type": "code",
   "execution_count": 63,
   "metadata": {},
   "outputs": [],
   "source": [
    "x = npr.normal(0,1,100000)"
   ]
  },
  {
   "cell_type": "markdown",
   "metadata": {},
   "source": [
    "L'histogramme normé (option `denisty = True`) de répartitition de ce vecteur Gaussien"
   ]
  },
  {
   "cell_type": "code",
   "execution_count": 64,
   "metadata": {},
   "outputs": [
    {
     "data": {
      "text/plain": [
       "(array([1.19476780e-04, 1.79215170e-04, 1.79215170e-04, 4.18168731e-04,\n",
       "        7.76599072e-04, 1.85189009e-03, 2.03110526e-03, 3.64404180e-03,\n",
       "        6.39200774e-03, 1.01555263e-02, 1.45761672e-02, 2.37758793e-02,\n",
       "        3.39314056e-02, 5.16737075e-02, 6.94757477e-02, 9.43866564e-02,\n",
       "        1.27959632e-01, 1.62010514e-01, 1.98928839e-01, 2.39371729e-01,\n",
       "        2.83697615e-01, 3.14881054e-01, 3.50544873e-01, 3.75814212e-01,\n",
       "        3.85372355e-01, 3.99112184e-01, 3.96483695e-01, 3.84655494e-01,\n",
       "        3.52098071e-01, 3.27067686e-01, 2.81128864e-01, 2.44628708e-01,\n",
       "        1.94149768e-01, 1.65057172e-01, 1.33216610e-01, 1.02690293e-01,\n",
       "        7.42548189e-02, 5.43619350e-02, 3.97260294e-02, 2.81367817e-02,\n",
       "        1.64280573e-02, 1.04542183e-02, 7.04913003e-03, 4.65959443e-03,\n",
       "        3.04665790e-03, 1.55319814e-03, 7.16860681e-04, 4.77907121e-04,\n",
       "        3.58430341e-04, 1.79215170e-04]),\n",
       " array([-4.28759495, -4.1201984 , -3.95280186, -3.78540532, -3.61800878,\n",
       "        -3.45061223, -3.28321569, -3.11581915, -2.9484226 , -2.78102606,\n",
       "        -2.61362952, -2.44623297, -2.27883643, -2.11143989, -1.94404334,\n",
       "        -1.7766468 , -1.60925026, -1.44185371, -1.27445717, -1.10706063,\n",
       "        -0.93966408, -0.77226754, -0.604871  , -0.43747446, -0.27007791,\n",
       "        -0.10268137,  0.06471517,  0.23211172,  0.39950826,  0.5669048 ,\n",
       "         0.73430135,  0.90169789,  1.06909443,  1.23649098,  1.40388752,\n",
       "         1.57128406,  1.73868061,  1.90607715,  2.07347369,  2.24087024,\n",
       "         2.40826678,  2.57566332,  2.74305986,  2.91045641,  3.07785295,\n",
       "         3.24524949,  3.41264604,  3.58004258,  3.74743912,  3.91483567,\n",
       "         4.08223221]),\n",
       " <a list of 50 Patch objects>)"
      ]
     },
     "execution_count": 64,
     "metadata": {},
     "output_type": "execute_result"
    },
    {
     "data": {
      "image/png": "[encoded data removed]",
      "text/plain": [
       "<Figure size 432x288 with 1 Axes>"
      ]
     },
     "metadata": {
      "needs_background": "light"
     },
     "output_type": "display_data"
    }
   ],
   "source": [
    "plt.hist(x,50,density=True)"
   ]
  },
  {
   "cell_type": "markdown",
   "metadata": {},
   "source": [
    "L'histogramme cumulatife (option `cumulative = True`). On trouve la fonction de répartition de la loi de probabilités."
   ]
  },
  {
   "cell_type": "code",
   "execution_count": 65,
   "metadata": {},
   "outputs": [
    {
     "data": {
      "text/plain": [
       "(array([2.0000e-05, 5.0000e-05, 8.0000e-05, 1.5000e-04, 2.8000e-04,\n",
       "        5.9000e-04, 9.3000e-04, 1.5400e-03, 2.6100e-03, 4.3100e-03,\n",
       "        6.7500e-03, 1.0730e-02, 1.6410e-02, 2.5060e-02, 3.6690e-02,\n",
       "        5.2490e-02, 7.3910e-02, 1.0103e-01, 1.3433e-01, 1.7440e-01,\n",
       "        2.2189e-01, 2.7460e-01, 3.3328e-01, 3.9619e-01, 4.6070e-01,\n",
       "        5.2751e-01, 5.9388e-01, 6.5827e-01, 7.1721e-01, 7.7196e-01,\n",
       "        8.1902e-01, 8.5997e-01, 8.9247e-01, 9.2010e-01, 9.4240e-01,\n",
       "        9.5959e-01, 9.7202e-01, 9.8112e-01, 9.8777e-01, 9.9248e-01,\n",
       "        9.9523e-01, 9.9698e-01, 9.9816e-01, 9.9894e-01, 9.9945e-01,\n",
       "        9.9971e-01, 9.9983e-01, 9.9991e-01, 9.9997e-01, 1.0000e+00]),\n",
       " array([-4.28759495, -4.1201984 , -3.95280186, -3.78540532, -3.61800878,\n",
       "        -3.45061223, -3.28321569, -3.11581915, -2.9484226 , -2.78102606,\n",
       "        -2.61362952, -2.44623297, -2.27883643, -2.11143989, -1.94404334,\n",
       "        -1.7766468 , -1.60925026, -1.44185371, -1.27445717, -1.10706063,\n",
       "        -0.93966408, -0.77226754, -0.604871  , -0.43747446, -0.27007791,\n",
       "        -0.10268137,  0.06471517,  0.23211172,  0.39950826,  0.5669048 ,\n",
       "         0.73430135,  0.90169789,  1.06909443,  1.23649098,  1.40388752,\n",
       "         1.57128406,  1.73868061,  1.90607715,  2.07347369,  2.24087024,\n",
       "         2.40826678,  2.57566332,  2.74305986,  2.91045641,  3.07785295,\n",
       "         3.24524949,  3.41264604,  3.58004258,  3.74743912,  3.91483567,\n",
       "         4.08223221]),\n",
       " <a list of 50 Patch objects>)"
      ]
     },
     "execution_count": 65,
     "metadata": {},
     "output_type": "execute_result"
    },
    {
     "data": {
      "image/png": "[encoded data removed]",
      "text/plain": [
       "<Figure size 432x288 with 1 Axes>"
      ]
     },
     "metadata": {
      "needs_background": "light"
     },
     "output_type": "display_data"
    }
   ],
   "source": [
    "plt.hist(x,50,cumulative=True,density=True)"
   ]
  },
  {
   "cell_type": "markdown",
   "metadata": {},
   "source": [
    "### Le paradoxe du Duc De Toscane\n",
    "\n",
    "Le Grand Duc de Toscane avait remarqué que, bien qu'il y ait autant de façons d'écrire 9 et 10 comme somme de 3 nombres compris entre 1 et 6, on obtient plus souvent un total de 10 lorsqu'on lance 3 dés. Galilée lui donna vers 1620 une explication de ce paradoxe. Galilée est alors Premier Mathématicien de l’Université de Pise et Premier Philosophe du Grand Duc à Florence). Galilée est ainsi l’un des premiers avec Cardan à avoir écrit sur le « calcul des hasards », mais leurs écrits n’ont été publiés qu’après la célèbre correspondance entre Pascal et Fermat qui marque « officiellement » le début de la théorie des probabilités. Le mémoire de Galilée qui nous intéresse n’a été édité qu’en 1718."
   ]
  },
  {
   "cell_type": "markdown",
   "metadata": {},
   "source": [
    "Écrivons une fonction qui simule N tirages de 3 dés, et affiche les pourcentages d'obtention de 9 et 10."
   ]
  },
  {
   "cell_type": "code",
   "execution_count": 66,
   "metadata": {},
   "outputs": [],
   "source": [
    "def toscane(N):\n",
    "    X = npr.randint(1,7,N) + npr.randint(1,7,N) + npr.randint(1,7,N)\n",
    "    nb9 = 0\n",
    "    nb10 = 0\n",
    "    for x in X:\n",
    "        if x == 9:\n",
    "            nb9 += 1\n",
    "        elif x == 10:\n",
    "            nb10 += 1\n",
    "    print(f\"9 a été obtenu dans {100*nb9/N} % des cas\")\n",
    "    print(f\"10 a été obtenu dans {100*nb10/N} % des cas\")"
   ]
  },
  {
   "cell_type": "markdown",
   "metadata": {},
   "source": [
    "et testons sur 1000000 tirages :"
   ]
  },
  {
   "cell_type": "code",
   "execution_count": 67,
   "metadata": {},
   "outputs": [
    {
     "name": "stdout",
     "output_type": "stream",
     "text": [
      "9 a été obtenu dans 11.6104 % des cas\n",
      "10 a été obtenu dans 12.4364 % des cas\n"
     ]
    }
   ],
   "source": [
    "toscane(1000000)"
   ]
  },
  {
   "cell_type": "markdown",
   "metadata": {},
   "source": [
    "Ceci corrobore l'observation du Duc de Toscane.\n",
    "\n",
    "Maintenant, comptons le nombre de façon d'écrire un nombre comme somme de trois entiers compris entre 1 et 6 :"
   ]
  },
  {
   "cell_type": "code",
   "execution_count": 68,
   "metadata": {},
   "outputs": [],
   "source": [
    "def ecriture(n):\n",
    "    compte = 0\n",
    "    for i in range(1,7):\n",
    "        for j in range(i,7):\n",
    "            for k in range(j,7):\n",
    "                if i +j+k == n:\n",
    "                    print(f\"{i}+{j}+{k}={n}\")\n",
    "                    compte += 1\n",
    "    print(f\"{n} s'écrit donc de {compte} façons comme somme de trois entiers entre 1 et 6\")"
   ]
  },
  {
   "cell_type": "code",
   "execution_count": 69,
   "metadata": {},
   "outputs": [
    {
     "name": "stdout",
     "output_type": "stream",
     "text": [
      "1+2+6=9\n",
      "1+3+5=9\n",
      "1+4+4=9\n",
      "2+2+5=9\n",
      "2+3+4=9\n",
      "3+3+3=9\n",
      "9 s'écrit donc de 6 façons comme somme de trois entiers entre 1 et 6\n",
      "1+3+6=10\n",
      "1+4+5=10\n",
      "2+2+6=10\n",
      "2+3+5=10\n",
      "2+4+4=10\n",
      "3+3+4=10\n",
      "10 s'écrit donc de 6 façons comme somme de trois entiers entre 1 et 6\n"
     ]
    }
   ],
   "source": [
    "ecriture(9)\n",
    "ecriture(10)"
   ]
  },
  {
   "cell_type": "markdown",
   "metadata": {},
   "source": [
    "C'est là le paradoxe : les deux nombres s'écrivent chacun du même nombre de façons, et pourtant 10 apparait plus souvent que 9. On voit ici que le Duc de Toscane avait déjà des notions de calcul des probabilités. mais son erreur est de regarder les écritures non ordonnées, alors que ce qui compte ici, ce sont les écitures ordonnées.\n",
    "\n",
    "Il ne s'agit pas d'un vrai paradoxe, mettant en jeu la cohérence des mathématiques, juste une erreur de compréhension d'un phénomène mathématique."
   ]
  },
  {
   "cell_type": "code",
   "execution_count": 70,
   "metadata": {},
   "outputs": [],
   "source": [
    "def ecriture_ordonnee(n):\n",
    "    compte = 0\n",
    "    for i in range(1,7):\n",
    "        for j in range(1,7):\n",
    "            for k in range(1,7):\n",
    "                if i +j+k == n:\n",
    "                    print(f\"{i}+{j}+{k}={n}\")\n",
    "                    compte += 1\n",
    "    print(f\"{n} s'écrit donc de {compte} façons comme somme ordonnée de trois entiers entre 1 et 6\")"
   ]
  },
  {
   "cell_type": "code",
   "execution_count": 71,
   "metadata": {},
   "outputs": [
    {
     "name": "stdout",
     "output_type": "stream",
     "text": [
      "1+2+6=9\n",
      "1+3+5=9\n",
      "1+4+4=9\n",
      "1+5+3=9\n",
      "1+6+2=9\n",
      "2+1+6=9\n",
      "2+2+5=9\n",
      "2+3+4=9\n",
      "2+4+3=9\n",
      "2+5+2=9\n",
      "2+6+1=9\n",
      "3+1+5=9\n",
      "3+2+4=9\n",
      "3+3+3=9\n",
      "3+4+2=9\n",
      "3+5+1=9\n",
      "4+1+4=9\n",
      "4+2+3=9\n",
      "4+3+2=9\n",
      "4+4+1=9\n",
      "5+1+3=9\n",
      "5+2+2=9\n",
      "5+3+1=9\n",
      "6+1+2=9\n",
      "6+2+1=9\n",
      "9 s'écrit donc de 25 façons comme somme ordonnée de trois entiers entre 1 et 6\n",
      "1+3+6=10\n",
      "1+4+5=10\n",
      "1+5+4=10\n",
      "1+6+3=10\n",
      "2+2+6=10\n",
      "2+3+5=10\n",
      "2+4+4=10\n",
      "2+5+3=10\n",
      "2+6+2=10\n",
      "3+1+6=10\n",
      "3+2+5=10\n",
      "3+3+4=10\n",
      "3+4+3=10\n",
      "3+5+2=10\n",
      "3+6+1=10\n",
      "4+1+5=10\n",
      "4+2+4=10\n",
      "4+3+3=10\n",
      "4+4+2=10\n",
      "4+5+1=10\n",
      "5+1+4=10\n",
      "5+2+3=10\n",
      "5+3+2=10\n",
      "5+4+1=10\n",
      "6+1+3=10\n",
      "6+2+2=10\n",
      "6+3+1=10\n",
      "10 s'écrit donc de 27 façons comme somme ordonnée de trois entiers entre 1 et 6\n"
     ]
    }
   ],
   "source": [
    "ecriture_ordonnee(9)\n",
    "ecriture_ordonnee(10)"
   ]
  },
  {
   "cell_type": "markdown",
   "metadata": {},
   "source": [
    "La probabilité d'obtenir 9 est donc $\\frac{25}{6^3} \\simeq 0,1157$, alors que celle d'obtenir 10 est \n",
    "$\\frac{27}{6^3} = 0,125$. Le résultat de ce calcul est conforme aux observations faites par simulation."
   ]
  },
  {
   "cell_type": "markdown",
   "metadata": {},
   "source": [
    "### Le lièvre et la tortue\n",
    "\n",
    "\n",
    "Le lièvre et la tortue jouent aux dés en lançant autant de fois que nécessaire un dé. A chaque tirage, si on obtient de 1 à 5, la tortue avance d'une case, si on obtient 6, le lièvre avance de 6 cases d'un coup. Le premier qui a avancé de 6 cases a gagné.\n",
    "\n",
    "Autrement dit, il y a au plus 6 tirages. Si parmi ceux là, il y a un 6, le lièvre gagne, sinon, c'est la tortue.\n",
    "\n",
    "La fonction ci-dessous simule une partie avec cette règle."
   ]
  },
  {
   "cell_type": "code",
   "execution_count": 72,
   "metadata": {},
   "outputs": [],
   "source": [
    "def partie_1():\n",
    "    for i in range(6):\n",
    "        x = npr.randint(1,7)\n",
    "        if x == 6:\n",
    "            return \"lièvre\"\n",
    "    return \"tortue\""
   ]
  },
  {
   "cell_type": "markdown",
   "metadata": {},
   "source": [
    "On simule ensuite un grand nombre de parties :"
   ]
  },
  {
   "cell_type": "code",
   "execution_count": 73,
   "metadata": {},
   "outputs": [],
   "source": [
    "def simulation_lievre_tortue(jeu,N):\n",
    "    lievre = 0\n",
    "    for i in range(N):\n",
    "        if jeu() == \"lièvre\":\n",
    "            lievre +=1\n",
    "    print(f\"le lievre gagne dans  {100*lievre/N} % des cas\")"
   ]
  },
  {
   "cell_type": "code",
   "execution_count": 74,
   "metadata": {},
   "outputs": [
    {
     "name": "stdout",
     "output_type": "stream",
     "text": [
      "le lievre gagne dans  66.4964 % des cas\n"
     ]
    }
   ],
   "source": [
    "simulation_lievre_tortue(partie_1,1000000)"
   ]
  },
  {
   "cell_type": "markdown",
   "metadata": {},
   "source": [
    "Le lièvre gagne donc en moyenne. On modifie donc la règle : la tortue, quand elle avance, avance de deux cases.\n",
    "\n",
    "C'est la même chose que précédement, mais la partie se joue en au plus 3 tirages."
   ]
  },
  {
   "cell_type": "code",
   "execution_count": 75,
   "metadata": {},
   "outputs": [],
   "source": [
    "def partie_2():\n",
    "    x = npr.randint(1,7,3)\n",
    "    if 6 in x:\n",
    "        return \"lièvre\"\n",
    "    return \"tortue\" "
   ]
  },
  {
   "cell_type": "code",
   "execution_count": 76,
   "metadata": {},
   "outputs": [
    {
     "name": "stdout",
     "output_type": "stream",
     "text": [
      "le lievre gagne dans  42.0776 % des cas\n"
     ]
    }
   ],
   "source": [
    "simulation_lievre_tortue(partie_2,1000000)"
   ]
  },
  {
   "cell_type": "markdown",
   "metadata": {},
   "source": [
    "### Simulation de la loi binomiale\n",
    "\n",
    "\n",
    "On réalise $n$ fois une expérience de Bernoulli de paramètre p. Pour $k=0,\\ldots,n$, on s'intéresse à la probabilité $B_{n;p}(k)$ d'obtenir $k$ fois un 1. On sait que :\n",
    "$$\n",
    "B_{n,p}(k) = {n\\choose k}  p^k(1-p)^{n-k}\n",
    "$$"
   ]
  },
  {
   "cell_type": "markdown",
   "metadata": {},
   "source": [
    "Effectuons d'abord une simulation, en faisant $N$ (grand) échantillons de $n$ tirages de Bernoulli, et mesurons les fréquences d'apparitions des entiers $k\\in[0,n].$ Une bonne façon de visualiser le résultat est de réaliser un diagramme en barres :"
   ]
  },
  {
   "cell_type": "code",
   "execution_count": 77,
   "metadata": {},
   "outputs": [],
   "source": [
    "def simulation_binomiale(n,p,N):\n",
    "    compteur = [0]*(n+1)\n",
    "    for i in range(N):\n",
    "        x = bernoulli2(p,n)\n",
    "        k = int(sum(x))\n",
    "        compteur[k] += 1\n",
    "    compteur = [x/N for x in compteur]\n",
    "    plt.bar(range(n+1),compteur)"
   ]
  },
  {
   "cell_type": "code",
   "execution_count": 78,
   "metadata": {},
   "outputs": [
    {
     "data": {
      "image/png": "[encoded data removed]",
      "text/plain": [
       "<Figure size 432x288 with 1 Axes>"
      ]
     },
     "metadata": {
      "needs_background": "light"
     },
     "output_type": "display_data"
    }
   ],
   "source": [
    "simulation_binomiale(50,0.4,100000)"
   ]
  },
  {
   "cell_type": "markdown",
   "metadata": {},
   "source": [
    "On observe une sorte de courbe en cloche, centrée autour de $pn$.\n",
    "\n",
    "Réalisons maintenant un diagramme analogue, en représentant les valeurs exactes des probabilités."
   ]
  },
  {
   "cell_type": "markdown",
   "metadata": {},
   "source": [
    " On commence par écrire une fonction `pascal(n)` qui rend la $n$-ème ligne du triangle de Pascal."
   ]
  },
  {
   "cell_type": "code",
   "execution_count": 79,
   "metadata": {},
   "outputs": [],
   "source": [
    "def pascal(n):\n",
    "    x = [1] + n*[0]\n",
    "    for i in range(n):\n",
    "        y = [1]\n",
    "        for j in range(n):\n",
    "            y.append(x[j] + x[j+1])\n",
    "        x = y\n",
    "    return x"
   ]
  },
  {
   "cell_type": "markdown",
   "metadata": {},
   "source": [
    "Puis on écrit une fonction `binomiale(n,p)` calculant le vecteur des $B_{n,p}(k)$, et on l'affiche par un diagramme en barres."
   ]
  },
  {
   "cell_type": "code",
   "execution_count": 80,
   "metadata": {},
   "outputs": [],
   "source": [
    "def binomiale(n,p):\n",
    "    x = pascal(n)\n",
    "    x = [ p**k * (1-p)**(n-k) * x[k] for k in range(n+1) ]\n",
    "    return x\n",
    "    \n",
    "    \n",
    "def plot_binomiale(n,p):\n",
    "    plt.bar(range(n+1) , binomiale(n,p))"
   ]
  },
  {
   "cell_type": "code",
   "execution_count": 81,
   "metadata": {},
   "outputs": [
    {
     "data": {
      "image/png": "[encoded data removed]",
      "text/plain": [
       "<Figure size 432x288 with 1 Axes>"
      ]
     },
     "metadata": {
      "needs_background": "light"
     },
     "output_type": "display_data"
    }
   ],
   "source": [
    "plot_binomiale(50,0.4)"
   ]
  },
  {
   "cell_type": "markdown",
   "metadata": {},
   "source": [
    "### Tirage sans remise\n",
    "\n",
    "On a un panier de 10 oeuf, parmi lesquels 5 sont pourris. On prend au hasard 3 oeufs dans ce panier. Bien sûr, quand on prend un oeuf, on ne le remet pas dans le panier ensuite !\n",
    "\n",
    "On veut connaitre, pour tout $k\\in[0,3]$, la probabilité qu'il y ait $k$ oeufs pourris parmi les 3 qui ont été choisis. "
   ]
  },
  {
   "cell_type": "code",
   "execution_count": 82,
   "metadata": {},
   "outputs": [],
   "source": [
    "def panier(N):\n",
    "    l=list(range(10))\n",
    "    resultats = [0,0,0,0]\n",
    "    for i in range(N):\n",
    "        npr.shuffle(l)\n",
    "        compte = 0\n",
    "        for k in range(5):\n",
    "            if l[k] < 3:\n",
    "                compte += 1\n",
    "        resultats[compte] += 1\n",
    "    print([x/N for x in resultats])\n",
    " "
   ]
  },
  {
   "cell_type": "code",
   "execution_count": 83,
   "metadata": {},
   "outputs": [
    {
     "name": "stdout",
     "output_type": "stream",
     "text": [
      "[0.08459, 0.41721, 0.41646, 0.08174]\n"
     ]
    }
   ],
   "source": [
    "panier(100000)"
   ]
  },
  {
   "cell_type": "markdown",
   "metadata": {},
   "source": [
    "On peut comparer ce résultat à un tirage avec remise : un oeuf pris isolément a une probabilité 0.5 d'être pourri.  La probabilité d'avoir k oeufs pourris dans un tirage avec remise de 3 oeufs est alors :"
   ]
  },
  {
   "cell_type": "code",
   "execution_count": 84,
   "metadata": {},
   "outputs": [
    {
     "data": {
      "text/plain": [
       "[0.125, 0.375, 0.375, 0.125]"
      ]
     },
     "execution_count": 84,
     "metadata": {},
     "output_type": "execute_result"
    }
   ],
   "source": [
    "binomiale(3,0.5)"
   ]
  },
  {
   "cell_type": "markdown",
   "metadata": {},
   "source": [
    "Pour des petites tailles d'échantillon, comme c'est le cas ici, on voit une différence importante entre ces deux modes de tirages."
   ]
  },
  {
   "cell_type": "markdown",
   "metadata": {},
   "source": [
    "### Première apparition d'un motif\n",
    "\n",
    "On lance indéfiniment une pièce de monnaie équilibrée et on note les résultats. On obtient ainsi une suite de `pile` et de `face`, ou si on préfère de `0` et de `1`.  On se donne un motif constitué de 0 et de 1, par exemple `M = 0010111`. Ce motif apparaitra un jour dans la suite de `0` et de `1` produite par la pièce de monnaie. On appelle temps d'apparition du motif `M` le numéro du lancer qui fait apparaitre pour la première fois `M` dans la liste.\n",
    "\n",
    "Par exemple, si la suite observée donne :\n",
    "`000110100101110100...`\n",
    "on voit que le motif`M` est apparu lorsqu'on a fait le 14-ème tirage. Le temps d'attente lors de cette expérience a donc été `T = 14`."
   ]
  },
  {
   "cell_type": "code",
   "execution_count": 85,
   "metadata": {},
   "outputs": [],
   "source": [
    "def temps_apparition(motif):\n",
    "    l = len(motif)\n",
    "    suite = \"\"\n",
    "    T = 0\n",
    "    while suite[-l:] != motif:\n",
    "        tirage = rd.randint(0,1)\n",
    "        suite += str(tirage)\n",
    "        T += 1\n",
    "    return T\n",
    "        "
   ]
  },
  {
   "cell_type": "code",
   "execution_count": 86,
   "metadata": {},
   "outputs": [
    {
     "data": {
      "text/plain": [
       "5"
      ]
     },
     "execution_count": 86,
     "metadata": {},
     "output_type": "execute_result"
    }
   ],
   "source": [
    "temps_apparition(\"011\")"
   ]
  },
  {
   "cell_type": "code",
   "execution_count": 87,
   "metadata": {},
   "outputs": [],
   "source": [
    "def moyenne_temps_apparition(motif,N):\n",
    "    s = 0\n",
    "    for i in range(N):\n",
    "        s += temps_apparition(motif)\n",
    "    return s/N"
   ]
  },
  {
   "cell_type": "code",
   "execution_count": 88,
   "metadata": {},
   "outputs": [
    {
     "data": {
      "text/plain": [
       "5.99596"
      ]
     },
     "execution_count": 88,
     "metadata": {},
     "output_type": "execute_result"
    }
   ],
   "source": [
    "moyenne_temps_apparition(\"11\",100000)"
   ]
  },
  {
   "cell_type": "markdown",
   "metadata": {},
   "source": [
    "### Comparaison de deux motifs de même taille\n",
    "\n",
    "On se donne cette fois-ci deux motifs de même longueur. Deux joueurs jouent l'un contre l'autre et choisissent chacun un motif; le joueur dont le motif apparait en premier a gagné.\n",
    "\n",
    "On veut savoir quel motif doit choisir un joueur pour maximiser sa probabilité de gagner."
   ]
  },
  {
   "cell_type": "code",
   "execution_count": 89,
   "metadata": {},
   "outputs": [],
   "source": [
    "def partie(motif1,motif2):\n",
    "    l = len(motif1)\n",
    "    suite = \"\"\n",
    "    while suite[-l:] not in [motif1, motif2]:\n",
    "        tirage = rd.randint(0,1)\n",
    "        suite += str(tirage)\n",
    "    if suite[-l:] == motif1:\n",
    "        return 1\n",
    "    else:\n",
    "        return 2"
   ]
  },
  {
   "cell_type": "code",
   "execution_count": 90,
   "metadata": {},
   "outputs": [],
   "source": [
    "def comparaison(motif1,motif2,N):\n",
    "    n1 = 0\n",
    "    for i in range(N):\n",
    "        n1 += (2 - partie(motif1,motif2))\n",
    "    print(n1/N,1-n1/N)"
   ]
  },
  {
   "cell_type": "markdown",
   "metadata": {},
   "source": [
    "*Le gain d'un motif sur un autre n'est pas lié à leurs temps d'apparitions moyens :*"
   ]
  },
  {
   "cell_type": "code",
   "execution_count": 91,
   "metadata": {},
   "outputs": [
    {
     "name": "stdout",
     "output_type": "stream",
     "text": [
      "0.75134 0.24866\n"
     ]
    }
   ],
   "source": [
    "comparaison(\"100\",\"001\",100000)"
   ]
  },
  {
   "cell_type": "code",
   "execution_count": 92,
   "metadata": {},
   "outputs": [
    {
     "data": {
      "text/plain": [
       "8.00709"
      ]
     },
     "execution_count": 92,
     "metadata": {},
     "output_type": "execute_result"
    }
   ],
   "source": [
    "moyenne_temps_apparition(\"100\",100000)"
   ]
  },
  {
   "cell_type": "code",
   "execution_count": 93,
   "metadata": {},
   "outputs": [
    {
     "data": {
      "text/plain": [
       "8.01087"
      ]
     },
     "execution_count": 93,
     "metadata": {},
     "output_type": "execute_result"
    }
   ],
   "source": [
    "moyenne_temps_apparition(\"001\",100000)"
   ]
  },
  {
   "cell_type": "markdown",
   "metadata": {},
   "source": [
    "*La relation \"gagner contre\" n'est pas transitive :*"
   ]
  },
  {
   "cell_type": "code",
   "execution_count": 94,
   "metadata": {},
   "outputs": [
    {
     "name": "stdout",
     "output_type": "stream",
     "text": [
      "0.67084 0.32916\n"
     ]
    }
   ],
   "source": [
    "comparaison(\"110\",\"100\",100000)"
   ]
  },
  {
   "cell_type": "markdown",
   "metadata": {},
   "source": [
    "\"110\" gagne contre \"100\""
   ]
  },
  {
   "cell_type": "code",
   "execution_count": 95,
   "metadata": {},
   "outputs": [
    {
     "name": "stdout",
     "output_type": "stream",
     "text": [
      "0.74963 0.25037\n"
     ]
    }
   ],
   "source": [
    "comparaison(\"100\",\"001\",100000)"
   ]
  },
  {
   "cell_type": "markdown",
   "metadata": {},
   "source": [
    "\"100\" gagne contre \"001\""
   ]
  },
  {
   "cell_type": "code",
   "execution_count": 96,
   "metadata": {},
   "outputs": [
    {
     "name": "stdout",
     "output_type": "stream",
     "text": [
      "0.66806 0.33194\n"
     ]
    }
   ],
   "source": [
    "comparaison(\"001\",\"011\",100000)"
   ]
  },
  {
   "cell_type": "markdown",
   "metadata": {},
   "source": [
    "\"001\" gangne contre \"011\""
   ]
  },
  {
   "cell_type": "code",
   "execution_count": 97,
   "metadata": {},
   "outputs": [
    {
     "name": "stdout",
     "output_type": "stream",
     "text": [
      "0.75183 0.24817\n"
     ]
    }
   ],
   "source": [
    "comparaison(\"011\",\"110\",100000)"
   ]
  },
  {
   "cell_type": "markdown",
   "metadata": {},
   "source": [
    "et \"011\" gagne contre \"110\" !"
   ]
  },
  {
   "cell_type": "code",
   "execution_count": null,
   "metadata": {},
   "outputs": [],
   "source": []
  }
 ],
 "metadata": {
  "kernelspec": {
   "display_name": "Python 3",
   "language": "python",
   "name": "python3"
  },
  "language_info": {
   "codemirror_mode": {
    "name": "ipython",
    "version": 3
   },
   "file_extension": ".py",
   "mimetype": "text/x-python",
   "name": "python",
   "nbconvert_exporter": "python",
   "pygments_lexer": "ipython3",
   "version": "3.7.3"
  }
 },
 "nbformat": 4,
 "nbformat_minor": 2
}
