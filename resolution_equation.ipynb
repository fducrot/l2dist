{
 "cells": [
  {
   "cell_type": "markdown",
   "metadata": {},
   "source": [
    "# Résolution numérique d'équations\n",
    "\n",
    "Le but de ce TP est d'introduire plusieurs méthodes numériques afin de d'approcher numériquement les solutions d'une équation du type \n",
    "$$\n",
    "  f(x)=c\n",
    "$$\n",
    "\n",
    "À partir de maintenant et jusqu'à la fin du TP,\n",
    "$a<b$ sont deux réels et $f:[a,b]\\rightarrow \\mathbb{R}$ est une fonction\n",
    "continue sur l'intervalle $I:=]a,b[$. \n",
    "\n",
    "L'idée\n",
    "générale du TP est de construire numériquement une suite de réels\n",
    "$(x_n)$ qui converge vers la valeur $\\alpha$. La question sera de\n",
    "savoir comment construire informatiquement une telle suite, si on a\n",
    "deux telles suites, on veut pouvoir comparer leur _vitesse de\n",
    "  convergence_.  \n"
   ]
  },
  {
   "cell_type": "markdown",
   "metadata": {},
   "source": [
    "## Méthode de la dichotomie\n",
    "\n",
    "La première méthode que nous allons introduire est la méthode dite de _dichotomie_. On suppose qu'on a unicité de la solution $\\alpha$ dans l'intervalle $[a,b]$ et  que $f(a)$ et $f(b)$ sont de signes différents. Ceci n'est pas une hypothèse restrictive car, quitte à réduire la taille de l'intervalle $[a,b]$, c'est toujours le cas. La méthode se décrit de la manière suivante:\n",
    "\n",
    "* On part du couple de valeurs $(a,b)$ et on calcule $m=\\frac{a+b}{2}$ (le milieu),\n",
    "* Si $f(m)<0$, on remplace $a$ par $m$, sinon on remplace $b$ par $m$ (faire un dessin pour comprendre),\n",
    "* On recommence avec le nouveau couple $(a,b)$."
   ]
  },
  {
   "cell_type": "markdown",
   "metadata": {},
   "source": [
    "**Exercice**  \n",
    "\n",
    "Écrire une procédure `dichotomie(f,a,b,e)` qui prend en\n",
    "    entrée  une fonction $f$, deux réels $a$ et $b$, les bornes de\n",
    "    l'intervalle dans lequel se situe la solution $\\alpha$ de\n",
    "    l'équation $f(x)=0$, un réel $e>0$,l'erreur maximale exigée par\n",
    "    l'utilisateur, et qui retourne un réel $l$, approximation de\n",
    "    $\\alpha$ à $e$ près (i.e. $|\\alpha-l|<e$) construite par\n",
    "    l'algorithme de dichotomie."
   ]
  },
  {
   "cell_type": "code",
   "execution_count": null,
   "metadata": {},
   "outputs": [],
   "source": []
  },
  {
   "cell_type": "markdown",
   "metadata": {},
   "source": [
    "**Exercice** \n",
    "\n",
    "Appliquer la procédure `dichotomie` à la fonction\n",
    "$$\n",
    " x  \\longmapsto  x\\cdot \\mathrm{tan}(x)-1\n",
    "$$\n",
    "avec une précision  $e=10^{-6}$. \n",
    "    \n",
    "Il faudra en premier lieu déterminer l'intervalle sur lequel vous appliquerez la méthode de la dichotomie."
   ]
  },
  {
   "cell_type": "code",
   "execution_count": null,
   "metadata": {},
   "outputs": [],
   "source": []
  },
  {
   "cell_type": "markdown",
   "metadata": {},
   "source": [
    "## Un  théorème de point fixe\n",
    "\n",
    "\n",
    " Soit $I$ un intervalle fermé de $\\mathbb{R}$ et une application $f :I\\to\n",
    "  I$. On suppose  qu'il existe $k<1$ tel que \n",
    "  $$\t\n",
    "    \\forall x,y \\in I, |f(y)-f(x)|\\leq k|y-x|.\n",
    "  $$\n",
    "  Alors $f$ possède un unique point fixe dans $I$ (c'est-à-dire un\n",
    "  point $a\\in I$ tel que $\\phi(a)=a$.\\\\\n",
    "  De plus, pour tout élément $x_0 \\in I$, la suite définie par\n",
    "  récurrence par $x_{n+1}=f(x_n)$ converge vers $a$, et on a\n",
    "  $$\n",
    "    \\forall n, \\; |x_n-a| \\leq k^n |x_0-a|\n",
    "  $$"
   ]
  },
  {
   "cell_type": "markdown",
   "metadata": {},
   "source": [
    "**Exercice**\n",
    "\n",
    " Soit $f:\\mathbb{R}\\to\\mathbb{R}, x\\mapsto e^x-x-2$. On veut résoudre l'équation\n",
    "  $(E):\\; f(x)=0$.\n",
    "  \n",
    " * Faire tracer le graphe de $f$."
   ]
  },
  {
   "cell_type": "code",
   "execution_count": null,
   "metadata": {},
   "outputs": [],
   "source": []
  },
  {
   "cell_type": "markdown",
   "metadata": {},
   "source": [
    "* On définit deux fonctions $g_1$ et $g_2$ par $g_1(x)=e^x-2$ et\n",
    "    $g_2(x)=\\ln(x+2)$. Montrer que résoudre (E) revient à trouver des\n",
    "    points fixes de $g_1$ ou $g_2$."
   ]
  },
  {
   "cell_type": "markdown",
   "metadata": {},
   "source": []
  },
  {
   "cell_type": "markdown",
   "metadata": {},
   "source": [
    "* On définit deux fonctions $g_1$ et $g_2$ par $g_1(x)=e^x-2$ et\n",
    "    $g_2(x)=\\ln(x+2)$. Montrer que résoudre (E) revient à trouver des\n",
    "    points fixes de $g_1$ ou $g_2$."
   ]
  },
  {
   "cell_type": "markdown",
   "metadata": {},
   "source": []
  },
  {
   "cell_type": "markdown",
   "metadata": {},
   "source": [
    " * Pour différentes valeurs de $x_0$ et $y_0$, étudier les suites\n",
    "$(x_n)$ et $(y_n)$ définies par $x_{n+1}=g_1(x_n)$ et\n",
    "$y_{n+1}=g_2(y_n)$."
   ]
  },
  {
   "cell_type": "code",
   "execution_count": null,
   "metadata": {},
   "outputs": [],
   "source": []
  },
  {
   "cell_type": "markdown",
   "metadata": {},
   "source": [
    "* Lorsque ces suites convergent, mettre en évidence graphiquement leur vitesse de convergence."
   ]
  },
  {
   "cell_type": "code",
   "execution_count": null,
   "metadata": {},
   "outputs": [],
   "source": []
  },
  {
   "cell_type": "markdown",
   "metadata": {},
   "source": [
    "## Méthode de Newton\n",
    "\n",
    "Supposons que l'on possède une valeur grossière $x_0$ de la racine $a$\n",
    "de l'équation $f(x)=0$ avec $f$ une fonction \\emph{dérivable}. L'idée\n",
    "est de remplacer la courbe représentative de $f$ par sa tangente au\n",
    "point $x_0$. L'abscisse $x_1$ du point d'intersection de cette\n",
    "tangente avec l'axe $y=0$ est en général une meilleure approximation\n",
    "de $a$ que $x_0$. \n",
    "\n",
    "De façon générale, on pose \n",
    "$$\n",
    "x_{n+1} = x_n -\\frac{f(x_n)}{f'(x_n)}\n",
    "$$"
   ]
  },
  {
   "cell_type": "markdown",
   "metadata": {},
   "source": [
    "**Exercice**\n",
    "\n",
    "* Écrire une fonction  `newton(f,df,x0,N)` qui prend en entrée\n",
    "  une fonction `f`, une fonction `df`qui est la dérivée\n",
    "  de `f`  que l'on aura calculée à la main, un réel `x0`,\n",
    "  première approximation de la solution et un entier `N` et qui\n",
    "  retourne le  $N$-ième terme de la suite itérée de Newton."
   ]
  },
  {
   "cell_type": "code",
   "execution_count": null,
   "metadata": {},
   "outputs": [],
   "source": []
  },
  {
   "cell_type": "markdown",
   "metadata": {},
   "source": [
    "* Utiliser la fonction `newton` pour approcher les racines de\n",
    "  l'équation $x^2-2=0$  en partant de différentes  valeurs de $x_0$. Comparer le résultat avec le résultat théorique."
   ]
  },
  {
   "cell_type": "code",
   "execution_count": null,
   "metadata": {},
   "outputs": [],
   "source": []
  },
  {
   "cell_type": "markdown",
   "metadata": {},
   "source": [
    "*  Résoudre de même l'équation  $x^3-2x-5=0$."
   ]
  },
  {
   "cell_type": "code",
   "execution_count": null,
   "metadata": {},
   "outputs": [],
   "source": []
  },
  {
   "cell_type": "markdown",
   "metadata": {},
   "source": [
    "L'un des désavantages de la méthode de Newton est le calcul de la\n",
    "dérivée de $f$. En effet, pour le moment, nous sommes obligés de\n",
    "calculer la dérivée de $f$ à la main.\n",
    "\n",
    "\n",
    "**Exercice**\n",
    "\n",
    "Écrire une fonction python `Newton_modif(f,x0,x1,N)` qui\n",
    "reprend la méthode de Newton mais en remplaçant la dérivée calculée à\n",
    "la main par une valeur approximée numériquement par le quotient \n",
    "$$\n",
    "\\frac{f(x+h)-f(x-h)}{2h}\n",
    "$$\n",
    "avec $h=10^{-5}$."
   ]
  },
  {
   "cell_type": "code",
   "execution_count": null,
   "metadata": {},
   "outputs": [],
   "source": []
  },
  {
   "cell_type": "markdown",
   "metadata": {},
   "source": [
    "Tester cette nouvelle fonction sur les exemples précédents."
   ]
  },
  {
   "cell_type": "code",
   "execution_count": null,
   "metadata": {},
   "outputs": [],
   "source": []
  },
  {
   "cell_type": "markdown",
   "metadata": {},
   "source": [
    "## Méthode de la sécante\n",
    "\n",
    "L'idée de la méthode de la sécante est de remplacer $f'$ par le taux d'accroissement de $f$ sur un petit intervalle. Supposons que l'on dispose de deux valeurs approchées $x_0$ et $x_1$ de la racine $a$ de l'équation $f(x)=0$.\n",
    "\n",
    "Le taux d'accroissement de $f$ sur l'intervalle $[x_0,x_1]$ est \n",
    "$$\n",
    "  \\tau_1=\\frac{f(x_1)-f(x_0)}{x_1-x_0}\n",
    "$$\n",
    "et l'équation de la sécante traversant le graphe de $f$ aux  points\n",
    "d'abscisse $x_0$ et $x_1$ est \n",
    "$$\n",
    "  y=\\tau_1(x-x_1)+f(x_1).\n",
    "$$\n",
    "On obtient ainsi une nouvelle approximation $x_2$ de $a$ en calculant\n",
    "l'abscisse de l'intersection de la sécante avec l'axe des abscisses. \n",
    "$$\n",
    "  x_2=x_1-\\frac{f(x_1)}{\\tau_1}. \n",
    "$$\n",
    "On va ensuite itérer ce procédé. On admettra ici la convergence de la\n",
    "méthode."
   ]
  },
  {
   "cell_type": "markdown",
   "metadata": {},
   "source": [
    "**Exercice**\n",
    "\n",
    " Écrire une fonction  `secante(f,x0,x1,N)` qui prend en entrée\n",
    "une fonction `f`, deux réels `x0` et \n",
    "`x1`, premières approximations de $a$ et un entier `N` et\n",
    "qui retourne le  $N$-ième terme de la suite itérée de la méthode de la\n",
    "sécante.  "
   ]
  },
  {
   "cell_type": "code",
   "execution_count": null,
   "metadata": {},
   "outputs": [],
   "source": []
  },
  {
   "cell_type": "markdown",
   "metadata": {},
   "source": [
    "Tester cette méthode sur les  exemples précédents"
   ]
  },
  {
   "cell_type": "code",
   "execution_count": null,
   "metadata": {},
   "outputs": [],
   "source": []
  },
  {
   "cell_type": "markdown",
   "metadata": {},
   "source": [
    " Écrire une fonction  `dessine_secante(f,x0,x1,N)` qui prend en entrée\n",
    "une fonction `f`, deux réels `x0` et \n",
    "`x1`, et qui trace la courbe représentative de $f$ ainsi que les trois premières cordes utilisées pour la méthode de la sécante."
   ]
  },
  {
   "cell_type": "code",
   "execution_count": null,
   "metadata": {},
   "outputs": [],
   "source": []
  }
 ],
 "metadata": {
  "kernelspec": {
   "display_name": "Python 3",
   "language": "python",
   "name": "python3"
  },
  "language_info": {
   "codemirror_mode": {
    "name": "ipython",
    "version": 3
   },
   "file_extension": ".py",
   "mimetype": "text/x-python",
   "name": "python",
   "nbconvert_exporter": "python",
   "pygments_lexer": "ipython3",
   "version": "3.7.6"
  }
 },
 "nbformat": 4,
 "nbformat_minor": 4
}
