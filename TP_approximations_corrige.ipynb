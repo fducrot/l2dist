{
 "cells": [
  {
   "cell_type": "markdown",
   "metadata": {},
   "source": [
    "# TP : recherche de valeurs approchées\n",
    "\n",
    "Dans ce TP, on va chercher à résoudre des problèmes de calcul scientifique en donnant une approximation de la valeur théorique de la solution, et en essayant de quantifier la précision avec laquelle on approche cette valeur."
   ]
  },
  {
   "cell_type": "markdown",
   "metadata": {},
   "source": [
    "## I. Calcul de la limite d'une série\n",
    "\n",
    "On sait (résultat démontré par Euler au 18ème siècle) que \n",
    "$$\n",
    "(Euler) \\quad \\sum_{k=1}^\\infty \\frac{1}{k^2} = \\frac{\\pi^2}{6}\n",
    "$$\n",
    "par ailleurs, on montre facilement que \n",
    "$$\n",
    "\\sum_{k=n+1}^\\infty \\frac{1}{k^2} \\leq \\frac{1}{n}.\n",
    "$$\n",
    "\n",
    "On va donc utiliser ces résultats pour déterminer une valeur approchée de $\\pi^2$. Pour cela on introduit des sommes partielles \n",
    "$$\n",
    "S_n = \\sum_{k=1}^n \\frac{1}{k^2} \n",
    "$$\n",
    "et on approxime $\\frac{\\pi^2}{6}$ par $S_n$ pour $n$ suffisamment grand.\n"
   ]
  },
  {
   "cell_type": "markdown",
   "metadata": {},
   "source": [
    "**Exercice** Ecrire une fonction `S(n)` qui prend en argument un entier $n$ et rend la somme partielle $S_n$."
   ]
  },
  {
   "cell_type": "code",
   "execution_count": 1,
   "metadata": {},
   "outputs": [],
   "source": [
    "def S(n):\n",
    "    s = 0\n",
    "    for k in range(1,n+1):\n",
    "        s += 1/k**2\n",
    "    return s"
   ]
  },
  {
   "cell_type": "markdown",
   "metadata": {},
   "source": [
    "**Exercice** Faire calculer $S_n$ avec $n=10^i$, pour $i$ variant de 1 à 6"
   ]
  },
  {
   "cell_type": "code",
   "execution_count": 4,
   "metadata": {},
   "outputs": [
    {
     "name": "stdout",
     "output_type": "stream",
     "text": [
      "S(10) = 1.5497677311665408\n",
      "S(100) = 1.6349839001848923\n",
      "S(1000) = 1.6439345666815615\n",
      "S(10000) = 1.6448340718480652\n",
      "S(100000) = 1.6449240668982423\n",
      "S(1000000) = 1.64493306684877\n"
     ]
    }
   ],
   "source": [
    "for i in range(1,7):\n",
    "    n = 10**i\n",
    "    print(f\"S({n}) = {S(n)}\")"
   ]
  },
  {
   "cell_type": "markdown",
   "metadata": {},
   "source": [
    "**Question** Quelle valeur $N$ de $n$ doit-on choisir pour que $S_n$ nous donne une approximation de la limite à $10^{-8}$ près ?"
   ]
  },
  {
   "cell_type": "markdown",
   "metadata": {},
   "source": [
    "*On a vu que l'erreur d'approximation $\\frac{\\pi^2}{6}- S_n$ est majorée par $\\frac{1}{n}$. Il suffit donc de prendre $N=10^8$.*"
   ]
  },
  {
   "cell_type": "markdown",
   "metadata": {},
   "source": [
    "**Exercice** Calculer $S_N$ et $S_{2N}$.  *On s'armera de patience, car le calcul prend plusieurs minutes sur une machine raisonnablement puissante.* "
   ]
  },
  {
   "cell_type": "code",
   "execution_count": 7,
   "metadata": {},
   "outputs": [
    {
     "name": "stdout",
     "output_type": "stream",
     "text": [
      "S(100000000) -> 1.644934057834575\n",
      "S(200000000) -> 1.644934057834575\n"
     ]
    }
   ],
   "source": [
    "N = 10 ** 8\n",
    "print(f\"S({N}) -> {S(N)}\")\n",
    "print(f\"S({2*N}) -> {S(2*N)}\")"
   ]
  },
  {
   "cell_type": "markdown",
   "metadata": {},
   "source": [
    "**Question** Compte tenu de ce calcul, peut-on espérer atteindre une précision meilleure que $10^{-8}$ par cette méthode ? Expliquez pourquoi."
   ]
  },
  {
   "cell_type": "markdown",
   "metadata": {},
   "source": [
    "*On voit que la suite des valeurs calculées de `S(n)` est stationnaire à partir de $10^8$. Or la suite $(S_n)$ est strictement croissante. Pousser le calcul plus loin que $10^8$ est donc sans effet.*\n",
    "\n",
    "*Cela vient du fait que les valeurs de $\\frac{1}{k^2}$, pour $k\\geq 10^8$, sont plus petites que $10^{-16}$ et sont donc négligées quand on les ajoute à un nombre de l'ordre de grandeur de 1.*"
   ]
  },
  {
   "cell_type": "markdown",
   "metadata": {},
   "source": [
    "**Exercice** Ecrire une nouvelle fonction `S2(n)` calculant la même somme que `S(n)`, mais en faisant la somme dans l'autre sens, c'est à dire en commençant la somme par les plus petites valeurs. \n",
    "\n",
    "Calculer alors `S(10**8)` et `S(2*10**8)`."
   ]
  },
  {
   "cell_type": "code",
   "execution_count": 10,
   "metadata": {},
   "outputs": [
    {
     "name": "stdout",
     "output_type": "stream",
     "text": [
      "1.6449340568482265\n",
      "1.6449340618482264\n"
     ]
    }
   ],
   "source": [
    "def S2(n):\n",
    "    s = 0\n",
    "    for k in range(n,0,-1):\n",
    "        s += 1/k**2\n",
    "    return s\n",
    "print(S2(10**8))\n",
    "print(S2(2*10**8))"
   ]
  },
  {
   "cell_type": "markdown",
   "metadata": {},
   "source": [
    "*On constate que l'on peut pousser les calculs un peu plus loin. Mais il ne faut pas vraiment espérer beaucoup mieux. Quoi qu'on fasse, on est proche des limites de cette méthode de calcul...*"
   ]
  },
  {
   "cell_type": "markdown",
   "metadata": {},
   "source": [
    "**Pousser l'approximation plus loin**\n",
    "\n",
    "On démontre facilement à l'aide de la formule d'Euler une nouvelle formule :\n",
    "\n",
    "$$\n",
    "\\sum_{k=1}^\\infty \\frac{(-1)^{k+1}}{k^2} = \\frac{\\pi^2}{12}\n",
    "$$\n",
    "\n",
    "\n",
    "On va donc chercher à approximer $\\frac{\\pi^2}{12}$ par les sommes partielles\n",
    "$$\n",
    "T_n = \\sum_{k=1}^n \\frac{(-1)^{k+1}}{k^2}\n",
    "$$\n",
    "\n",
    "La théorie des séries alternées nous donne maintenant  la majoration de l'erreur d'approximation :\n",
    "$$\n",
    "\\left|\n",
    "T_n -\\frac{\\pi^2}{12}\n",
    "\\right|\n",
    "< \\frac{1}{n^2}.\n",
    "$$"
   ]
  },
  {
   "cell_type": "markdown",
   "metadata": {},
   "source": [
    "**Exercice** Ecrire une fonction `T(n)` calculant $T_n$.\n",
    "\n",
    "Utiliser cette fonction pour obtenir une approximation de $\\frac{\\pi^2}{12}$ à $10^{-12}$ près.\n",
    "\n",
    "Vérifier ce calcul en utilisant la valeur de $\\pi$ contenue dans le module`math`."
   ]
  },
  {
   "cell_type": "code",
   "execution_count": 15,
   "metadata": {},
   "outputs": [
    {
     "name": "stdout",
     "output_type": "stream",
     "text": [
      "valeur approchée : 0.8224670334235836\n",
      "0.8224670334241132\n",
      "5.295763827461997e-13\n"
     ]
    }
   ],
   "source": [
    "def T(n):\n",
    "    s = 0\n",
    "    for k in range(1,n+1):\n",
    "        s += (-1)**(k+1) / k**2\n",
    "    return s\n",
    "\n",
    "valeur = T(10**6)\n",
    "\n",
    "print(\"valeur approchée :\",valeur) \n",
    "\n",
    "from math import pi\n",
    "\n",
    "print(pi**2/12)\n",
    "\n",
    "print(abs(pi**2/12 -valeur))\n"
   ]
  },
  {
   "cell_type": "markdown",
   "metadata": {},
   "source": [
    "## II. Calcul numérique de la dérivée d'une fonction"
   ]
  },
  {
   "cell_type": "markdown",
   "metadata": {},
   "source": [
    "Vous avez appris la définition suivante de la dérivée d'une fonction $f$ :\n",
    "$$\n",
    "f'(x) = \\lim_{h\\to 0} \\frac{f(x+h)-f(x)}{h}\n",
    "$$\n",
    "Si vous disposez d'une fonction numérique $f$ donnée par un programme `f`, vous pouvez trouver une approximation numérique de $f'(x_0)$ en calculant `(f(x0+h)-f(x0))/h` pour `h` \"suffisament petit\". La question est de savoir quelle est la bonne valeur de `h` à choisir.\n",
    "\n",
    "Nous allons tester ici cette méthode en prenant pour exemple la fonction $f:x\\mapsto \\sin x$ et le réel $x_0=1$. Dans ce cas, on connait explicitement la dérivée $f'(x_0)=\\cos x_0$, et nous pourrons donc tester l'erreur d'approximation obtenue pour différentes valeurs de $h$."
   ]
  },
  {
   "cell_type": "markdown",
   "metadata": {},
   "source": [
    "**Exercice** \n",
    "- Définir la fonction `f` et sa fonction dérivée `g`.\n",
    "\n",
    "- Écrire une fonction `derivee(f,x0,h)` prenant en argument une fonction `f` et deux réels `x0` et `h` et rendant `(f(x0+h)-f(x0))/h`."
   ]
  },
  {
   "cell_type": "code",
   "execution_count": 20,
   "metadata": {},
   "outputs": [],
   "source": [
    "from math import sin, cos\n",
    "\n",
    "x0 = 1\n",
    "\n",
    "def f(x):\n",
    "    return sin(x)\n",
    "\n",
    "def g(x):\n",
    "    return cos(x)\n",
    "\n",
    "def derivee(f,x0,h):\n",
    "    return (f(x0+h)-f(x0))/h"
   ]
  },
  {
   "cell_type": "markdown",
   "metadata": {},
   "source": [
    "**Exercice** Pour des valeurs de $h$  valant $2^{-1}, 2^{-2},\\ldots,2^{-40}$, calculer les erreurs d'approximation \n",
    "```\n",
    "err(h) = abs( derivee(f,x0,h)-g(x) )\n",
    "```\n",
    "et afficher `err(h)` en fonction de `h`, en utilisant une représentation logarithmique."
   ]
  },
  {
   "cell_type": "code",
   "execution_count": 34,
   "metadata": {},
   "outputs": [
    {
     "data": {
      "text/plain": [
       "Text(0, 0.5, \"erreur d'approximation\")"
      ]
     },
     "execution_count": 34,
     "metadata": {},
     "output_type": "execute_result"
    },
    {
     "data": {
      "image/png": "[encoded data removed]",
      "text/plain": [
       "<Figure size 432x288 with 1 Axes>"
      ]
     },
     "metadata": {
      "needs_background": "light"
     },
     "output_type": "display_data"
    }
   ],
   "source": [
    "import matplotlib.pyplot as plt\n",
    "H = [2**(-k) for k in range(1,41)]  # les valeurs de h\n",
    "E = [abs(derivee(f,x0,h)-g(x0)) for h in H]  # les erreurs d'approximation\n",
    "plt.plot(H,E)\n",
    "plt.xscale('log')\n",
    "plt.yscale('log')\n",
    "plt.title(\"erreur d'approximation en fonction de h\")\n",
    "plt.xlabel(\"h\")\n",
    "plt.ylabel(\"erreur d'approximation\")"
   ]
  },
  {
   "cell_type": "markdown",
   "metadata": {},
   "source": [
    "**Question** \n",
    "- Quelle est la valeur optimale pour $h$ et quelle est la meilleure précision que l'obtient pour le calcul de $f'(x_0)$ ?\n",
    "- Pour quelle raison ne peut-on pas obtenir une meilleure précision avec cette méthode ?"
   ]
  },
  {
   "cell_type": "markdown",
   "metadata": {},
   "source": [
    "*On constate que, pour $h>10^{-8}$, l'erreur d'approximation décroit comme $h$. En revanche, lorsque $h$ est pris plus petit que $10^{-8}$, l'erreur d'approximation se met à remonter. Il ne sert donc à rien de prendre un $h$ plus petit que $10^{-8}$. Pour cette valeur de $h$, on constate une erreur de l'ordre de $10^{-8}$ ou $10^{-9}$.*"
   ]
  },
  {
   "cell_type": "markdown",
   "metadata": {},
   "source": [
    "On peut utiliser une autre formule pour calculer la dérivée en utilisant la formule suivante, qui se déduit d'une application de la Formule de Taylor-Young, lorsque $f$ est au moins de classe $\\mathcal{C}^3$ :\n",
    "$$\n",
    "f'(x_0) = \\frac{f(x_0+h)-f(x_0-h)}{2h} + \\frac{f^{(3)}(x_0)}{6} h^2+ o(h^2)\n",
    "$$\n",
    "\n",
    "**Exercice** Écrire une fonction `derivee2(f,x0,h)` retournant `(f(x0+h)-f(x0-h))/2`, et faire la même étude que précédemment avec cette \"dérivée centrée\"."
   ]
  },
  {
   "cell_type": "code",
   "execution_count": 25,
   "metadata": {},
   "outputs": [
    {
     "data": {
      "text/plain": [
       "Text(0, 0.5, \"erreur d'approximation\")"
      ]
     },
     "execution_count": 25,
     "metadata": {},
     "output_type": "execute_result"
    },
    {
     "data": {
      "image/png": "[encoded data removed]",
      "text/plain": [
       "<Figure size 432x288 with 1 Axes>"
      ]
     },
     "metadata": {
      "needs_background": "light"
     },
     "output_type": "display_data"
    }
   ],
   "source": [
    "def derivee2(f,x0,h):\n",
    "    return (f(x0+h) - f(x0-h)) / (2*h)\n",
    "\n",
    "import matplotlib.pyplot as plt\n",
    "H = [2**(-k) for k in range(1,41)]  # les valeurs de h\n",
    "E = [abs(derivee2(f,x0,h)-g(x0)) for h in H]  # les erreurs d'approximation\n",
    "plt.plot(H,E)\n",
    "plt.xscale('log')\n",
    "plt.yscale('log')\n",
    "plt.title(\"erreur pour la dérivation centrée\")\n",
    "plt.xlabel(\"h\")\n",
    "plt.ylabel(\"erreur d'approximation\")"
   ]
  },
  {
   "cell_type": "markdown",
   "metadata": {},
   "source": [
    "**Amélioration de la dérivée centrée**\n",
    "\n",
    "**Exercice** Définir de même une fonction `derivee3(f,x0,h)` rendant `4*derivee2(f,x0,h) - derivee2(f,x0,2*h))/3`, et étudier le comportement de l'erreur obtenue avec cette troisième formule."
   ]
  },
  {
   "cell_type": "code",
   "execution_count": 33,
   "metadata": {},
   "outputs": [
    {
     "data": {
      "text/plain": [
       "Text(0, 0.5, \"erreur d'approximation\")"
      ]
     },
     "execution_count": 33,
     "metadata": {},
     "output_type": "execute_result"
    },
    {
     "data": {
      "image/png": "[encoded data removed]",
      "text/plain": [
       "<Figure size 432x288 with 1 Axes>"
      ]
     },
     "metadata": {
      "needs_background": "light"
     },
     "output_type": "display_data"
    }
   ],
   "source": [
    "def derivee3(f,x0,h):\n",
    "    return (4*derivee2(f,x0,h) - derivee2(f,x0,2*h))/3\n",
    "\n",
    "import matplotlib.pyplot as plt\n",
    "H = [2**(-k) for k in range(1,41)]  # les valeurs de h\n",
    "E = [abs(derivee3(f,x0,h)-g(x0)) for h in H]  # les erreurs d'approximation\n",
    "plt.plot(H,E)\n",
    "plt.xscale('log')\n",
    "plt.yscale('log')\n",
    "plt.title(\"erreur pour la dérivation centrée améliorée\")\n",
    "plt.xlabel(\"h\")\n",
    "plt.ylabel(\"erreur d'approximation\")"
   ]
  },
  {
   "cell_type": "code",
   "execution_count": null,
   "metadata": {},
   "outputs": [],
   "source": []
  }
 ],
 "metadata": {
  "kernelspec": {
   "display_name": "Python 3",
   "language": "python",
   "name": "python3"
  },
  "language_info": {
   "codemirror_mode": {
    "name": "ipython",
    "version": 3
   },
   "file_extension": ".py",
   "mimetype": "text/x-python",
   "name": "python",
   "nbconvert_exporter": "python",
   "pygments_lexer": "ipython3",
   "version": "3.7.3"
  }
 },
 "nbformat": 4,
 "nbformat_minor": 2
}
