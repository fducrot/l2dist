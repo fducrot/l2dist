{
 "cells": [
  {
   "cell_type": "markdown",
   "metadata": {},
   "source": [
    "# Exercices d'application de Matplotlib\n",
    "\n",
    "Il s'agit d'exercices simples, sans intérêt coceptuel particulier, destinés à s'entrainer à utiliser matplotlib."
   ]
  },
  {
   "cell_type": "markdown",
   "metadata": {},
   "source": [
    "On importe d'abord les modules et fonctions qui seront utiles."
   ]
  },
  {
   "cell_type": "code",
   "execution_count": null,
   "metadata": {},
   "outputs": [],
   "source": [
    "import matplotlib.pyplot as plt\n",
    "import numpy as np\n",
    "from math import sqrt, pi"
   ]
  },
  {
   "cell_type": "markdown",
   "metadata": {},
   "source": [
    "## Représentation de fonctions : séries de Fourier"
   ]
  },
  {
   "cell_type": "markdown",
   "metadata": {},
   "source": [
    "On regarde la fonction $2\\pi$-périodique définie par :\n",
    "\n",
    "$f(t) = \\frac{t}{\\pi}$  si $t\\in[0,\\pi]$\n",
    "\n",
    "$f(t) = 1- \\frac{\\pi - t}{\\pi}$  si $t\\in[0,\\pi]$\n",
    "\n",
    "**1.** Faire tracer le graphe de $f$ sur l'intervalle $[0,4\\pi]$."
   ]
  },
  {
   "cell_type": "code",
   "execution_count": null,
   "metadata": {},
   "outputs": [],
   "source": []
  },
  {
   "cell_type": "markdown",
   "metadata": {},
   "source": [
    "**2.**  Faire tracer sur le même diagramme le graphe de $f$ et le graphe de :\n",
    "$$\n",
    "t\\mapsto \\frac{1}{2} - \\frac{4}{\\pi^2} \\cos t\n",
    "$$"
   ]
  },
  {
   "cell_type": "code",
   "execution_count": null,
   "metadata": {},
   "outputs": [],
   "source": []
  },
  {
   "cell_type": "markdown",
   "metadata": {},
   "source": [
    "On définit la série de Fourier de $f$ tronquée :\n",
    "$$\n",
    "F_N(t) = \\frac{1}{2} - \\frac{4}{\\pi^2} \n",
    "\\left( \n",
    "\\frac{\\cos t}{1} + \\frac{\\cos 3t}{9}+\\cdots + \\frac{\\cos (2N+1)t}{(2N+1)^2}\n",
    "\\right)\n",
    "$$"
   ]
  },
  {
   "cell_type": "markdown",
   "metadata": {},
   "source": [
    "**3.** Ecrire une fonction F, qui prend en argument un entier $N$ et trace sur un même diagramme le graphe de $f$ et celui de $F_N$."
   ]
  },
  {
   "cell_type": "code",
   "execution_count": null,
   "metadata": {},
   "outputs": [],
   "source": []
  },
  {
   "cell_type": "markdown",
   "metadata": {},
   "source": [
    "Tester cette fonction pour différentes valeurs de $N$."
   ]
  },
  {
   "cell_type": "code",
   "execution_count": null,
   "metadata": {},
   "outputs": [],
   "source": [
    "F(2)"
   ]
  },
  {
   "cell_type": "markdown",
   "metadata": {},
   "source": [
    "Faire de même avec la fonction $2\\pi$-périodique $f$ définie par\n",
    "\n",
    "$f(t) = 0$ si $t = k\\pi$\n",
    "\n",
    "$f(t) = -1$ si $t\\in ]-\\pi,0[$\n",
    "\n",
    "$f(t) = -1$ si $t\\in ]0,\\pi[$\n",
    "\n",
    "\n",
    "et\n",
    "\n",
    "$$F_N(t) = \\frac{4}{\\pi} \\left(\\sin(\\frac{t}{1})+ \\sin(\\frac{t}{3}) + \\cdots + \\sin(\\frac{t}{2N+1})  \\right) $$"
   ]
  },
  {
   "cell_type": "code",
   "execution_count": null,
   "metadata": {},
   "outputs": [],
   "source": []
  },
  {
   "cell_type": "markdown",
   "metadata": {},
   "source": [
    "## Des courbes paramétrées : les courbes de Lissajou.\n",
    "\n",
    "Ecrire une fonction qui prend en argument des entiers $p$ et $q$ et rend le dessin de la courbe paramétrée \n",
    "$t\\mapsto(\\cos(pt) , \\sin(qt))$."
   ]
  },
  {
   "cell_type": "code",
   "execution_count": null,
   "metadata": {},
   "outputs": [],
   "source": []
  },
  {
   "cell_type": "markdown",
   "metadata": {},
   "source": [
    "## Un joli dessin"
   ]
  },
  {
   "cell_type": "markdown",
   "metadata": {},
   "source": [
    "Dessiner le cercle de centre 0 et de rayon 1."
   ]
  },
  {
   "cell_type": "code",
   "execution_count": null,
   "metadata": {},
   "outputs": [],
   "source": []
  },
  {
   "cell_type": "markdown",
   "metadata": {},
   "source": [
    "Pour des entiers $n$ et $p$ fixés, et pour tout entier positif $k\\leq n$, on définit les points\n",
    "\n",
    "$$\n",
    "A_k = \\left(\\cos(\\frac{2k\\pi}{n}),\\sin(\\frac{2k\\pi}{n})\\right)\n",
    "\\qquad\n",
    "B_k = \\left(\\cos(\\frac{2kp\\pi}{n}),\\sin(\\frac{2kp\\pi}{n})\\right)\n",
    "$$\n",
    "\n",
    "Faire tracer sur un même diagramme le cercle précédent, et tous les segments $[A_k,B_k]$, et tester pour différentes valeurs de $n$ et $p$."
   ]
  },
  {
   "cell_type": "code",
   "execution_count": null,
   "metadata": {},
   "outputs": [],
   "source": []
  },
  {
   "cell_type": "markdown",
   "metadata": {},
   "source": [
    "## Une échelle qui tombe.\n",
    "\n",
    "Une échelle est posée vericalement contre un mur. Le pied de l'échelle se met à glisser sur le sol, et s'éloigne du mur, alors que le sommet de l'échelle glisse le long du mur.\n",
    "\n",
    "Essayer de visualiser le phénoméne."
   ]
  },
  {
   "cell_type": "code",
   "execution_count": null,
   "metadata": {},
   "outputs": [],
   "source": []
  },
  {
   "cell_type": "markdown",
   "metadata": {},
   "source": [
    "## Visaliser la vitesse de convergence d'une suite.\n",
    "\n",
    "Pour un réel $a\\in [1,\\sqrt{2}]$ donné, on veut étudier la suite $(u_n)$ par $u_0=a$ et $u_{n+1}= u_n - (u_n^2-2)/4$."
   ]
  },
  {
   "cell_type": "markdown",
   "metadata": {},
   "source": [
    "**1.** Définir d'abord une fonction `suite(a,N)` qui prend $a$ et $N$ en arguments et rend la liste $(u_0,\\ldots,u_N)$."
   ]
  },
  {
   "cell_type": "code",
   "execution_count": null,
   "metadata": {},
   "outputs": [],
   "source": []
  },
  {
   "cell_type": "markdown",
   "metadata": {},
   "source": [
    "**2.** Tester cette fonction."
   ]
  },
  {
   "cell_type": "code",
   "execution_count": null,
   "metadata": {},
   "outputs": [],
   "source": []
  },
  {
   "cell_type": "markdown",
   "metadata": {},
   "source": [
    "**3.** On remarque que cette suite semble semble converger vers $\\sqrt{2}$. Utiliser un graphique pour mettre ceci en évidence. Prendre par exemple $u_0 = 1.1$."
   ]
  },
  {
   "cell_type": "code",
   "execution_count": null,
   "metadata": {},
   "outputs": [],
   "source": []
  },
  {
   "cell_type": "markdown",
   "metadata": {},
   "source": [
    "**4.** Pour quantifier la vitesse de convergence de $(u_n)$ vers $\\sqrt{2}$, faites tracer ce même graphique en utilisant une échelle logarithmique."
   ]
  },
  {
   "cell_type": "code",
   "execution_count": null,
   "metadata": {},
   "outputs": [],
   "source": []
  },
  {
   "cell_type": "code",
   "execution_count": null,
   "metadata": {},
   "outputs": [],
   "source": []
  }
 ],
 "metadata": {
  "kernelspec": {
   "display_name": "Python 3",
   "language": "python",
   "name": "python3"
  },
  "language_info": {
   "codemirror_mode": {
    "name": "ipython",
    "version": 3
   },
   "file_extension": ".py",
   "mimetype": "text/x-python",
   "name": "python",
   "nbconvert_exporter": "python",
   "pygments_lexer": "ipython3",
   "version": "3.7.3"
  }
 },
 "nbformat": 4,
 "nbformat_minor": 2
}
