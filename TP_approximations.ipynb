{
 "cells": [
  {
   "cell_type": "markdown",
   "metadata": {},
   "source": [
    "# TP : recherche de valeurs approchées\n",
    "\n",
    "Dans ce TP, on va chercher à résoudre des problèmes de calcul scientifique en donnant une approximation de la valeur théorique de la solution, et en essayant de quantifier la précision avec laquelle on approche cette valeur."
   ]
  },
  {
   "cell_type": "markdown",
   "metadata": {},
   "source": [
    "## I. Calcul de la limite d'une série\n",
    "\n",
    "On sait (résultat démontré par Euler au 18ème siècle) que \n",
    "$$\n",
    "(Euler) \\quad \\sum_{k=1}^\\infty \\frac{1}{k^2} = \\frac{\\pi^2}{6}\n",
    "$$\n",
    "par ailleurs, on montre facilement que \n",
    "$$\n",
    "\\sum_{k=n+1}^\\infty \\frac{1}{k^2} \\leq \\frac{1}{n}.\n",
    "$$\n",
    "\n",
    "On va donc utiliser ces résultats pour déterminer une valeur approchée de $\\pi^2$. Pour cela on introduit des sommes partielles \n",
    "$$\n",
    "S_n = \\sum_{k=1}^n \\frac{1}{k^2} \n",
    "$$\n",
    "et on approxime $\\frac{\\pi^2}{6}$ par $S_n$ pour $n$ suffisamment grand.\n"
   ]
  },
  {
   "cell_type": "markdown",
   "metadata": {},
   "source": [
    "**Exercice** Ecrire une fonction `S(n)` qui prend en argument un entier $n$ et rend la somme partielle $S_n$."
   ]
  },
  {
   "cell_type": "code",
   "execution_count": 1,
   "metadata": {},
   "outputs": [],
   "source": []
  },
  {
   "cell_type": "markdown",
   "metadata": {},
   "source": [
    "**Exercice** Faire calculer $S_n$ avec $n=10^i$, pour $i$ variant de 1 à 6"
   ]
  },
  {
   "cell_type": "code",
   "execution_count": null,
   "metadata": {},
   "outputs": [],
   "source": []
  },
  {
   "cell_type": "markdown",
   "metadata": {},
   "source": [
    "**Question** Quelle valeur $N$ de $n$ doit-on choisir pour que $S_n$ nous donne une approximation de la limite à $10^{-8}$ près ?"
   ]
  },
  {
   "cell_type": "markdown",
   "metadata": {},
   "source": []
  },
  {
   "cell_type": "markdown",
   "metadata": {},
   "source": [
    "**Exercice** Calculer $S_N$ et $S_{2N}$.  *On s'armera de patience, car le calcul prend plusieurs minutes sur une machine raisonnablement puissante.* "
   ]
  },
  {
   "cell_type": "code",
   "execution_count": null,
   "metadata": {},
   "outputs": [],
   "source": []
  },
  {
   "cell_type": "markdown",
   "metadata": {},
   "source": [
    "**Question** Compte tenu de ce calcul, peut-on espérer atteindre une précision meilleure que $10^{-8}$ par cette méthode ? Expliquez pourquoi."
   ]
  },
  {
   "cell_type": "markdown",
   "metadata": {},
   "source": []
  },
  {
   "cell_type": "markdown",
   "metadata": {},
   "source": [
    "**Exercice** Ecrire une nouvelle fonction `S2(n)` calculant la même somme que `S(n)`, mais en faisant la somme dans l'autre sens, c'est à dire en commençant la somme par les plus petites valeurs. \n",
    "\n",
    "Calculer alors `S(10**8)` et `S(2*10**8)`."
   ]
  },
  {
   "cell_type": "code",
   "execution_count": null,
   "metadata": {},
   "outputs": [],
   "source": []
  },
  {
   "cell_type": "markdown",
   "metadata": {},
   "source": [
    "*On constate que l'on peut pousser les calculs un peu plus loin. Mais il ne faut pas vraiment espérer beaucoup mieux. Quoi qu'on fasse, on est proche des limites de cette méthode de calcul...*"
   ]
  },
  {
   "cell_type": "markdown",
   "metadata": {},
   "source": [
    "**Pousser l'approximation plus loin**\n",
    "\n",
    "On démontre facilement à l'aide de la formule d'Euler une nouvelle formule :\n",
    "\n",
    "$$\n",
    "\\sum_{k=1}^\\infty \\frac{(-1)^{k+1}}{k^2} = \\frac{\\pi^2}{12}\n",
    "$$\n",
    "\n",
    "\n",
    "On va donc chercher à approximer $\\frac{\\pi^2}{12}$ par les sommes partielles\n",
    "$$\n",
    "T_n = \\sum_{k=1}^n \\frac{(-1)^{k+1}}{k^2}\n",
    "$$\n",
    "\n",
    "La théorie des séries alternées nous donne maintenant  la majoration de l'erreur d'approximation :\n",
    "$$\n",
    "\\left|\n",
    "T_n -\\frac{\\pi^2}{12}\n",
    "\\right|\n",
    "< \\frac{1}{n^2}.\n",
    "$$"
   ]
  },
  {
   "cell_type": "markdown",
   "metadata": {},
   "source": [
    "**Exercice** Ecrire une fonction `T(n)` calculant $T_n$.\n",
    "\n",
    "Utiliser cette fonction pour obtenir une approximation de $\\frac{\\pi^2}{12}$ à $10^{-12}$ près.\n",
    "\n",
    "Vérifier ce calcul en utilisant la valeur de $\\pi$ contenue dans le module`math`."
   ]
  },
  {
   "cell_type": "code",
   "execution_count": null,
   "metadata": {},
   "outputs": [],
   "source": []
  },
  {
   "cell_type": "markdown",
   "metadata": {},
   "source": [
    "## II. Calcul numérique de la dérivée d'une fonction"
   ]
  },
  {
   "cell_type": "markdown",
   "metadata": {},
   "source": [
    "Vous avez appris la définition suivante de la dérivée d'une fonction $f$ :\n",
    "$$\n",
    "f'(x) = \\lim_{h\\to 0} \\frac{f(x+h)-f(x)}{h}\n",
    "$$\n",
    "Si vous disposez d'une fonction numérique $f$ donnée par un programme `f`, vous pouvez trouver une approximation numérique de $f'(x_0)$ en calculant `(f(x0+h)-f(x0))/h` pour `h` \"suffisament petit\". La question est de savoir quelle est la bonne valeur de `h` à choisir.\n",
    "\n",
    "Nous allons tester ici cette méthode en prenant pour exemple la fonction $f:x\\mapsto \\sin x$ et le réel $x_0=1$. Dans ce cas, on connait explicitement la dérivée $f'(x_0)=\\cos x_0$, et nous pourrons donc tester l'erreur d'approximation obtenue pour différentes valeurs de $h$."
   ]
  },
  {
   "cell_type": "markdown",
   "metadata": {},
   "source": [
    "**Exercice** \n",
    "- Définir la fonction `f` et sa fonction dérivée `g`.\n",
    "\n",
    "- Écrire une fonction `derivee(f,x0,h)` prenant en argument une fonction `f` et deux réels `x0` et `h` et rendant `(f(x0+h)-f(x0))/h`."
   ]
  },
  {
   "cell_type": "code",
   "execution_count": null,
   "metadata": {},
   "outputs": [],
   "source": []
  },
  {
   "cell_type": "markdown",
   "metadata": {},
   "source": [
    "**Exercice** Pour des valeurs de $h$  valant $2^{-1}, 2^{-2},\\ldots,2^{-40}$, calculer les erreurs d'approximation \n",
    "```\n",
    "err(h) = abs( derivee(f,x0,h)-g(x) )\n",
    "```\n",
    "et afficher `err(h)` en fonction de `h`, en utilisant une représentation logarithmique."
   ]
  },
  {
   "cell_type": "code",
   "execution_count": null,
   "metadata": {},
   "outputs": [],
   "source": []
  },
  {
   "cell_type": "markdown",
   "metadata": {},
   "source": [
    "**Question** \n",
    "- Quelle est la valeur optimale pour $h$ et quelle est la meilleure précision que l'obtient pour le calcul de $f'(x_0)$ ?\n",
    "- Pour quelle raison ne peut-on pas obtenir une meilleure précision avec cette méthode ?"
   ]
  },
  {
   "cell_type": "markdown",
   "metadata": {},
   "source": []
  },
  {
   "cell_type": "markdown",
   "metadata": {},
   "source": [
    "On peut utiliser une autre formule pour calculer la dérivée en utilisant la formule suivante, qui se déduit d'une application de la Formule de Taylor-Young, lorsque $f$ est au moins de classe $\\mathcal{C}^3$ :\n",
    "$$\n",
    "f'(x_0) = \\frac{f(x_0+h)-f(x_0-h)}{2h} + \\frac{f^{(3)}(x_0)}{6} h^2+ o(h^2)\n",
    "$$\n",
    "\n",
    "**Exercice** Écrire une fonction `derivee2(f,x0,h)` retournant `(f(x0+h)-f(x0-h))/2`, et faire la même étude que précédemment avec cette \"dérivée centrée\"."
   ]
  },
  {
   "cell_type": "code",
   "execution_count": null,
   "metadata": {},
   "outputs": [],
   "source": []
  },
  {
   "cell_type": "markdown",
   "metadata": {},
   "source": [
    "**Amélioration de la dérivée centrée**\n",
    "\n",
    "**Exercice** Définir de même une fonction `derivee3(f,x0,h)` rendant `4*derivee2(f,x0,h) - derivee2(f,x0,2*h))/3`, et étudier le comportement de l'erreur obtenue avec cette troisième formule."
   ]
  },
  {
   "cell_type": "code",
   "execution_count": null,
   "metadata": {},
   "outputs": [],
   "source": []
  },
  {
   "cell_type": "code",
   "execution_count": null,
   "metadata": {},
   "outputs": [],
   "source": []
  }
 ],
 "metadata": {
  "kernelspec": {
   "display_name": "Python 3",
   "language": "python",
   "name": "python3"
  },
  "language_info": {
   "codemirror_mode": {
    "name": "ipython",
    "version": 3
   },
   "file_extension": ".py",
   "mimetype": "text/x-python",
   "name": "python",
   "nbconvert_exporter": "python",
   "pygments_lexer": "ipython3",
   "version": "3.7.3"
  }
 },
 "nbformat": 4,
 "nbformat_minor": 2
}
