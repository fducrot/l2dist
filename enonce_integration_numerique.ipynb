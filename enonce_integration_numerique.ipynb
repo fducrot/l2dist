{
 "cells": [
  {
   "cell_type": "markdown",
   "metadata": {},
   "source": [
    "# TP Intégration numérique\n",
    "\n",
    "\n",
    "Le but de ce TP est d'étudier différentes méthodes pour calculer numériquement  des approximations de \n",
    "$$\n",
    "\\int_a^b f(t) dt\n",
    "$$\n",
    "où $f$ est une fonction continue.\n",
    "\n",
    "Pour une étude théorique de la convergence de ces méthodes, il faudrait faire des hypothèses supplémentaires de dérivabilité, classe $\\mathcal{C}^1$, ..., $\\mathcal{C}^n$, mais nous ne rentrerons pas ici dans ces considérations."
   ]
  },
  {
   "cell_type": "markdown",
   "metadata": {},
   "source": [
    "## Représentation graphique\n"
   ]
  },
  {
   "cell_type": "markdown",
   "metadata": {},
   "source": [
    "### Exercice 1\n",
    "On considère la fonction $f : [0,1] \\to \\mathbb{R}, x\\mapsto x^2$, et on va regarder les méthode des rectangles à gauche, des rectangles à droite, des trapèzes.\n",
    "\n",
    "Faire tracer sur un même graphique :\n",
    "\n",
    "* le graphe de $f$\n",
    "* le graphe de la fonction en escalier correspondant à la méthode des rectangles à gauche avec 7 subdivions égales\n",
    "* le graphe de la fonction en escalier correspondant à la méthode des rectangles à droite avec 7 subdivions égales\n",
    "* le graphe de la fonction en escalier correspondant à la méthode des trapèzes avec 7 subdivions égales\n"
   ]
  },
  {
   "cell_type": "code",
   "execution_count": null,
   "metadata": {},
   "outputs": [],
   "source": []
  },
  {
   "cell_type": "markdown",
   "metadata": {},
   "source": [
    "### Exercice 2\n",
    "Écrire une fonction `dessinRect(a,b,f,n)`, prenant en arguments deux nombres $a < b$, une fonc-\n",
    "tion $f : [a, b] \\to \\mathbb{R}$, et un entier $n$ et rendant un diagramme, où on voit \n",
    "\n",
    "* le graphe de $f$ , \n",
    "\n",
    "* le graphe de la fonction en escalier utilisée pour la méthode des rectangles à gauche avec $n$ subdivisions,\n",
    "\n",
    "* le graphe de la fonction en escalier utilisée pour la méthode des rectangles à droites avec $n$ subdivisions."
   ]
  },
  {
   "cell_type": "code",
   "execution_count": null,
   "metadata": {},
   "outputs": [],
   "source": []
  },
  {
   "cell_type": "markdown",
   "metadata": {},
   "source": [
    "### Exercice 3\n",
    "\n",
    "Écrire de même une fonction `dessinTrap(a,b,f,n)`, renant en arguments deux nombres $a < b$, une fonc-\n",
    "tion $f : [a, b] \\to \\mathbb{R}$, et un entier $n$ et rendant un diagramme, où on voit \n",
    "\n",
    "* le graphe de $f$ , \n",
    "\n",
    "* le graphe de la fonction  affine par morceaux coîncidant avec $f$ aux points $a + k(b − a)/n$, pour\n",
    "$k = 0,\\ldots, n$."
   ]
  },
  {
   "cell_type": "code",
   "execution_count": null,
   "metadata": {},
   "outputs": [],
   "source": []
  },
  {
   "cell_type": "markdown",
   "metadata": {},
   "source": [
    "## Programmation des différentes méthodes.\n",
    "\n",
    "### Exercice 3\n",
    "\n",
    "Écrire des fonctions\n",
    "* `rectg(a,b,f,n)`,\n",
    "* `rectd(a,b,f,n)`,\n",
    "* `milieu(a,b,f,n)`,\n",
    "* `trapeze(a,b,f,n)`,\n",
    "* `simpson(a,b,f,n)`,\n",
    "prenant en arguments\n",
    "deux nombres $a < b$, une fonction $f : [a, b]\\o \\mathbb{R}$, et un entier $n$ et rendant une\n",
    "approximation de $\\int_a^bf(t)dt$, obtenue en appliquant les différentes méthodes (rectangles à gauche, rectangles\n",
    "à droite, milieu, trapèzes, Simpson) à $f$ avec $n$ subdivisions."
   ]
  },
  {
   "cell_type": "code",
   "execution_count": null,
   "metadata": {},
   "outputs": [],
   "source": []
  },
  {
   "cell_type": "code",
   "execution_count": null,
   "metadata": {},
   "outputs": [],
   "source": []
  },
  {
   "cell_type": "code",
   "execution_count": null,
   "metadata": {},
   "outputs": [],
   "source": []
  },
  {
   "cell_type": "code",
   "execution_count": null,
   "metadata": {},
   "outputs": [],
   "source": []
  },
  {
   "cell_type": "code",
   "execution_count": null,
   "metadata": {},
   "outputs": [],
   "source": []
  },
  {
   "cell_type": "markdown",
   "metadata": {},
   "source": [
    "Tester ces différentes méthodes sur la fonction $x\\mapsto \\sin x$ sur $[0,\\pi]$."
   ]
  },
  {
   "cell_type": "code",
   "execution_count": null,
   "metadata": {},
   "outputs": [],
   "source": []
  },
  {
   "cell_type": "markdown",
   "metadata": {},
   "source": [
    "## Mise en évidence des précisions des méthodes."
   ]
  },
  {
   "cell_type": "markdown",
   "metadata": {},
   "source": [
    "### Exercice 4\n",
    "\n",
    "On va tester les différentes méthodes sur la fonction\n",
    "$f : [0, 1] → \\mathbb{R}, t mapsto  t^4 ,$\n",
    "dont l’intégrale $I = \\int_0^1 t^4dt$ vaut $\\frac{1}{5}$.\n",
    "\n",
    "\n",
    "Pour tout entier $n$, on note `errRectg(n)`, `errRectd(n)`, `errMilieu(n)`, `errTrapeze(n)` , `errSimpson(n)`\n",
    "l’erreur obtenue en approximant I par application des méthodes précédentes avec n subdivisions.\n",
    "Faire tracer sur un même diagramme les courbes représentatives de ces erreurs en fonction de n.\n",
    "On pourra prendre $n = 1, 2, 4, . . . , 2^{12}$ , et utiliser des coordonnées logarithmiques pour bien mettre en\n",
    "évidence les vitesses de ces différentes méthodes.\n"
   ]
  },
  {
   "cell_type": "code",
   "execution_count": null,
   "metadata": {},
   "outputs": [],
   "source": []
  },
  {
   "cell_type": "code",
   "execution_count": null,
   "metadata": {},
   "outputs": [],
   "source": []
  },
  {
   "cell_type": "code",
   "execution_count": null,
   "metadata": {},
   "outputs": [],
   "source": []
  },
  {
   "cell_type": "code",
   "execution_count": null,
   "metadata": {},
   "outputs": [],
   "source": []
  },
  {
   "cell_type": "code",
   "execution_count": null,
   "metadata": {},
   "outputs": [],
   "source": []
  },
  {
   "cell_type": "code",
   "execution_count": null,
   "metadata": {},
   "outputs": [],
   "source": []
  },
  {
   "cell_type": "markdown",
   "metadata": {},
   "source": [
    "# Obtention d'une précision a priori\n",
    "\n",
    "On ne sait pas a priori quelle est la précision des méthodes qu’on étudie, pour des fonctions quelconques.\n",
    "Étant donnée une précision $h$, on veut\n",
    "R b pour toute fonction $f : [a, b]\\to \\mathbb{R}$, trouver une valeur numérique\n",
    "$J$ qui diffère de la valeur inconnue $I = \\int_a^bf (t)dt$ d’une valeur de l’ordre de $h$."
   ]
  },
  {
   "cell_type": "markdown",
   "metadata": {},
   "source": [
    "### Exercice 5\n",
    "\n",
    "Écrire, une fonction `integr(a,b,f,h)` qui calcule successivement `milieu(a,b,f,n)` pour \n",
    "$n = 1, 2, 4, \\ldots, 2^k, \\ldots$, tant que deux\n",
    "valeurs successives diffèrent de plus de $h$, et rend la dernière valeur calculée."
   ]
  },
  {
   "cell_type": "code",
   "execution_count": null,
   "metadata": {},
   "outputs": [],
   "source": []
  },
  {
   "cell_type": "code",
   "execution_count": null,
   "metadata": {},
   "outputs": [],
   "source": []
  },
  {
   "cell_type": "code",
   "execution_count": null,
   "metadata": {},
   "outputs": [],
   "source": []
  }
 ],
 "metadata": {
  "kernelspec": {
   "display_name": "Python 3",
   "language": "python",
   "name": "python3"
  },
  "language_info": {
   "codemirror_mode": {
    "name": "ipython",
    "version": 3
   },
   "file_extension": ".py",
   "mimetype": "text/x-python",
   "name": "python",
   "nbconvert_exporter": "python",
   "pygments_lexer": "ipython3",
   "version": "3.7.6"
  }
 },
 "nbformat": 4,
 "nbformat_minor": 4
}
