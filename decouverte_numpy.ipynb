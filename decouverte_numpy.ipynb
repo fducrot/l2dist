{
 "cells": [
  {
   "cell_type": "markdown",
   "metadata": {},
   "source": [
    "# À la découverte de Numpy"
   ]
  },
  {
   "cell_type": "markdown",
   "metadata": {},
   "source": [
    "On importe d'abord le module numpy"
   ]
  },
  {
   "cell_type": "code",
   "execution_count": null,
   "metadata": {},
   "outputs": [],
   "source": [
    "import numpy as np"
   ]
  },
  {
   "cell_type": "markdown",
   "metadata": {},
   "source": [
    "## Nos premiers tableaux\n",
    "\n",
    "Définissons un premier tableau, et regardons ses caractéristiques :"
   ]
  },
  {
   "cell_type": "code",
   "execution_count": null,
   "metadata": {},
   "outputs": [],
   "source": [
    "tab = np.array([[1,2,3],[4,5,6]])\n",
    "print(tab)\n",
    "print(f\"les composants du tableau sont de type {tab.dtype} \")\n",
    "print(f\"chaque composant est stocké sur {tab.itemsize} octets\")\n",
    "print(f\"c'est un tableau en {tab.ndim} dimensions\")\n",
    "print(f\"son profil est {tab.shape}\") \n",
    "print(f\"autrement dit, il a {tab.shape[0]} lignes et {tab.shape[1]} colonnes\")\n"
   ]
  },
  {
   "cell_type": "markdown",
   "metadata": {},
   "source": [
    "**Exercice :** A votre tour, construisez la matrice $M$ suivante :\n",
    "$$\n",
    "M = \\left(\n",
    "\\begin{array}{cccc}\n",
    "1&1&0&0\\\\\n",
    "0&1&1&0\\\\\n",
    "0&0&1&1\\\\\n",
    "0&0&0&1\n",
    "\\end{array}\n",
    "\\right)\n",
    "$$\n",
    "\n",
    "\n",
    "Faites afficher les caractéristiques de cette matrice (dimension, taille, profil, dtype)"
   ]
  },
  {
   "cell_type": "code",
   "execution_count": null,
   "metadata": {},
   "outputs": [],
   "source": []
  },
  {
   "cell_type": "markdown",
   "metadata": {},
   "source": [
    "Regardons comment accéder à un coefficient, et comment le modifier :"
   ]
  },
  {
   "cell_type": "code",
   "execution_count": null,
   "metadata": {},
   "outputs": [],
   "source": [
    "print(tab[1,1])\n",
    "tab[1,1] = 53\n",
    "print(tab)"
   ]
  },
  {
   "cell_type": "markdown",
   "metadata": {},
   "source": [
    "Que se passe-t-il si on donne à un coefficient une valeur réelle, ou booléenne ?"
   ]
  },
  {
   "cell_type": "code",
   "execution_count": null,
   "metadata": {},
   "outputs": [],
   "source": [
    "tab[0,0] = 3.141592\n",
    "tab[0,2] = True\n",
    "print(tab)\n",
    "print(tab.dtype)"
   ]
  },
  {
   "cell_type": "markdown",
   "metadata": {},
   "source": [
    "On constate que le type du tableau tab n'a pas changé. C'est toujours un tableau d'entiers.\n",
    "Quand on a voulu entrer la valeur 3.141592, il a inséré sa partie entière 3.\n",
    "De même, quand on a voulu insérer le booléen True, il a inséré sa traduction entière 1."
   ]
  },
  {
   "cell_type": "markdown",
   "metadata": {},
   "source": [
    "**Exercice :** A votre tour, créez une matrice contenant des coefficients qui sont des nombres réels, et regadez ce qui se passe quand vous modifiez certains coefficients pour leur donner des valeurs entières, ou booléennes, ou chaînes de caractères."
   ]
  },
  {
   "cell_type": "code",
   "execution_count": null,
   "metadata": {},
   "outputs": [],
   "source": []
  },
  {
   "cell_type": "markdown",
   "metadata": {},
   "source": [
    "## Construire un tableau en empilant des briques"
   ]
  },
  {
   "cell_type": "markdown",
   "metadata": {},
   "source": [
    "D'abord quelques briques de dimension 1 :"
   ]
  },
  {
   "cell_type": "code",
   "execution_count": null,
   "metadata": {},
   "outputs": [],
   "source": [
    "x1 = np.arange(7)\n",
    "print(x1)\n",
    "x2 = np.arange(3,12,2)\n",
    "print(x2)\n",
    "x3 = np.zeros(6)\n",
    "print(x3)\n",
    "x4 = np.ones(9)\n",
    "print(x4)\n",
    "x5 = np.full(7,3.14)\n",
    "print(x5)\n",
    "x6 = np.linspace(0,1,11) # couper [0,1] en 10 morceaux égaux. Cela fait 11 piquets !\n",
    "print(x6)"
   ]
  },
  {
   "cell_type": "markdown",
   "metadata": {},
   "source": [
    "Ensuite, des briques de plus grande dimension :"
   ]
  },
  {
   "cell_type": "code",
   "execution_count": null,
   "metadata": {},
   "outputs": [],
   "source": [
    "x1 = np.arange(12).reshape(4,3) # une ligne de 12 entiers, réordonnée sur 4 lignes et 3 colonnes\n",
    "print(x1)\n",
    "x2 = np.ones([3,5])  # on indique le profil comme une liste\n",
    "print(x2)\n",
    "x3 = np.zeros([2,2])\n",
    "print(x3)\n",
    "x4 = np.eye(4,4)\n",
    "print(x4)\n",
    "x5 = np.diag(np.arange(1,5)) # matrice de diagonale donnée\n",
    "print(x5)\n",
    "x6 = np.diag(np.ones(3),2)\n",
    "print(x6)"
   ]
  },
  {
   "cell_type": "markdown",
   "metadata": {},
   "source": [
    "Recollons maintenant des briques ensemble :"
   ]
  },
  {
   "cell_type": "code",
   "execution_count": null,
   "metadata": {},
   "outputs": [],
   "source": [
    "x1 = np.full([2,2],1)\n",
    "x2 = np.full([2,2],2)\n",
    "print(x1)\n",
    "print(x2)\n",
    "print(np.concatenate([x1,x2],axis=0))\n",
    "print(np.concatenate([x1,x2],axis=1))"
   ]
  },
  {
   "cell_type": "markdown",
   "metadata": {},
   "source": [
    "## Découper des tranches"
   ]
  },
  {
   "cell_type": "markdown",
   "metadata": {},
   "source": [
    "Partons d'un tableau donné :"
   ]
  },
  {
   "cell_type": "code",
   "execution_count": null,
   "metadata": {},
   "outputs": [],
   "source": [
    "M = np.arange(100).reshape([10,10])\n",
    "print(M)"
   ]
  },
  {
   "cell_type": "code",
   "execution_count": null,
   "metadata": {},
   "outputs": [],
   "source": [
    "print(M[:5,:5])"
   ]
  },
  {
   "cell_type": "markdown",
   "metadata": {},
   "source": [
    "**Exercice** Afficher de même la sous-matrice de $M$ de taille $4\\times5$ en bas à droite"
   ]
  },
  {
   "cell_type": "code",
   "execution_count": null,
   "metadata": {},
   "outputs": [],
   "source": []
  },
  {
   "cell_type": "markdown",
   "metadata": {},
   "source": [
    "Un peu plus compliqué ; on prend une colonne sur deux :"
   ]
  },
  {
   "cell_type": "code",
   "execution_count": null,
   "metadata": {},
   "outputs": [],
   "source": [
    "print(M[:,::2])"
   ]
  },
  {
   "cell_type": "markdown",
   "metadata": {},
   "source": [
    "**Exercice** Afficher la matrice extraite de M en prenant les lignes et les colonnes impaires."
   ]
  },
  {
   "cell_type": "code",
   "execution_count": null,
   "metadata": {},
   "outputs": [],
   "source": []
  },
  {
   "cell_type": "markdown",
   "metadata": {},
   "source": [
    "On peut aussi faire des extractions plus fines en utilisant des masques :"
   ]
  },
  {
   "cell_type": "code",
   "execution_count": null,
   "metadata": {},
   "outputs": [],
   "source": [
    "masque = (M + M.T)%2 ==0\n",
    "print(masque)"
   ]
  },
  {
   "cell_type": "markdown",
   "metadata": {},
   "source": [
    "Et maintenant en faisant une affectation :"
   ]
  },
  {
   "cell_type": "code",
   "execution_count": null,
   "metadata": {},
   "outputs": [],
   "source": [
    "M[masque] = 0\n",
    "print(M)"
   ]
  },
  {
   "cell_type": "markdown",
   "metadata": {},
   "source": [
    "Soit l'échiquier $8\\times 8$, construit ici avec la fonction np.tile, qui réalise un tuilage en recollant avec elle-même une matrice donnée suivant un profil donné :"
   ]
  },
  {
   "cell_type": "code",
   "execution_count": null,
   "metadata": {},
   "outputs": [],
   "source": [
    "x = np.array([[1,0],[0,1]])\n",
    "echiquier = np.tile(x,[4,4])\n",
    "print(echiquier)"
   ]
  },
  {
   "cell_type": "markdown",
   "metadata": {},
   "source": [
    "**Exercice** A vous de proposer plusieurs autres méthodes pour afficher ce même échiquier !"
   ]
  },
  {
   "cell_type": "code",
   "execution_count": null,
   "metadata": {},
   "outputs": [],
   "source": []
  },
  {
   "cell_type": "markdown",
   "metadata": {},
   "source": [
    "## Broascasting"
   ]
  },
  {
   "cell_type": "markdown",
   "metadata": {},
   "source": [
    "Le mécanisme de propagation (broadcasting) nous donne la possibilité de réaliser une opération entre deux tableaux qui n'ont pas le même format."
   ]
  },
  {
   "cell_type": "code",
   "execution_count": null,
   "metadata": {},
   "outputs": [],
   "source": [
    "chiffres = np.arange(1,10)\n",
    "x = chiffres.reshape(1,9)  # matrice à 1 ligne et 9 colonnes\n",
    "y = chiffres.reshape(9,1)  # matrice à 9 lignes et 1 colonne\n",
    "print(x+y)  # La table d'addition"
   ]
  },
  {
   "cell_type": "markdown",
   "metadata": {},
   "source": [
    "Pour comprendre ce qu'a fait numpy, il faut imaginer qu'il a propagé x et y en deux matrices X et Y \n",
    "de taille $9\\times9$ et les a ajoutées. Les deux matrices pourrait être construites comme ceci :"
   ]
  },
  {
   "cell_type": "code",
   "execution_count": null,
   "metadata": {},
   "outputs": [],
   "source": [
    "X = np.tile(x,[9,1])\n",
    "print(X)"
   ]
  },
  {
   "cell_type": "code",
   "execution_count": null,
   "metadata": {},
   "outputs": [],
   "source": [
    "Y = np.tile(y,[1,9])\n",
    "print(Y)"
   ]
  },
  {
   "cell_type": "code",
   "execution_count": null,
   "metadata": {},
   "outputs": [],
   "source": []
  }
 ],
 "metadata": {
  "kernelspec": {
   "display_name": "Python 3",
   "language": "python",
   "name": "python3"
  },
  "language_info": {
   "codemirror_mode": {
    "name": "ipython",
    "version": 3
   },
   "file_extension": ".py",
   "mimetype": "text/x-python",
   "name": "python",
   "nbconvert_exporter": "python",
   "pygments_lexer": "ipython3",
   "version": "3.7.3"
  }
 },
 "nbformat": 4,
 "nbformat_minor": 2
}
