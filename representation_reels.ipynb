{
 "cells": [
  {
   "cell_type": "markdown",
   "metadata": {},
   "source": [
    "# Représentation des réels et précision numérique\n",
    "\n",
    "Ce TP  a pour but de vous faire comprendre  les limites de la précision des calculs numériques, et pour cela voir comment les nombres réels sont représentés dans un ordinateur.\n",
    "\n",
    "\n",
    "Je vous propose dans un premer temps une expérimentation faisant apparaitre quelques phénomènes surprenant, ensuite un retour sur ces phénomènes, où on essaiera de comprendre leur cause. On terminera par une dernière illustration des problèmes de précision numérique."
   ]
  },
  {
   "cell_type": "markdown",
   "metadata": {},
   "source": [
    "## I. Quelques expérimentations numériques sur la notion de précision"
   ]
  },
  {
   "cell_type": "markdown",
   "metadata": {},
   "source": [
    "### a. Un test d'égalité"
   ]
  },
  {
   "cell_type": "code",
   "execution_count": null,
   "metadata": {},
   "outputs": [],
   "source": [
    "0.1 + 0.1 == 0.2"
   ]
  },
  {
   "cell_type": "markdown",
   "metadata": {},
   "source": [
    "Cela semble raisonnable ; donc continuons :"
   ]
  },
  {
   "cell_type": "code",
   "execution_count": null,
   "metadata": {},
   "outputs": [],
   "source": [
    "0.1 + 0.1 + 0.1 == 0.3"
   ]
  },
  {
   "cell_type": "markdown",
   "metadata": {},
   "source": [
    "Et là c'est plus surprenant !"
   ]
  },
  {
   "cell_type": "markdown",
   "metadata": {},
   "source": [
    "### b. Quand obtient-on zéro ?"
   ]
  },
  {
   "cell_type": "markdown",
   "metadata": {},
   "source": [
    "Considérons maintenant les deux fonctions suivantes :"
   ]
  },
  {
   "cell_type": "code",
   "execution_count": null,
   "metadata": {},
   "outputs": [],
   "source": [
    "def premier_zero():\n",
    "    n = 0\n",
    "    while 1/2**n != 0:\n",
    "        n += 1\n",
    "    return n\n",
    "    \n",
    "def premier_zero_2(a):\n",
    "    n = 0\n",
    "    while a+ 1/2**n != a:\n",
    "        n += 1\n",
    "    return n"
   ]
  },
  {
   "cell_type": "markdown",
   "metadata": {},
   "source": [
    "On pourrait s'attendre à ce que les boucles dans ces deux fonctions tournent indéfiniment. Ce n'est pas le cas :"
   ]
  },
  {
   "cell_type": "code",
   "execution_count": null,
   "metadata": {},
   "outputs": [],
   "source": [
    "premier_zero()"
   ]
  },
  {
   "cell_type": "code",
   "execution_count": null,
   "metadata": {},
   "outputs": [],
   "source": [
    "premier_zero_2(1)"
   ]
  },
  {
   "cell_type": "markdown",
   "metadata": {},
   "source": [
    "On constate donc que `2**(-1074) == 0` répond `False` alors que `2**(-1075) == 0` répond `True`.\n",
    "\n",
    "De même `1 + 2**(-52) == 1` répond `False` alors que `1 + 2**(-53) == 1` répond `True`"
   ]
  },
  {
   "cell_type": "markdown",
   "metadata": {},
   "source": [
    "Et si on recalcule `premier_zero_2(a)` pour d'autres valeurs de `a` ?"
   ]
  },
  {
   "cell_type": "code",
   "execution_count": null,
   "metadata": {},
   "outputs": [],
   "source": [
    "for k in range(10):\n",
    "    print(f\"{k} -> {premier_zero_2(2**k)}\") "
   ]
  },
  {
   "cell_type": "code",
   "execution_count": null,
   "metadata": {},
   "outputs": [],
   "source": [
    "for k in range(10):\n",
    "    print(2**45 +1/2**k -2**45)"
   ]
  },
  {
   "cell_type": "markdown",
   "metadata": {},
   "source": [
    "### c. Des grands nombres"
   ]
  },
  {
   "cell_type": "code",
   "execution_count": null,
   "metadata": {},
   "outputs": [],
   "source": [
    "2 ** 1050"
   ]
  },
  {
   "cell_type": "markdown",
   "metadata": {},
   "source": [
    "Mais avec des nombres en virgule flottante, ce n'est pas la même chose :"
   ]
  },
  {
   "cell_type": "code",
   "execution_count": null,
   "metadata": {},
   "outputs": [],
   "source": [
    "2.0 ** 1023"
   ]
  },
  {
   "cell_type": "code",
   "execution_count": null,
   "metadata": {},
   "outputs": [],
   "source": [
    "2.0 ** 1024"
   ]
  },
  {
   "cell_type": "markdown",
   "metadata": {},
   "source": [
    "Il apparait donc qu'on peut regarder des entiers de taille indéfinie, mais que les nombres en virgule flottante ont une limite supérieure qui est de l'ordre de $10^{308}$."
   ]
  },
  {
   "cell_type": "markdown",
   "metadata": {},
   "source": [
    "### d. Des petits nombres"
   ]
  },
  {
   "cell_type": "code",
   "execution_count": null,
   "metadata": {},
   "outputs": [],
   "source": [
    "2 ** -1074"
   ]
  },
  {
   "cell_type": "code",
   "execution_count": null,
   "metadata": {},
   "outputs": [],
   "source": [
    "2 ** -1074 == 0"
   ]
  },
  {
   "cell_type": "code",
   "execution_count": null,
   "metadata": {},
   "outputs": [],
   "source": [
    "2 ** -1075"
   ]
  },
  {
   "cell_type": "code",
   "execution_count": null,
   "metadata": {},
   "outputs": [],
   "source": [
    "2 ** -1075 == 0"
   ]
  },
  {
   "cell_type": "markdown",
   "metadata": {},
   "source": [
    "Un nombre en virgule flottante de l'ordre de $10^{-325}$ est donc considéré par python comme exactement nul."
   ]
  },
  {
   "cell_type": "markdown",
   "metadata": {},
   "source": [
    "### e. Un  calcul qui donne un résultat surprenant"
   ]
  },
  {
   "cell_type": "markdown",
   "metadata": {},
   "source": [
    "Si on calcule l'expression mathématique suivante :\n",
    "\n",
    "$$ 10^k \\left( 3 ((10^k +\\frac{1}{3}) -10^k)- 1\\right)  $$\n",
    "\n",
    "on trouve immédiatement 0.\n",
    "Regardons ce que ça donne avec python, pour différentes valeurs de k.\n",
    "On respecte ici le parenthésage donné dans la formule, sans faire de simplification.\n"
   ]
  },
  {
   "cell_type": "code",
   "execution_count": null,
   "metadata": {},
   "outputs": [],
   "source": [
    "for k in range(15):\n",
    "    print(k,\" -> \",(3 * ((10**k + 1/3)- 10**k) - 1) * 10**k )"
   ]
  },
  {
   "cell_type": "markdown",
   "metadata": {},
   "source": [
    "## II. Autopsie des phénomènes observés\n",
    "\n",
    "Il reste maintenant à comprendre tout ça, et pour cela, il est nécessaire de regarder en détail la représentation des nombres dans un ordinateur. C'est le moment de regarder la vidéo sur la représentation des nombres réels sur machine.\n"
   ]
  },
  {
   "cell_type": "markdown",
   "metadata": {},
   "source": [
    "Pour investiguer les causes des phénomènes numériques que nous avons observés, je vous fournis une fonction `representation(x)` qui affiche de manière humainement compréhenseible la représentation machine d'un réel `x`. Cette représentation est consituée de trois informations :\n",
    "- le signe (codé sur 1 bit)\n",
    "- l'exposant de 2 (il est compris entre -1023 et +1023 et est codé sur 11 bits)\n",
    "- la mantisse (c'est à dire les chiffres après la virgule flottante ; elle est codée sur 52 bits)\n",
    "\n",
    "Je ne vous demande pas de comprendre la façon dont cette fonction est codée ; c'est juste un outil à utiliser."
   ]
  },
  {
   "cell_type": "code",
   "execution_count": null,
   "metadata": {},
   "outputs": [],
   "source": [
    "import struct\n",
    "\n",
    "def representation(x):\n",
    "    c = ''.join(f'{b:08b}' for b in struct.pack('>d', x))\n",
    "    if c[0] == \"0\":\n",
    "        signe = \"+\"\n",
    "    else:\n",
    "        signe = \"-\"\n",
    "    print(\"signe    -> \",signe)\n",
    "    print(\"exposant -> \",int(c[1:12],2) - 1023)\n",
    "    print(\"mantisse -> \",c[12:])"
   ]
  },
  {
   "cell_type": "markdown",
   "metadata": {},
   "source": [
    "Cette fonction s'utilise de la façon suivante :"
   ]
  },
  {
   "cell_type": "code",
   "execution_count": null,
   "metadata": {},
   "outputs": [],
   "source": [
    "x = 12456\n",
    "representation(x)"
   ]
  },
  {
   "cell_type": "markdown",
   "metadata": {},
   "source": [
    "Cela signifie que $x$ s'écrit en notation binaire `1.1000010101  2**(13)`\n",
    "\n",
    "Autrement dit : $x = 2^{13} + 2^{12} + 2^7 + 2^5 + 2^3$"
   ]
  },
  {
   "cell_type": "markdown",
   "metadata": {},
   "source": [
    "**Recherche :**\n",
    "Reprenez les exemples vus précédemment, et regardez à chaque étape du calcul la représentation machine des nombres qui entrent en jeu.\n",
    "Essayez de comprendre précisément les causes des phénomènes observés."
   ]
  },
  {
   "cell_type": "code",
   "execution_count": null,
   "metadata": {},
   "outputs": [],
   "source": []
  },
  {
   "cell_type": "markdown",
   "metadata": {},
   "source": [
    "## III. Un exercice sur les solutions d'une équation du second degré"
   ]
  },
  {
   "cell_type": "markdown",
   "metadata": {},
   "source": [
    "On regarde une équation du second degré $ax^2+bx+c=0$. On sait qu'elle possèdes deux solutions réelles :\n",
    "\n",
    "$$\n",
    "x_1 = \\frac{-b + \\sqrt{b^2-4ac}}{2a}  \\qquad  x_2 = \\frac{-b - \\sqrt{b^2-4ac}}{2a} \n",
    "$$\n",
    "\n",
    "On note $f(x) = ax^2 +bx+c$.\n",
    "\n",
    "**Question préliminaire :** Ecrire des fonctions `f(a,b,c,x)`, `x1(a,b,c)`, `x2(a,b,c)`\n"
   ]
  },
  {
   "cell_type": "code",
   "execution_count": null,
   "metadata": {},
   "outputs": [],
   "source": []
  },
  {
   "cell_type": "markdown",
   "metadata": {},
   "source": [
    "**Expérimentation numérique :** On fixe maintenant  `a = 1`, `b = -12345678`, `c = 2`.\n",
    "\n",
    "Calculez les valeurs `x1` et `x2` de $x_1$ et $x_2$ données par ces formules, ainsi que leurs images par `f`.\n",
    "\n",
    "Que constatez-vous ?\n",
    "\n",
    "Calculez une nouvelle approximation `y2` de $x_2$ en utilisant le fait que $x_1x_2 = c$. Calculez $f(x_2)$ en utilisant cette nouvelle approximation.\n",
    "\n",
    "Que constatez-vous ?\n",
    " \n",
    "Que vaut aussi la différence `x2 -y2` ?\n",
    "\n",
    "Essayez d'expliquer ce que vous avez constaté.\n"
   ]
  },
  {
   "cell_type": "code",
   "execution_count": null,
   "metadata": {},
   "outputs": [],
   "source": []
  },
  {
   "cell_type": "code",
   "execution_count": null,
   "metadata": {},
   "outputs": [],
   "source": []
  }
 ],
 "metadata": {
  "kernelspec": {
   "display_name": "Python 3",
   "language": "python",
   "name": "python3"
  },
  "language_info": {
   "codemirror_mode": {
    "name": "ipython",
    "version": 3
   },
   "file_extension": ".py",
   "mimetype": "text/x-python",
   "name": "python",
   "nbconvert_exporter": "python",
   "pygments_lexer": "ipython3",
   "version": "3.7.3"
  }
 },
 "nbformat": 4,
 "nbformat_minor": 2
}
