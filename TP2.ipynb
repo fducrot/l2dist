{
 "cells": [
  {
   "cell_type": "markdown",
   "metadata": {},
   "source": [
    "#### TP 2 noté du 24 mars 2020\n",
    "\n",
    " Le but de ce TP est d'étudier des suites définies par récurrence, dans\n",
    "l'esprit de ce qui a été vu lors du TP précédent au sujet de la suite logistique. Vous pouvez\n",
    "réutiliser (en les adaptant si besoin) tous les programmes  déjà créés en\n",
    "Python, soit dans vos fichiers, soit dans les corrigés disponibles\n",
    "en ligne (ou en créer d'autres) pour observer des phénomènes mathématiques.\n",
    "\n",
    "Ecrivez vos instructions ou programmes Python dans les cases de type In[]\n",
    "Pour faire exécuter, utilisez dans \"Cell\" \"Run cells\" ou le bouton triangle-barre verticale.\n",
    "Attention, pour faire afficher une figure, il faut mettre l'instruction\n",
    "plt.show()\n",
    "\n",
    "Mettez vos reponses en texte dans les autres cadres.\n",
    "A tout moment on peut insérer un bloc de code ou de commentaires supplémentaire à l'aide de l'onglet situé en bout de la 3eme ligne dans le premabule du document. Choisir \"Code\" pour du code ou \"Markdown\" pour un bloc de commentaires. \n",
    "L'insertion se fait avec le bouton \"Insert\".\n",
    "Vous pouvez changer le type d'un bloc en le selectionnant à la souris et en choisissant Code ou Markdown dans la 3eme ligne en haut.\n",
    "Sauvez régulièrement votre travail avec le 1er bouton \"disquette\".\n",
    "A la fin du TP, envoyez-moi le fichier par courrier électronique.\n",
    "\n"
   ]
  },
  {
   "cell_type": "markdown",
   "metadata": {},
   "source": [
    "#### Rappels :  résultats théoriques que vous pouvez utiliser\n",
    "  en y faisant clairement référence.\n",
    "    Pour une suite $(u_n)$ définie par\n",
    "$u_0=a$ ans un intervalle $I$, une fonction $f:I \\to I$ et la relation de récurrence $u_{n+1}=f(u_n)$,   \n",
    "\n",
    "- si $f$ est croissante, la suite $(u_n)$ est monotone et le sens de variation est donné par le signe de $u_1-u_0$;\n",
    "- si $f$ est décroissante, la suite $(u_n)$ n'est pas monotone, mais\n",
    "  les sous-suites $(u_{2k})$ et $(u_{2k+1})$ le sont et de sens contraire;\n",
    "- si $f$ est continue, et si la suite $(u_n)$ converge vers une limite\n",
    "$l$, alors on a nécessairement $f(l)=l$;\n",
    "- si $f$ est de classe C1 sur $I$ ($f$ dérivable et à dérivée continue sur $I$) \n",
    "et si $l$ dans $I$ vérifie $f(l)=l$ (point fixe de $f$)  avec\n",
    "  |$f'(l)|<1$, alors pour tout $a$ proche de $l$ la suite récurrente de\n",
    "  premier terme a convergera vers $l$.\n",
    "\n"
   ]
  },
  {
   "cell_type": "markdown",
   "metadata": {},
   "source": [
    "**Exercice** 1  une suite simple pour commencer\n",
    "\n",
    "On consière la suite $(u_n)$ définie par $u_0>0$ et\n",
    "$u_{n+1}=1+1/u_n$ pour tout $n\\ge0$."
   ]
  },
  {
   "cell_type": "markdown",
   "metadata": {},
   "source": [
    "1) Définir la fonction $f$ (reliant $u_{n+1}$ à $u_n$) associée et faire tracer  son\n",
    "graphe sur $[0,3]$."
   ]
  },
  {
   "cell_type": "code",
   "execution_count": null,
   "metadata": {
    "collapsed": true
   },
   "outputs": [],
   "source": []
  },
  {
   "cell_type": "code",
   "execution_count": null,
   "metadata": {
    "collapsed": true
   },
   "outputs": [],
   "source": []
  },
  {
   "cell_type": "markdown",
   "metadata": {},
   "source": [
    "2) Quel est le comportement (limite éventuelle, croissance, décroissance) de $(u_n)$ lorsque $n$ tend vers $+\\infty$ ?\n",
    "Quelle est l’influence de $u_0$ ?\n",
    "Vous pouvez illustrer votre réponse en utilisant les diagrammes qui vous semblent appropriés"
   ]
  },
  {
   "cell_type": "code",
   "execution_count": null,
   "metadata": {
    "collapsed": true
   },
   "outputs": [],
   "source": []
  },
  {
   "cell_type": "code",
   "execution_count": null,
   "metadata": {
    "collapsed": true
   },
   "outputs": [],
   "source": []
  },
  {
   "cell_type": "markdown",
   "metadata": {},
   "source": [
    "Réponses :\n",
    "\n",
    "\n",
    "\n",
    "\n",
    "\n",
    "\n",
    "\n"
   ]
  },
  {
   "cell_type": "code",
   "execution_count": null,
   "metadata": {
    "collapsed": true
   },
   "outputs": [],
   "source": []
  },
  {
   "cell_type": "code",
   "execution_count": null,
   "metadata": {
    "collapsed": true
   },
   "outputs": [],
   "source": []
  },
  {
   "cell_type": "markdown",
   "metadata": {},
   "source": [
    "3)\n",
    "a) Pouvez-vous prouver le comportement observé à l’aide des rappels théoriques cités plus haut ?"
   ]
  },
  {
   "cell_type": "markdown",
   "metadata": {
    "collapsed": true
   },
   "source": [
    "\n",
    "\n",
    "\n"
   ]
  },
  {
   "cell_type": "markdown",
   "metadata": {},
   "source": [
    "b) Quelle est l’expression théorique de la limite  $\\ell$ de $(u_n)$ ?"
   ]
  },
  {
   "cell_type": "markdown",
   "metadata": {
    "collapsed": true
   },
   "source": []
  },
  {
   "cell_type": "markdown",
   "metadata": {
    "collapsed": true
   },
   "source": [
    "c) Confrontez avec la valeur expérimentale observée."
   ]
  },
  {
   "cell_type": "markdown",
   "metadata": {},
   "source": [
    "\n"
   ]
  },
  {
   "cell_type": "markdown",
   "metadata": {},
   "source": [
    "### **Exercice II** une suite avec paramètre\n",
    "\n",
    "On considère la suite $(v_n)$ définie par $v_0 \\in [0, 1]$ et la relation $v_{n+1} = \\sin(c ∗ v_n )$ pour tout $n \\ge0$\n",
    "où $c> 0$ est un paramètre réel."
   ]
  },
  {
   "cell_type": "markdown",
   "metadata": {
    "collapsed": true
   },
   "source": [
    "1) Définir la fonction $g_c$ associée $g_c : x \\to \\sin(c*x)$ et faire tracer son graphe sur $[0, \\pi]$ pour différentes valeurs de $c$ entre $0 $ et $\\pi$."
   ]
  },
  {
   "cell_type": "code",
   "execution_count": null,
   "metadata": {
    "collapsed": true
   },
   "outputs": [],
   "source": []
  },
  {
   "cell_type": "code",
   "execution_count": null,
   "metadata": {
    "collapsed": true
   },
   "outputs": [],
   "source": []
  },
  {
   "cell_type": "code",
   "execution_count": null,
   "metadata": {
    "collapsed": true
   },
   "outputs": [],
   "source": []
  },
  {
   "cell_type": "markdown",
   "metadata": {},
   "source": [
    "2) On considère d’abord le cas où $0 \\le c \\le 1$.\n",
    "Quel est le comportement de $(v _n)$ lorsque $n \\to +\\infty$ ?"
   ]
  },
  {
   "cell_type": "code",
   "execution_count": null,
   "metadata": {
    "collapsed": true
   },
   "outputs": [],
   "source": []
  },
  {
   "cell_type": "code",
   "execution_count": null,
   "metadata": {
    "collapsed": true
   },
   "outputs": [],
   "source": []
  },
  {
   "cell_type": "markdown",
   "metadata": {},
   "source": [
    "3) On considère maintenant le cas où $1 < c \\le \\pi/2$.\n",
    "a) Quel est le comportement de $(v _n)$ lorsque $n \\to +\\infty$ ?"
   ]
  },
  {
   "cell_type": "code",
   "execution_count": null,
   "metadata": {
    "collapsed": true
   },
   "outputs": [],
   "source": []
  },
  {
   "cell_type": "code",
   "execution_count": null,
   "metadata": {
    "collapsed": true
   },
   "outputs": [],
   "source": []
  },
  {
   "cell_type": "code",
   "execution_count": null,
   "metadata": {
    "collapsed": true
   },
   "outputs": [],
   "source": []
  },
  {
   "cell_type": "markdown",
   "metadata": {},
   "source": [
    "b) Ecrire un programme limite(c,v0,h) donnant une approximation à $h$ près de la limite $L$ de\n",
    "$(v_n)$ de premier terme $v_0$ pour la valeur $c$. Pour cela, on calculera les valeurs successives de $v_n$ tant\n",
    "que $|v_n − v_{n−1} | > h$.\n",
    "Appliquer par exemple à $h = 10^{−16}$ et $c = 1/2$."
   ]
  },
  {
   "cell_type": "code",
   "execution_count": null,
   "metadata": {
    "collapsed": true
   },
   "outputs": [],
   "source": []
  },
  {
   "cell_type": "code",
   "execution_count": null,
   "metadata": {
    "collapsed": true
   },
   "outputs": [],
   "source": []
  },
  {
   "cell_type": "code",
   "execution_count": null,
   "metadata": {
    "collapsed": true
   },
   "outputs": [],
   "source": []
  },
  {
   "cell_type": "markdown",
   "metadata": {},
   "source": [
    "4) On considère maintenant le cas où $\\pi/2 < c \\le \\pi$.\n",
    "Observer et noter les différents comportements de $(v_n) $ en $+\\infty$ lorsque $c$ augmente. Déterminer de\n",
    "façon expérimentale la valeur $c_0$ de $c$ où le comportement change."
   ]
  },
  {
   "cell_type": "code",
   "execution_count": null,
   "metadata": {
    "collapsed": true
   },
   "outputs": [],
   "source": [
    "\n",
    "    "
   ]
  },
  {
   "cell_type": "code",
   "execution_count": null,
   "metadata": {
    "collapsed": true
   },
   "outputs": [],
   "source": []
  },
  {
   "cell_type": "markdown",
   "metadata": {},
   "source": []
  },
  {
   "cell_type": "code",
   "execution_count": null,
   "metadata": {
    "collapsed": true
   },
   "outputs": [],
   "source": []
  },
  {
   "cell_type": "markdown",
   "metadata": {},
   "source": [
    "5) Que se passe-t-il si $c$ dépasse $\\pi$ ?"
   ]
  },
  {
   "cell_type": "code",
   "execution_count": null,
   "metadata": {
    "collapsed": true
   },
   "outputs": [],
   "source": []
  },
  {
   "cell_type": "markdown",
   "metadata": {},
   "source": [
    "\n"
   ]
  }
 ],
 "metadata": {
  "kernelspec": {
   "display_name": "Python 3",
   "language": "python",
   "name": "python3"
  },
  "language_info": {
   "codemirror_mode": {
    "name": "ipython",
    "version": 3
   },
   "file_extension": ".py",
   "mimetype": "text/x-python",
   "name": "python",
   "nbconvert_exporter": "python",
   "pygments_lexer": "ipython3",
   "version": "3.6.3"
  }
 },
 "nbformat": 4,
 "nbformat_minor": 2
}
